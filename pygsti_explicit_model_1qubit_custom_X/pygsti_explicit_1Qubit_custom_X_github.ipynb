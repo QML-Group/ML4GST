{
  "nbformat": 4,
  "nbformat_minor": 0,
  "metadata": {
    "colab": {
      "provenance": [],
      "gpuType": "T4"
    },
    "kernelspec": {
      "name": "python3",
      "display_name": "Python 3"
    },
    "language_info": {
      "name": "python"
    },
    "accelerator": "GPU"
  },
  "cells": [
    {
      "cell_type": "code",
      "source": [
        "# Google Colab specific code for mounting Google Drive\n",
        "from google.colab import drive\n",
        "drive.mount('/content/drive')\n",
        "\n",
        "# # Define the directory path on your Google Drive\n",
        "# # Replace 'Your_directory' with the actual directory\n",
        "# directory = '/content/drive/My Drive/Colab Notebooks/ML4GST/'\n",
        "\n",
        "# # Now use this directory for reading and writing data\n",
        "# data_template_filename = directory + \"dataset.txt\"\n",
        "# gst_dir = directory + \"test_gst_dir\""
      ],
      "metadata": {
        "colab": {
          "base_uri": "https://localhost:8080/"
        },
        "id": "Zd1H8cDcvaHr",
        "outputId": "0f216e83-ab02-42e3-c29f-e21d670aa2e2"
      },
      "execution_count": 1,
      "outputs": [
        {
          "output_type": "stream",
          "name": "stdout",
          "text": [
            "Mounted at /content/drive\n"
          ]
        }
      ]
    },
    {
      "cell_type": "code",
      "source": [
        "%cd /content/drive/MyDrive/Colab Notebooks/ML4GST"
      ],
      "metadata": {
        "id": "0RJyTecyWOVa",
        "colab": {
          "base_uri": "https://localhost:8080/"
        },
        "outputId": "7ea89c7e-13f2-4ae8-e770-39de1b25ecca"
      },
      "execution_count": 2,
      "outputs": [
        {
          "output_type": "stream",
          "name": "stdout",
          "text": [
            "/content/drive/MyDrive/Colab Notebooks/ML4GST\n"
          ]
        }
      ]
    },
    {
      "cell_type": "code",
      "execution_count": null,
      "metadata": {
        "colab": {
          "base_uri": "https://localhost:8080/"
        },
        "id": "vDzCiN2Ru6ky",
        "outputId": "e1988c5a-4220-4be7-b4ea-8cf46e201261"
      },
      "outputs": [
        {
          "output_type": "stream",
          "name": "stdout",
          "text": [
            "Collecting pygsti\n",
            "  Downloading pyGSTi-0.9.11.1.tar.gz (17.6 MB)\n",
            "\u001b[2K     \u001b[90m━━━━━━━━━━━━━━━━━━━━━━━━━━━━━━━━━━━━━━━━\u001b[0m \u001b[32m17.6/17.6 MB\u001b[0m \u001b[31m93.3 MB/s\u001b[0m eta \u001b[36m0:00:00\u001b[0m\n",
            "\u001b[?25h  Installing build dependencies ... \u001b[?25l\u001b[?25hdone\n",
            "  Getting requirements to build wheel ... \u001b[?25l\u001b[?25hdone\n",
            "  Preparing metadata (pyproject.toml) ... \u001b[?25l\u001b[?25hdone\n",
            "Requirement already satisfied: numpy>=1.15.0 in /usr/local/lib/python3.10/dist-packages (from pygsti) (1.22.4)\n",
            "Requirement already satisfied: scipy in /usr/local/lib/python3.10/dist-packages (from pygsti) (1.10.1)\n",
            "Requirement already satisfied: plotly in /usr/local/lib/python3.10/dist-packages (from pygsti) (5.13.1)\n",
            "Requirement already satisfied: pandas in /usr/local/lib/python3.10/dist-packages (from pygsti) (1.5.3)\n",
            "Requirement already satisfied: python-dateutil>=2.8.1 in /usr/local/lib/python3.10/dist-packages (from pandas->pygsti) (2.8.2)\n",
            "Requirement already satisfied: pytz>=2020.1 in /usr/local/lib/python3.10/dist-packages (from pandas->pygsti) (2022.7.1)\n",
            "Requirement already satisfied: tenacity>=6.2.0 in /usr/local/lib/python3.10/dist-packages (from plotly->pygsti) (8.2.2)\n",
            "Requirement already satisfied: six>=1.5 in /usr/local/lib/python3.10/dist-packages (from python-dateutil>=2.8.1->pandas->pygsti) (1.16.0)\n",
            "Building wheels for collected packages: pygsti\n",
            "  Building wheel for pygsti (pyproject.toml) ... \u001b[?25l\u001b[?25hdone\n",
            "  Created wheel for pygsti: filename=pyGSTi-0.9.11.1-cp310-cp310-linux_x86_64.whl size=16637189 sha256=6048426155e400d7d7b7a4d1060a962126c7a015205f651ecf73ea4d67168faf\n",
            "  Stored in directory: /root/.cache/pip/wheels/0c/e2/66/a0b57654bd57deac92b450f0e8969fe7021fab78e556a15d23\n",
            "Successfully built pygsti\n",
            "Installing collected packages: pygsti\n",
            "Successfully installed pygsti-0.9.11.1\n"
          ]
        }
      ],
      "source": [
        "pip install pygsti"
      ]
    },
    {
      "cell_type": "code",
      "source": [
        "import pygsti\n",
        "import pygsti.algorithms.fiducialselection as fidsel\n",
        "import pygsti.algorithms.germselection as germsel\n",
        "import numpy as np\n",
        "import pandas as pd\n",
        "\n",
        "# Define the Pauli Transfer Matrices for the gates\n",
        "# I = np.array([[1, 0, 0, 0], [0, 1, 0, 0], [0, 0, 1, 0], [0, 0, 0, 1]])\n",
        "# X_pi_4 = np.array([[1, 0, 0, 0], [0, 1, 0, 0], [0, 0, np.cos(np.pi/4), -np.sin(np.pi/4)], [0, 0, np.sin(np.pi/4), np.cos(np.pi/4)]])\n",
        "# Y_pi_2 = np.array([[1, 0, 0, 0], [0, np.cos(np.pi/2), 0, np.sin(np.pi/2)], [0, 0, 1, 0], [0, -np.sin(np.pi/2), 0, np.cos(np.pi/2)]])\n",
        "\n",
        "# Create the explicit model\n",
        "target_model = pygsti.models.create_explicit_model_from_expressions(\n",
        "    [('Q0',)], ['Gi', 'Gx', 'Gy'],\n",
        "    [\"I(Q0)\", \"X(pi/4,Q0)\", \"Y(pi/2,Q0)\"])\n",
        "\n",
        "# Automatic selection of fiducials and germs using \"laissez-faire\" method\n",
        "prepFiducials, measFiducials = fidsel.find_fiducials(target_model)\n",
        "germs = germsel.find_germs(target_model, seed = 1234)\n",
        "\n",
        "# Generate a list of circuits using the long-sequence gate set tomography (LSGST) method\n",
        "maxLengths = [2**n for n in range(5)]\n",
        "listOfExperiments = pygsti.circuits.create_lsgst_circuits(\n",
        "    target_model, prepFiducials, measFiducials, germs, maxLengths)\n",
        "\n",
        "# Simulate the probability outcomes of these circuits\n",
        "ds = pygsti.data.simulate_data(target_model, listOfExperiments, num_samples=1000,\n",
        "                                            sample_error=\"binomial\", seed=1234)\n",
        "# print(ds)\n",
        "\n",
        "pygsti.io.write_dataset(\"Custom_1Q_XYI_dataset.txt\", ds, outcome_label_order=['0','1'])\n",
        "\n",
        "# Convert the probabilities to a DataFrame and save to a CSV file\n",
        "\n",
        "\n"
      ],
      "metadata": {
        "colab": {
          "base_uri": "https://localhost:8080/"
        },
        "id": "ZLOeLti-u9tg",
        "outputId": "50323743-8a3c-4208-cf19-34ce3de10077"
      },
      "execution_count": null,
      "outputs": [
        {
          "output_type": "stream",
          "name": "stdout",
          "text": [
            "Initial Length Available Fiducial List: 7\n",
            "Length Available Fiducial List Dropped Identities and Duplicates: 7\n",
            "Using GRASP algorithm.\n",
            "Preparation fiducials:\n",
            "['{}', 'GyGy', 'GxGx', 'Gy']\n",
            "Score: 32.0\n",
            "Measurement fiducials:\n",
            "['{}', 'Gy', 'GxGx']\n",
            "Score: 9.999999999999996\n",
            "Initial Length Available Germ List: 196\n",
            "Length Available Germ List After Deduping: 59\n",
            "Length Available Germ List After Dropping Random Fraction: 59\n",
            "Length Available Germ List After Adding Back In Forced Germs: 59\n",
            "Memory estimate of 0.0 GB for all-Jac mode.\n",
            "Memory estimate of 0.0 GB for single-Jac mode.\n",
            "Using greedy algorithm.\n",
            "Constructed germ set:\n",
            "['Gi', 'Gx', 'Gy', 'GxGxGy', 'GiGxGx', 'GiGyGx', 'GiGyGxGxGyGy', 'GiGyGyGyGxGx', 'GxGxGyGxGyGy', 'GiGxGyGyGyGx']\n",
            "Score: major=-34.0 minor=711.6500383006758, N: 34\n"
          ]
        }
      ]
    },
    {
      "cell_type": "code",
      "source": [
        "import math\n",
        "import numpy as np\n",
        "import pandas as pd\n",
        "import tensorflow as tf\n",
        "from tensorflow.keras.models import Sequential\n",
        "from tensorflow.keras.layers import Dense, Lambda\n",
        "from sklearn.model_selection import train_test_split\n",
        "from tensorflow.keras.losses import MeanSquaredError\n",
        "from tensorflow.keras.optimizers import Adam\n",
        "\n",
        "# Load data\n",
        "df = pd.read_csv('Encoded_Padded_Probabilities.csv')\n",
        "\n",
        "# Split data into features (X) and labels (y)\n",
        "X = df['Padded'].apply(lambda x: [int(xi) for xi in x.rstrip(',').split(',')]).to_list()\n",
        "y = df[['Prob_1', 'Prob_2']].values\n",
        "\n",
        "# Split data into training and test sets\n",
        "X_train, X_test, y_train, y_test = train_test_split(X, y, test_size=0.2, random_state=42)\n",
        "\n",
        "X_train = np.array(X_train)\n",
        "X_test = np.array(X_test)\n",
        "y_train = np.array(y_train)\n",
        "y_test = np.array(y_test)"
      ],
      "metadata": {
        "id": "6XTVMibkMAOZ"
      },
      "execution_count": 3,
      "outputs": []
    },
    {
      "cell_type": "code",
      "source": [
        "# Define model\n",
        "model = Sequential([\n",
        "    Dense(128, activation='relu', input_shape=(len(X_train[0]),)),\n",
        "    Dense(64, activation='relu'),\n",
        "    Dense(32, activation='relu'),\n",
        "    Dense(1, activation='sigmoid')  # Sigmoid function outputs in the range [0, 1]\n",
        "])\n",
        "\n",
        "# Scale model output to range [0, 2pi]\n",
        "scaling_layer = Lambda(lambda x: x * 2 * math.pi)\n",
        "model.add(scaling_layer)\n",
        "\n",
        "# Compile model\n",
        "model.compile(optimizer='adam', loss='mean_squared_error')\n",
        "\n",
        "# Lists to record losses\n",
        "train_losses = []\n",
        "val_losses = []\n",
        "\n",
        "# Define gate application function\n",
        "def apply_gate(state, theta_value, label):\n",
        "    # Construct arrays using NumPy\n",
        "    # Define gates in PTM form\n",
        "    I_np = np.array([[1, 0, 0, 0],\n",
        "                    [0, 1, 0, 0],\n",
        "                    [0, 0, 1, 0],\n",
        "                    [0, 0, 0, 1]], dtype=np.float32)  #Gi\n",
        "\n",
        "    Y_pi_2_np = np.array([[1, 0, 0, 0],\n",
        "                          [0, np.cos(np.pi/2), 0, np.sin(np.pi/2)],\n",
        "                          [0, 0, 1, 0],\n",
        "                          [0, -np.sin(np.pi/2), 0, np.cos(np.pi/2)]], dtype=np.float32) #Gy\n",
        "\n",
        "    # Normalized State corresponding to |0⟩ in Pauli basis\n",
        "    # state_np = np.array([1/np.sqrt(2), 0, 0, 1/np.sqrt(2)], dtype=np.float32)\n",
        "\n",
        "    # Convert NumPy arrays to TensorFlow tensors\n",
        "    I = tf.convert_to_tensor(I_np)\n",
        "    Y_pi_2 = tf.convert_to_tensor(Y_pi_2_np)\n",
        "    # state = tf.convert_to_tensor(state_np)\n",
        "\n",
        "    X_theta = tf.convert_to_tensor([[1, 0, 0, 0], [0, tf.math.cos(theta_value), 0, tf.math.sin(theta_value)],\n",
        "                           [0, 0, 1, 0], [0, -tf.math.sin(theta_value), 0, tf.math.cos(theta_value)]], dtype=tf.float32)  # Gx\n",
        "    # print('current label: ', label)\n",
        "\n",
        "    if label == 1:\n",
        "        return tf.linalg.matmul(X_theta, tf.reshape(state, [-1, 1]))\n",
        "    elif label == 2:\n",
        "        return tf.linalg.matmul(Y_pi_2, tf.reshape(state, [-1, 1]))\n",
        "    elif label == 3:\n",
        "        return tf.linalg.matmul(I, tf.reshape(state, [-1, 1]))\n",
        "    else:\n",
        "        return state  # If label is 0, don't apply any gate\n",
        "\n",
        "\n",
        "def apply_gate_sequence(single_gate_sequence):\n",
        "    # Initialize state in Pauli basis\n",
        "    state = tf.convert_to_tensor([1/np.sqrt(2), 0, 0, 1/np.sqrt(2)], dtype=tf.float32)\n",
        "\n",
        "  # Apply each gate in the sequence\n",
        "    theta_value = model(single_gate_sequence[tf.newaxis, :]) # Predict theta for the current gate\n",
        "    # print('theta_value: ', theta_value)\n",
        "    theta_value = tf.squeeze(theta_value)\n",
        "    # print('squeezed theta_value: ', theta_value)\n",
        "    for i in range(tf.shape(single_gate_sequence)[0]):\n",
        "      if single_gate_sequence[i] == 0:\n",
        "        break\n",
        "      # print('tf.shape(single_gate_sequence): ', tf.shape(single_gate_sequence))\n",
        "      # print('tf.shape(single_gate_sequence[0]): ', tf.shape(single_gate_sequence)[0])\n",
        "      # print('single_gate_sequence[i]: ', single_gate_sequence[i])\n",
        "      state = apply_gate(state, theta_value, single_gate_sequence[i])\n",
        "      # print('current state: ', state)\n",
        "\n",
        "    return state\n",
        "\n",
        "\n",
        "def compute_probabilities(ptm_vector):\n",
        "    # PTM representations for |0> and |1> states\n",
        "    ptm_0 = tf.constant([1, 0, 0, 1], dtype=tf.float32)\n",
        "    ptm_1 = tf.constant([1, 0, 0, -1], dtype=tf.float32)\n",
        "    # ptm_0 = tf.convert_to_tensor([1, 0, 0, 1], dtype=tf.float32)\n",
        "    # ptm_1 = tf.convert_to_tensor([1, 0, 0, -1], dtype=tf.float32)\n",
        "\n",
        "    # Normalize the vectors\n",
        "    ptm_vector = tf.squeeze(tf.linalg.l2_normalize(ptm_vector))\n",
        "    ptm_0 = tf.linalg.l2_normalize(ptm_0)\n",
        "    ptm_1 = tf.linalg.l2_normalize(ptm_1)\n",
        "\n",
        "    # Compute dot products\n",
        "    prob_0 = tf.tensordot(ptm_vector, ptm_0, axes=1)\n",
        "    prob_1 = tf.tensordot(ptm_vector, ptm_1, axes=1)\n",
        "\n",
        "    return tf.stack([prob_0, prob_1])\n",
        "\n",
        "\n",
        "# Define loss function\n",
        "loss_fn = MeanSquaredError()\n",
        "\n",
        "# Define optimizer\n",
        "optimizer = Adam()\n",
        "\n",
        "# Define training loop\n",
        "def train_step(X, y):\n",
        "    with tf.GradientTape() as tape:\n",
        "      batched_final_states = []\n",
        "      batched_probabilities = []\n",
        "\n",
        "      # Process each sequence in the batch individually\n",
        "      for i in range(tf.shape(X)[0]):\n",
        "          single_sequence = tf.gather(X, i, axis=0)\n",
        "          final_state = apply_gate_sequence(single_sequence)\n",
        "          probabilities = compute_probabilities(final_state)\n",
        "          batched_final_states.append(final_state)\n",
        "          # print('batched_final_states: ', batched_final_states)\n",
        "          batched_probabilities.append(probabilities)\n",
        "          # print('batched_probabilities: ', batched_probabilities)\n",
        "\n",
        "      batched_final_states = tf.stack(batched_final_states)\n",
        "      # print('batched_final_states: ', batched_final_states)\n",
        "      # print('batched_final_states.shape: ', batched_final_states.shape)\n",
        "      batched_probabilities = tf.stack(batched_probabilities)\n",
        "      # print('batched_probabilities: ', batched_probabilities)\n",
        "      # print('batched_probabilities.shape: ', batched_probabilities.shape)\n",
        "\n",
        "\n",
        "      loss = loss_fn(y, batched_probabilities)\n",
        "      # print('loss: ', loss)\n",
        "\n",
        "    grads = tape.gradient(loss, model.trainable_weights)\n",
        "    optimizer.apply_gradients(zip(grads, model.trainable_weights))\n",
        "    return loss\n",
        "\n",
        "\n",
        "# Define validation loop (similar to training loop but without gradients)\n",
        "def validate_step(X, y, print_results = False):\n",
        "    batched_final_states = []\n",
        "    batched_probabilities = []\n",
        "    batched_thetas = []\n",
        "\n",
        "    for i in range(tf.shape(X)[0]):\n",
        "        single_sequence = tf.gather(X, i, axis=0)\n",
        "        final_state = apply_gate_sequence(single_sequence)\n",
        "        probabilities = compute_probabilities(final_state)\n",
        "        batched_final_states.append(final_state)\n",
        "        batched_probabilities.append(probabilities)\n",
        "        if print_results == True:\n",
        "            theta_value = model(single_sequence[tf.newaxis, :]) # Predict theta for the current gate\n",
        "            theta_value = tf.squeeze(theta_value)\n",
        "            batched_thetas.append(theta_value)\n",
        "\n",
        "    batched_final_states = tf.stack(batched_final_states)\n",
        "    batched_probabilities = tf.stack(batched_probabilities)\n",
        "    loss = loss_fn(y, batched_probabilities)\n",
        "    if print_results == True:\n",
        "      print('batched_thetas: ', batched_thetas)\n",
        "    return loss"
      ],
      "metadata": {
        "id": "rSc7GUbxdydS"
      },
      "execution_count": 4,
      "outputs": []
    },
    {
      "cell_type": "code",
      "source": [
        "# Training loop\n",
        "EPOCHS = 50\n",
        "BATCH_SIZE = 32\n",
        "for epoch in range(EPOCHS):  # Number of epochs\n",
        "    for i in range(0, len(X_train), BATCH_SIZE):  # Batch size\n",
        "        X_batch = X_train[i:i+BATCH_SIZE]\n",
        "        y_batch = y_train[i:i+BATCH_SIZE]\n",
        "\n",
        "        # print('X_batch.shape: ', X_batch.shape)\n",
        "        # print('y_batch.shape: ', y_batch.shape)\n",
        "\n",
        "    train_loss = train_step(X_train, y_train)\n",
        "    val_loss = validate_step(X_test, y_test)\n",
        "    train_losses.append(train_loss)\n",
        "    val_losses.append(val_loss)\n",
        "    print(f\"Epoch: {epoch+1}, Train Loss: {train_loss.numpy()}, Validation Loss: {val_loss.numpy()}\")"
      ],
      "metadata": {
        "colab": {
          "base_uri": "https://localhost:8080/"
        },
        "id": "w7buJL9YyU-b",
        "outputId": "5863d8dc-184f-4db0-9709-8afe2c4132f9"
      },
      "execution_count": null,
      "outputs": [
        {
          "output_type": "stream",
          "name": "stderr",
          "text": [
            "WARNING:tensorflow:5 out of the last 5 calls to <function _BaseOptimizer._update_step_xla at 0x7f2ec66e0f70> triggered tf.function retracing. Tracing is expensive and the excessive number of tracings could be due to (1) creating @tf.function repeatedly in a loop, (2) passing tensors with different shapes, (3) passing Python objects instead of tensors. For (1), please define your @tf.function outside of the loop. For (2), @tf.function has reduce_retracing=True option that can avoid unnecessary retracing. For (3), please refer to https://www.tensorflow.org/guide/function#controlling_retracing and https://www.tensorflow.org/api_docs/python/tf/function for  more details.\n",
            "WARNING:tensorflow:6 out of the last 6 calls to <function _BaseOptimizer._update_step_xla at 0x7f2ec66e0f70> triggered tf.function retracing. Tracing is expensive and the excessive number of tracings could be due to (1) creating @tf.function repeatedly in a loop, (2) passing tensors with different shapes, (3) passing Python objects instead of tensors. For (1), please define your @tf.function outside of the loop. For (2), @tf.function has reduce_retracing=True option that can avoid unnecessary retracing. For (3), please refer to https://www.tensorflow.org/guide/function#controlling_retracing and https://www.tensorflow.org/api_docs/python/tf/function for  more details.\n"
          ]
        },
        {
          "output_type": "stream",
          "name": "stdout",
          "text": [
            "Epoch: 1, Train Loss: 0.17836721241474152, Validation Loss: 0.1889510601758957\n",
            "Epoch: 2, Train Loss: 0.17375397682189941, Validation Loss: 0.15689390897750854\n",
            "Epoch: 3, Train Loss: 0.16397175192832947, Validation Loss: 0.18113498389720917\n",
            "Epoch: 4, Train Loss: 0.14897491037845612, Validation Loss: 0.18449343740940094\n",
            "Epoch: 5, Train Loss: 0.1475483924150467, Validation Loss: 0.17349189519882202\n",
            "Epoch: 6, Train Loss: 0.14036546647548676, Validation Loss: 0.16169938445091248\n",
            "Epoch: 7, Train Loss: 0.13657544553279877, Validation Loss: 0.16672584414482117\n",
            "Epoch: 8, Train Loss: 0.12948285043239594, Validation Loss: 0.17110013961791992\n",
            "Epoch: 9, Train Loss: 0.12643134593963623, Validation Loss: 0.1736517995595932\n",
            "Epoch: 10, Train Loss: 0.11998146027326584, Validation Loss: 0.17011892795562744\n",
            "Epoch: 11, Train Loss: 0.11637027561664581, Validation Loss: 0.17585258185863495\n",
            "Epoch: 12, Train Loss: 0.11237902194261551, Validation Loss: 0.17740531265735626\n",
            "Epoch: 13, Train Loss: 0.10909003764390945, Validation Loss: 0.16596169769763947\n",
            "Epoch: 14, Train Loss: 0.10448852926492691, Validation Loss: 0.16008798778057098\n",
            "Epoch: 15, Train Loss: 0.10183960944414139, Validation Loss: 0.161532923579216\n",
            "Epoch: 16, Train Loss: 0.09943106770515442, Validation Loss: 0.15859948098659515\n",
            "Epoch: 17, Train Loss: 0.09668879210948944, Validation Loss: 0.16076545417308807\n",
            "Epoch: 18, Train Loss: 0.0948101356625557, Validation Loss: 0.16515246033668518\n",
            "Epoch: 19, Train Loss: 0.09282974898815155, Validation Loss: 0.16138307750225067\n",
            "Epoch: 20, Train Loss: 0.09028702974319458, Validation Loss: 0.16205167770385742\n",
            "Epoch: 21, Train Loss: 0.08839262276887894, Validation Loss: 0.16574817895889282\n",
            "Epoch: 22, Train Loss: 0.08697313070297241, Validation Loss: 0.16272735595703125\n",
            "Epoch: 23, Train Loss: 0.08551835268735886, Validation Loss: 0.16567759215831757\n",
            "Epoch: 24, Train Loss: 0.08334869891405106, Validation Loss: 0.16278673708438873\n",
            "Epoch: 25, Train Loss: 0.08164277672767639, Validation Loss: 0.15778279304504395\n",
            "Epoch: 26, Train Loss: 0.08062978088855743, Validation Loss: 0.1584756076335907\n",
            "Epoch: 27, Train Loss: 0.07944919168949127, Validation Loss: 0.15414072573184967\n",
            "Epoch: 28, Train Loss: 0.07802803069353104, Validation Loss: 0.15374192595481873\n",
            "Epoch: 29, Train Loss: 0.07678356766700745, Validation Loss: 0.15518760681152344\n",
            "Epoch: 30, Train Loss: 0.075766421854496, Validation Loss: 0.15171916782855988\n",
            "Epoch: 31, Train Loss: 0.07481817901134491, Validation Loss: 0.1557151824235916\n",
            "Epoch: 32, Train Loss: 0.07357851415872574, Validation Loss: 0.15140104293823242\n",
            "Epoch: 33, Train Loss: 0.07225672900676727, Validation Loss: 0.15436525642871857\n",
            "Epoch: 34, Train Loss: 0.07102321833372116, Validation Loss: 0.14978423714637756\n",
            "Epoch: 35, Train Loss: 0.06981923431158066, Validation Loss: 0.15386439859867096\n",
            "Epoch: 36, Train Loss: 0.06864867359399796, Validation Loss: 0.15130417048931122\n",
            "Epoch: 37, Train Loss: 0.06749280542135239, Validation Loss: 0.1561097353696823\n",
            "Epoch: 38, Train Loss: 0.06666653603315353, Validation Loss: 0.15066732466220856\n",
            "Epoch: 39, Train Loss: 0.06606239080429077, Validation Loss: 0.15639257431030273\n",
            "Epoch: 40, Train Loss: 0.06583062559366226, Validation Loss: 0.14735573530197144\n",
            "Epoch: 41, Train Loss: 0.06490105390548706, Validation Loss: 0.1545601636171341\n",
            "Epoch: 42, Train Loss: 0.06380821764469147, Validation Loss: 0.14879123866558075\n",
            "Epoch: 43, Train Loss: 0.061945050954818726, Validation Loss: 0.1506129652261734\n",
            "Epoch: 44, Train Loss: 0.060883164405822754, Validation Loss: 0.15505850315093994\n",
            "Epoch: 45, Train Loss: 0.060594502836465836, Validation Loss: 0.15030905604362488\n",
            "Epoch: 46, Train Loss: 0.06016909331083298, Validation Loss: 0.15626287460327148\n",
            "Epoch: 47, Train Loss: 0.059353962540626526, Validation Loss: 0.1492839902639389\n",
            "Epoch: 48, Train Loss: 0.05791284143924713, Validation Loss: 0.14899682998657227\n",
            "Epoch: 49, Train Loss: 0.05674801021814346, Validation Loss: 0.1505294144153595\n",
            "Epoch: 50, Train Loss: 0.05630156025290489, Validation Loss: 0.14822620153427124\n"
          ]
        }
      ]
    },
    {
      "cell_type": "code",
      "source": [
        "model.save('my_model.h5')"
      ],
      "metadata": {
        "id": "ozjhzlLFJc9j"
      },
      "execution_count": null,
      "outputs": []
    },
    {
      "cell_type": "code",
      "source": [
        "model = tf.keras.models.load_model('my_model.h5')"
      ],
      "metadata": {
        "id": "RZbr3DldMg5L"
      },
      "execution_count": 5,
      "outputs": []
    },
    {
      "cell_type": "code",
      "source": [
        "# Plotting training and validation losses\n",
        "import matplotlib.pyplot as plt\n",
        "\n",
        "plt.figure(figsize=(12, 6))\n",
        "plt.plot(train_losses, label='Training Loss')\n",
        "plt.plot(val_losses, label='Validation Loss')\n",
        "plt.xlabel('Epochs')\n",
        "plt.ylabel('Loss')\n",
        "plt.legend()\n",
        "plt.title('Training and Validation Losses')\n",
        "plt.show()"
      ],
      "metadata": {
        "colab": {
          "base_uri": "https://localhost:8080/",
          "height": 564
        },
        "id": "aL6iMAOhH2nj",
        "outputId": "c9dc730f-97a2-42ee-f16e-7ba5b1fc1061"
      },
      "execution_count": null,
      "outputs": [
        {
          "output_type": "display_data",
          "data": {
            "text/plain": [
              "<Figure size 1200x600 with 1 Axes>"
            ],
            "image/png": "[encoded data removed]"
          },
          "metadata": {}
        }
      ]
    },
    {
      "cell_type": "code",
      "source": [
        "# Convert the recorded losses into a DataFrame\n",
        "loss_df = pd.DataFrame({\n",
        "    'Epoch': list(range(1, EPOCHS + 1)),\n",
        "    'Training_Loss': train_losses,\n",
        "    'Validation_Loss': val_losses\n",
        "})\n",
        "\n",
        "# Save the DataFrame to a CSV file\n",
        "loss_df.to_csv('losses.csv', index=False)\n"
      ],
      "metadata": {
        "id": "f0vf6jwkNtYD"
      },
      "execution_count": null,
      "outputs": []
    },
    {
      "cell_type": "code",
      "source": [
        "# Function to sample part of the training data and evaluate model's performance\n",
        "def sample_and_evaluate(num_samples=10):\n",
        "    indices = np.random.choice(len(X_train), size=num_samples, replace=False)\n",
        "    sampled_X = X_train[indices]\n",
        "    sampled_y = y_train[indices]\n",
        "    loss = validate_step(sampled_X, sampled_y, print_results = True)\n",
        "    print(f\"Loss on sampled data: {loss.numpy()}\")\n",
        "    return loss.numpy()"
      ],
      "metadata": {
        "id": "Vd-mE6MJH48G"
      },
      "execution_count": 6,
      "outputs": []
    },
    {
      "cell_type": "code",
      "source": [
        "sample_and_evaluate()"
      ],
      "metadata": {
        "colab": {
          "base_uri": "https://localhost:8080/"
        },
        "id": "aurMt4AwNa40",
        "outputId": "0e3f1f99-06c4-48ec-fc74-d65fbc0a8dac"
      },
      "execution_count": 7,
      "outputs": [
        {
          "output_type": "stream",
          "name": "stdout",
          "text": [
            "batched_thetas:  [<tf.Tensor: shape=(), dtype=float32, numpy=3.0566976>, <tf.Tensor: shape=(), dtype=float32, numpy=2.12268>, <tf.Tensor: shape=(), dtype=float32, numpy=2.6691968>, <tf.Tensor: shape=(), dtype=float32, numpy=2.744393>, <tf.Tensor: shape=(), dtype=float32, numpy=2.7874644>, <tf.Tensor: shape=(), dtype=float32, numpy=2.9792786>, <tf.Tensor: shape=(), dtype=float32, numpy=2.5224917>, <tf.Tensor: shape=(), dtype=float32, numpy=3.0041747>, <tf.Tensor: shape=(), dtype=float32, numpy=3.87111>, <tf.Tensor: shape=(), dtype=float32, numpy=2.1856716>]\n",
            "Loss on sampled data: 0.06953456252813339\n"
          ]
        },
        {
          "output_type": "execute_result",
          "data": {
            "text/plain": [
              "0.06953456"
            ]
          },
          "metadata": {},
          "execution_count": 7
        }
      ]
    },
    {
      "cell_type": "code",
      "source": [
        "tf.shape(X_train)[0]"
      ],
      "metadata": {
        "colab": {
          "base_uri": "https://localhost:8080/"
        },
        "id": "fCP-Ov4QcTyl",
        "outputId": "82feba0f-61ce-4c1e-a2ab-e6ca7c2d3d37"
      },
      "execution_count": null,
      "outputs": [
        {
          "output_type": "execute_result",
          "data": {
            "text/plain": [
              "<tf.Tensor: shape=(), dtype=int32, numpy=272>"
            ]
          },
          "metadata": {},
          "execution_count": 7
        }
      ]
    },
    {
      "cell_type": "code",
      "source": [
        "apply_gate(np.array([1/np.sqrt(2), 0, 0, 1/np.sqrt(2)], dtype=np.float32), 0.5, 0)"
      ],
      "metadata": {
        "colab": {
          "base_uri": "https://localhost:8080/"
        },
        "id": "ntIlL0UZeYVi",
        "outputId": "8623848e-72c1-4ce1-dd79-7db74a79d2bc"
      },
      "execution_count": null,
      "outputs": [
        {
          "output_type": "stream",
          "name": "stdout",
          "text": [
            "current label:  0\n"
          ]
        },
        {
          "output_type": "execute_result",
          "data": {
            "text/plain": [
              "array([0.70710677, 0.        , 0.        , 0.70710677], dtype=float32)"
            ]
          },
          "metadata": {},
          "execution_count": 35
        }
      ]
    },
    {
      "cell_type": "code",
      "source": [
        "test_vector = np.array(\n",
        "    [[ 0.70710677],\n",
        "     [-0.7064972 ],\n",
        "     [ 0.        ],\n",
        "     [-0.02935636]], dtype=np.float32)"
      ],
      "metadata": {
        "id": "Jw0N66NJk3IN"
      },
      "execution_count": null,
      "outputs": []
    },
    {
      "cell_type": "code",
      "source": [
        "test_vector.shape"
      ],
      "metadata": {
        "colab": {
          "base_uri": "https://localhost:8080/"
        },
        "id": "Zp_bRrqOlnbm",
        "outputId": "b2cfafa3-bc67-4983-d253-52fa87ddaeb7"
      },
      "execution_count": null,
      "outputs": [
        {
          "output_type": "execute_result",
          "data": {
            "text/plain": [
              "(4, 1)"
            ]
          },
          "metadata": {},
          "execution_count": 53
        }
      ]
    },
    {
      "cell_type": "code",
      "source": [
        "tf.squeeze(test_vector).shape"
      ],
      "metadata": {
        "colab": {
          "base_uri": "https://localhost:8080/"
        },
        "id": "LacrNsyblsfq",
        "outputId": "a81f37b0-73b8-4afb-b3d7-e897e6889fe5"
      },
      "execution_count": null,
      "outputs": [
        {
          "output_type": "execute_result",
          "data": {
            "text/plain": [
              "TensorShape([4])"
            ]
          },
          "metadata": {},
          "execution_count": 56
        }
      ]
    },
    {
      "cell_type": "code",
      "source": [
        "compute_probabilities(tf.constant([1, 0, 0, 1], dtype=tf.float32))"
      ],
      "metadata": {
        "colab": {
          "base_uri": "https://localhost:8080/"
        },
        "id": "lmMaS4Crkokb",
        "outputId": "15ccd2cd-df57-40f9-b457-a5828f2f5e9e"
      },
      "execution_count": null,
      "outputs": [
        {
          "output_type": "execute_result",
          "data": {
            "text/plain": [
              "(<tf.Tensor: shape=(), dtype=float32, numpy=0.99999994>,\n",
              " <tf.Tensor: shape=(), dtype=float32, numpy=0.0>)"
            ]
          },
          "metadata": {},
          "execution_count": 44
        }
      ]
    },
    {
      "cell_type": "code",
      "source": [
        "compute_probabilities(tf.constant([1, 0, 0, -1], dtype=tf.float32))"
      ],
      "metadata": {
        "colab": {
          "base_uri": "https://localhost:8080/"
        },
        "id": "dTnDDEUNkbg-",
        "outputId": "a2706368-ea03-42a4-d950-faad34fa70b2"
      },
      "execution_count": null,
      "outputs": [
        {
          "output_type": "execute_result",
          "data": {
            "text/plain": [
              "(<tf.Tensor: shape=(), dtype=float32, numpy=0.0>,\n",
              " <tf.Tensor: shape=(), dtype=float32, numpy=0.99999994>)"
            ]
          },
          "metadata": {},
          "execution_count": 43
        }
      ]
    },
    {
      "cell_type": "code",
      "source": [
        "# for i in range (tf.shape(X_train[:1])[0]):\n",
        "#   single_sequence = tf.gather(X_train, i, axis=0)\n",
        "#   print('single_sequence: ', single_sequence)\n",
        "#   final_state = apply_gate_sequence(single_sequence)\n",
        "#   print('final_state: ', final_state)\n",
        "#   probabilities = compute_probabilities(final_state)\n",
        "#   print('probabilities: ',probabilities )"
      ],
      "metadata": {
        "id": "ASCr3ie5SjJN"
      },
      "execution_count": null,
      "outputs": []
    },
    {
      "cell_type": "code",
      "source": [
        "len(X_train[0])"
      ],
      "metadata": {
        "colab": {
          "base_uri": "https://localhost:8080/"
        },
        "id": "bF4T9A-dOFuD",
        "outputId": "492d9a19-85de-4169-f308-73d24b015811"
      },
      "execution_count": null,
      "outputs": [
        {
          "output_type": "execute_result",
          "data": {
            "text/plain": [
              "20"
            ]
          },
          "metadata": {},
          "execution_count": 57
        }
      ]
    },
    {
      "cell_type": "code",
      "source": [
        "debug = tf.convert_to_tensor([[1, 0, 0, 0], [0, tf.math.cos(0.5), 0, tf.math.sin(0.5)],\n",
        "                           [0, 0, 1, 0], [0, -tf.math.sin(0.5), 0, tf.math.cos(0.5)]], dtype=tf.float32)"
      ],
      "metadata": {
        "id": "7EpcfNO0PMaL"
      },
      "execution_count": null,
      "outputs": []
    },
    {
      "cell_type": "code",
      "source": [
        "debug"
      ],
      "metadata": {
        "colab": {
          "base_uri": "https://localhost:8080/"
        },
        "id": "DNKTrgdkRHhi",
        "outputId": "7f3f7c76-53de-476b-c10c-9999a25d3189"
      },
      "execution_count": null,
      "outputs": [
        {
          "output_type": "execute_result",
          "data": {
            "text/plain": [
              "<tf.Tensor: shape=(4, 4), dtype=float32, numpy=\n",
              "array([[ 1.        ,  0.        ,  0.        ,  0.        ],\n",
              "       [ 0.        ,  0.87758255,  0.        ,  0.47942555],\n",
              "       [ 0.        ,  0.        ,  1.        ,  0.        ],\n",
              "       [ 0.        , -0.47942555,  0.        ,  0.87758255]],\n",
              "      dtype=float32)>"
            ]
          },
          "metadata": {},
          "execution_count": 69
        }
      ]
    }
  ]
}