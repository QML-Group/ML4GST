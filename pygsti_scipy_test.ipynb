{
  "nbformat": 4,
  "nbformat_minor": 0,
  "metadata": {
    "colab": {
      "provenance": []
    },
    "kernelspec": {
      "name": "python3",
      "display_name": "Python 3"
    },
    "language_info": {
      "name": "python"
    }
  },
  "cells": [
    {
      "cell_type": "code",
      "execution_count": null,
      "metadata": {
        "colab": {
          "base_uri": "https://localhost:8080/"
        },
        "id": "HcY_YCFxpcIT",
        "outputId": "3db90b45-9d8a-44f3-ef70-bb7b47a5df44"
      },
      "outputs": [
        {
          "output_type": "stream",
          "name": "stdout",
          "text": [
            "Result 1: [0.8660254+0.j  0.       -0.5j]\n",
            "Result 2: [0.5+0.j        0. -0.8660254j]\n",
            "Result 3: [2.77555756e-16+0.j 0.00000000e+00-1.j]\n",
            "Result 4: [-0.5+0.j         0. -0.8660254j]\n",
            "Result 5: [-0.8660254+0.j   0.       -0.5j]\n",
            "Result 6: [-1.+0.00000000e+00j  0.-6.10622664e-16j]\n",
            "Result 7: [-0.8660254+0.j   0.       +0.5j]\n",
            "Result 8: [-0.5+0.j         0. +0.8660254j]\n",
            "Result 9: [-8.8817842e-16+0.j  0.0000000e+00+1.j]\n",
            "Result 10: [0.5+0.j        0. +0.8660254j]\n",
            "Result 11: [0.8660254+0.j  0.       +0.5j]\n",
            "Result 12: [1.+0.00000000e+00j 0.+1.22124533e-15j]\n"
          ]
        }
      ],
      "source": [
        "import numpy as np\n",
        "\n",
        "def rx_gate(theta):\n",
        "    cos_theta_2 = np.cos(theta/2)\n",
        "    sin_theta_2 = np.sin(theta/2)\n",
        "    identity = np.eye(2)\n",
        "    pauli_x = np.array([[0, 1],\n",
        "                        [1, 0]])\n",
        "\n",
        "    # Construct the rotation matrix\n",
        "    rx_matrix = cos_theta_2 * identity - 1j * sin_theta_2 * pauli_x\n",
        "\n",
        "    return rx_matrix\n",
        "\n",
        "def apply_rx_gate_on_initial_state(theta, power):\n",
        "    # Define the initial state |0>\n",
        "    initial_state = np.array([1, 0])\n",
        "\n",
        "    # Get the rotation gate matrix\n",
        "    rx_matrix = rx_gate(theta)\n",
        "\n",
        "    # Repeatedly apply the rotation gate 'power' times\n",
        "    final_state = np.linalg.matrix_power(rx_matrix, power) @ initial_state\n",
        "\n",
        "    return final_state\n",
        "\n",
        "# Define the angle for the rotation gate (you can change this as desired)\n",
        "theta = np.pi/3\n",
        "\n",
        "# Define the maximum power of the rotation gate (maximum applied gates)\n",
        "max_power = 12\n",
        "\n",
        "# Apply the rotation gate for increasing powers and store the results\n",
        "results = []\n",
        "for power in range(1, max_power + 1):\n",
        "    final_state = apply_rx_gate_on_initial_state(theta, power)\n",
        "    results.append(final_state)\n",
        "\n",
        "# Print the results\n",
        "for i, final_state in enumerate(results, 1):\n",
        "    print(f\"Result {i}: {final_state}\")\n"
      ]
    },
    {
      "cell_type": "code",
      "source": [
        "import numpy as np\n",
        "\n",
        "def rx_gate(theta):\n",
        "    cos_theta_2 = np.cos(theta/2)\n",
        "    sin_theta_2 = np.sin(theta/2)\n",
        "    identity = np.eye(2)\n",
        "    pauli_x = np.array([[0, 1],\n",
        "                        [1, 0]])\n",
        "\n",
        "    # Construct the rotation matrix\n",
        "    rx_matrix = cos_theta_2 * identity - 1j * sin_theta_2 * pauli_x\n",
        "\n",
        "    return rx_matrix\n",
        "\n",
        "def apply_rx_gate_on_initial_state(theta, powers):\n",
        "    # Define the initial state |0>\n",
        "    initial_state = np.array([1, 0])\n",
        "\n",
        "    # Get the rotation gate matrix\n",
        "    rx_matrix = rx_gate(theta)\n",
        "\n",
        "    results = []\n",
        "    for power in powers:\n",
        "        # Repeatedly apply the rotation gate 'power' times\n",
        "        final_state = np.linalg.matrix_power(rx_matrix, power) @ initial_state\n",
        "        results.append(final_state)\n",
        "\n",
        "    return results\n",
        "\n",
        "# Define the angle for the rotation gate (you can change this as desired)\n",
        "theta = np.pi/3\n",
        "\n",
        "# Define the list of powers of the rotation gate\n",
        "powers_list = list(range(1, 13))  # For powers 1 to 12\n",
        "\n",
        "# Apply the rotation gate for the specified powers and store the results\n",
        "results = apply_rx_gate_on_initial_state(theta, powers_list)\n",
        "\n",
        "# Print the results\n",
        "for i, final_state in enumerate(results, 1):\n",
        "    print(f\"Result {i}: {final_state}\")\n"
      ],
      "metadata": {
        "colab": {
          "base_uri": "https://localhost:8080/"
        },
        "id": "7BqD1nj1agNG",
        "outputId": "06d3b9c6-33a8-4bbb-a951-f3d8e7da835b"
      },
      "execution_count": null,
      "outputs": [
        {
          "output_type": "stream",
          "name": "stdout",
          "text": [
            "Result 1: [0.8660254+0.j  0.       -0.5j]\n",
            "Result 2: [0.5+0.j        0. -0.8660254j]\n",
            "Result 3: [2.77555756e-16+0.j 0.00000000e+00-1.j]\n",
            "Result 4: [-0.5+0.j         0. -0.8660254j]\n",
            "Result 5: [-0.8660254+0.j   0.       -0.5j]\n",
            "Result 6: [-1.+0.00000000e+00j  0.-6.10622664e-16j]\n",
            "Result 7: [-0.8660254+0.j   0.       +0.5j]\n",
            "Result 8: [-0.5+0.j         0. +0.8660254j]\n",
            "Result 9: [-8.8817842e-16+0.j  0.0000000e+00+1.j]\n",
            "Result 10: [0.5+0.j        0. +0.8660254j]\n",
            "Result 11: [0.8660254+0.j  0.       +0.5j]\n",
            "Result 12: [1.+0.00000000e+00j 0.+1.22124533e-15j]\n"
          ]
        }
      ]
    },
    {
      "cell_type": "markdown",
      "source": [
        "Warning: Scipy Minimize does not work well for non scalar function (i.e. element-wise loss in an array)"
      ],
      "metadata": {
        "id": "H1y4l99VA6IV"
      }
    },
    {
      "cell_type": "code",
      "source": [
        "import numpy as np\n",
        "from scipy.optimize import minimize\n",
        "\n",
        "def rx_gate(theta):\n",
        "    cos_theta_2 = np.cos(theta/2)\n",
        "    sin_theta_2 = np.sin(theta/2)\n",
        "    identity = np.eye(2)\n",
        "    pauli_x = np.array([[0, 1],\n",
        "                        [1, 0]])\n",
        "\n",
        "    # Construct the rotation matrix\n",
        "    rx_matrix = cos_theta_2 * identity - 1j * sin_theta_2 * pauli_x\n",
        "\n",
        "    return rx_matrix\n",
        "\n",
        "def apply_rx_gate_on_initial_state(theta, powers):\n",
        "    # Define the initial state |0>\n",
        "    initial_state = np.array([1, 0])\n",
        "\n",
        "    # Get the rotation gate matrix\n",
        "    rx_matrix = rx_gate(theta)\n",
        "\n",
        "    results = []\n",
        "    for power in powers:\n",
        "        # Repeatedly apply the rotation gate 'power' times\n",
        "        final_state = np.linalg.matrix_power(rx_matrix, power) @ initial_state\n",
        "        results.append(final_state)\n",
        "\n",
        "    return results\n",
        "\n",
        "# Define the list of powers of the rotation gate\n",
        "powers_list = list(range(1, 2))  # For powers 1 to 1\n",
        "\n",
        "# Define the target results based on theta = np.pi/3\n",
        "target_theta = np.pi/3\n",
        "target_results = apply_rx_gate_on_initial_state(target_theta, powers_list)\n",
        "# print('target_results: \\n', target_results)\n",
        "\n",
        "# Define a function to be minimized based on the difference between expected and target results\n",
        "def loss_function(theta):\n",
        "    expected_results = apply_rx_gate_on_initial_state(theta, powers_list)\n",
        "\n",
        "\n",
        "    # Calculate the element-wise difference between expected and target results\n",
        "    # print('expected_results: \\n', np.round(expected_results[0]))\n",
        "    # print('target_results: \\n', np.round(target_results[0]))\n",
        "    differences = [np.abs(np.linalg.norm(exp - tgt)) for exp, tgt in zip(expected_results, target_results)]\n",
        "    # print('differences: \\n', differences)\n",
        "\n",
        "    # Sum the absolute differences to form the loss function\n",
        "    loss = np.sum(differences)\n",
        "    # print('loss: \\n', loss)\n",
        "\n",
        "    return loss\n",
        "\n",
        "# Perform the optimization to find the optimal theta\n",
        "initial_theta = [0.0]  # Initial guess for theta\n",
        "bounds = [(0, 2*np.pi)]\n",
        "result = minimize(loss_function, initial_theta, method='L-BFGS-B', bounds= bounds)\n",
        "\n",
        "if result.success:\n",
        "    optimal_theta = result.x[0]\n",
        "    print(f\"Optimal theta: {optimal_theta}\")\n",
        "    print(f\"Target theta: {target_theta}\")\n",
        "else:\n",
        "    print(\"Optimization failed!\")\n",
        "\n",
        "# Now, you can use the obtained optimal_theta to construct the rotation gate\n",
        "optimal_rx_gate = rx_gate(optimal_theta)\n",
        "\n",
        "# Apply the optimal_rx_gate to the initial state and print the results\n",
        "final_state = np.linalg.matrix_power(optimal_rx_gate, powers_list[-1]) @ np.array([1, 0])\n",
        "print(f\"Final state after applying the optimal rotation gate: {final_state}\")\n"
      ],
      "metadata": {
        "colab": {
          "base_uri": "https://localhost:8080/"
        },
        "id": "C27UZXdehY4g",
        "outputId": "d2e56cf0-ae98-46c2-e76c-98f85237f928"
      },
      "execution_count": null,
      "outputs": [
        {
          "output_type": "stream",
          "name": "stdout",
          "text": [
            "Optimal theta: 1.0471975463648693\n",
            "Target theta: 1.0471975511965976\n",
            "Final state after applying the optimal rotation gate: [0.8660254+0.j  0.       -0.5j]\n"
          ]
        }
      ]
    }
  ]
}