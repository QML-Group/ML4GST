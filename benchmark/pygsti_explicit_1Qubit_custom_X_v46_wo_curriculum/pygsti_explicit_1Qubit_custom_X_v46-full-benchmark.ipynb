{
 "cells": [
  {
   "cell_type": "code",
   "execution_count": 1,
   "metadata": {
    "colab": {
     "base_uri": "https://localhost:8080/"
    },
    "id": "Zd1H8cDcvaHr",
    "outputId": "f39b22da-e568-4310-c94a-93de13ab5e55"
   },
   "outputs": [],
   "source": [
    "# # Google Colab specific code for mounting Google Drive\n",
    "# from google.colab import drive\n",
    "# drive.mount('/content/drive', force_remount=True)\n",
    "\n",
    "# # Define the directory path on your Google Drive\n",
    "# # Replace 'Your_directory' with the actual directory\n",
    "# directory = '/content/drive/My Drive/Colab Notebooks/ML4GST/'\n",
    "\n",
    "# # Now use this directory for reading and writing data\n",
    "# data_template_filename = directory + \"dataset.txt\"\n",
    "# gst_dir = directory + \"test_gst_dir\""
   ]
  },
  {
   "cell_type": "code",
   "execution_count": 2,
   "metadata": {
    "tags": []
   },
   "outputs": [],
   "source": [
    "import os"
   ]
  },
  {
   "cell_type": "code",
   "execution_count": 3,
   "metadata": {
    "colab": {
     "base_uri": "https://localhost:8080/"
    },
    "id": "0RJyTecyWOVa",
    "outputId": "852b7777-2a72-44cb-8d44-81a04f25f58d",
    "tags": []
   },
   "outputs": [
    {
     "name": "stdout",
     "output_type": "stream",
     "text": [
      "Current working directory: C:\\Users\\ALAN\\Documents\\ML4GST\\benchmark\\pygsti_explicit_1Qubit_custom_X_v46_wo_curriculum\n"
     ]
    }
   ],
   "source": [
    "# Change the working directory to the desired path\n",
    "os.chdir(r\"C:\\Users\\ALAN\\Documents\\ML4GST\\benchmark\\pygsti_explicit_1Qubit_custom_X_v46_wo_curriculum\")\n",
    "\n",
    "# Verify that the working directory has been changed\n",
    "print(\"Current working directory:\", os.getcwd())\n"
   ]
  },
  {
   "cell_type": "code",
   "execution_count": 4,
   "metadata": {
    "colab": {
     "base_uri": "https://localhost:8080/"
    },
    "id": "vDzCiN2Ru6ky",
    "outputId": "b076112b-7037-4547-e000-9d17dd4d693a"
   },
   "outputs": [],
   "source": [
    "# pip install pygsti"
   ]
  },
  {
   "cell_type": "code",
   "execution_count": 5,
   "metadata": {
    "colab": {
     "base_uri": "https://localhost:8080/"
    },
    "id": "ZLOeLti-u9tg",
    "outputId": "47bc21b0-1ba7-43cf-cbf0-7c8900b75490"
   },
   "outputs": [],
   "source": [
    "# import pygsti\n",
    "# import pygsti.algorithms.fiducialselection as fidsel\n",
    "# import pygsti.algorithms.germselection as germsel\n",
    "# import numpy as np\n",
    "# import pandas as pd\n",
    "\n",
    "# # Define the Pauli Transfer Matrices for the gates\n",
    "# # I = np.array([[1, 0, 0, 0], [0, 1, 0, 0], [0, 0, 1, 0], [0, 0, 0, 1]])\n",
    "# # X_pi_4 = np.array([[1, 0, 0, 0], [0, 1, 0, 0], [0, 0, np.cos(np.pi/4), -np.sin(np.pi/4)], [0, 0, np.sin(np.pi/4), np.cos(np.pi/4)]])\n",
    "# # Y_pi_2 = np.array([[1, 0, 0, 0], [0, np.cos(np.pi/2), 0, np.sin(np.pi/2)], [0, 0, 1, 0], [0, -np.sin(np.pi/2), 0, np.cos(np.pi/2)]])\n",
    "\n",
    "# # Create the explicit model\n",
    "# ideal_target_model = pygsti.models.create_explicit_model_from_expressions(\n",
    "#     [('Q0',)], ['Gi', 'Gx', 'Gy'],\n",
    "#     [\"I(Q0)\", \"X(pi/4,Q0)\", \"Y(pi/2,Q0)\"])\n",
    "\n",
    "# class MyXPi2Operator(pygsti.modelmembers.operations.DenseOperator):\n",
    "#     def __init__(self):\n",
    "#         #initialize with no noise\n",
    "#         super(MyXPi2Operator,self).__init__(np.identity(4,'d'), 'pp', \"densitymx\") # this is *super*-operator, so \"densitymx\"\n",
    "#         self.from_vector([0.0, 0.1])\n",
    "\n",
    "#     @property\n",
    "#     def num_params(self):\n",
    "#         return 2 # we have two parameters\n",
    "\n",
    "#     def to_vector(self):\n",
    "#         return np.array([self.depol_amt, self.over_rotation],'d') #our parameter vector\n",
    "\n",
    "#     def from_vector(self, v, close=False, dirty_value=True):\n",
    "#         #initialize from parameter vector v\n",
    "#         self.depol_amt = v[0]\n",
    "#         self.over_rotation = v[1]\n",
    "\n",
    "#         # print(f'depol_amt: {self.depol_amt}, over_rotation: {self.over_rotation}')\n",
    "\n",
    "#         theta = (np.pi/4 + self.over_rotation)/2\n",
    "#         a = 1.0-self.depol_amt\n",
    "#         b = a*2*np.cos(theta)*np.sin(theta)\n",
    "#         c = a*(np.sin(theta)**2 - np.cos(theta)**2)\n",
    "\n",
    "#         # print(f'a: {a}, b: {b}, c: {c}')\n",
    "\n",
    "#         # ._ptr is a member of DenseOperator and is a numpy array that is\n",
    "#         # the dense Pauli transfer matrix of this operator\n",
    "#         # Technical note: use [:,:] instead of direct assignment so id of self._ptr doesn't change\n",
    "#         self._ptr[:,:] = np.array([[1,   0,   0,   0],\n",
    "#                                   [0,   a,   0,   0],\n",
    "#                                   [0,   0,   c,  -b],\n",
    "#                                   [0,   0,   b,   c]],'d')\n",
    "#         self.dirty = dirty_value  # mark that parameter vector may have changed\n",
    "\n",
    "#     def transform(self, S):\n",
    "#         # Update self with inverse(S) * self * S (used in gauge optimization)\n",
    "#         raise NotImplementedError(\"MyXPi2Operator cannot be transformed!\")\n",
    "\n",
    "# import copy\n",
    "# target_model = copy.deepcopy(ideal_target_model)\n",
    "# target_model.operations[('Gx')] = MyXPi2Operator()\n",
    "# print('target_model: \\n', target_model)\n",
    "# print('ideal_target_model: \\n', ideal_target_model)\n",
    "\n"
   ]
  },
  {
   "cell_type": "code",
   "execution_count": 6,
   "metadata": {
    "colab": {
     "base_uri": "https://localhost:8080/"
    },
    "id": "F4rvB8JHcipz",
    "outputId": "0c701123-b036-447b-af62-279e54d5acf6"
   },
   "outputs": [],
   "source": [
    "# # Automatic selection of fiducials and germs using \"laissez-faire\" method\n",
    "# prepFiducials, measFiducials = fidsel.find_fiducials(ideal_target_model)\n",
    "# germs = germsel.find_germs(ideal_target_model, seed = 1234)"
   ]
  },
  {
   "cell_type": "code",
   "execution_count": 7,
   "metadata": {
    "colab": {
     "base_uri": "https://localhost:8080/"
    },
    "id": "Dtc8CpOEjL9R",
    "outputId": "8756bd8b-a691-4584-dc0b-cf94e1fa20a8"
   },
   "outputs": [],
   "source": [
    "# print(f'prepFiducials: {prepFiducials} \\n measFiducials: {measFiducials} \\n germs: {germs}')"
   ]
  },
  {
   "cell_type": "code",
   "execution_count": 8,
   "metadata": {
    "id": "uI80q6AIip7Z"
   },
   "outputs": [],
   "source": [
    "# # Generate a list of circuits using the long-sequence gate set tomography (LSGST) method\n",
    "# maxLengths = [2**n for n in range(5)]\n",
    "\n",
    "# listOfExperiments = pygsti.circuits.create_lsgst_circuits(\n",
    "#     target_model, prepFiducials, measFiducials, germs, maxLengths)\n",
    "\n",
    "# # Simulate the probability outcomes of these circuits\n",
    "# ds = pygsti.data.simulate_data(target_model, listOfExperiments, num_samples=1000,\n",
    "#                                             sample_error=\"binomial\", seed=1234)\n",
    "# # print(ds)\n",
    "\n",
    "# pygsti.io.write_dataset(\"Custom_1Q_XYI_dataset_abc.txt\", ds, outcome_label_order=['0','1'])\n",
    "\n",
    "# # Convert the probabilities to a DataFrame and save to a CSV file"
   ]
  },
  {
   "cell_type": "code",
   "execution_count": 9,
   "metadata": {
    "id": "6XTVMibkMAOZ",
    "tags": []
   },
   "outputs": [
    {
     "name": "stdout",
     "output_type": "stream",
     "text": [
      "WARNING:tensorflow:From C:\\Users\\ALAN\\anaconda3\\envs\\ML4GST\\Lib\\site-packages\\keras\\src\\losses.py:2976: The name tf.losses.sparse_softmax_cross_entropy is deprecated. Please use tf.compat.v1.losses.sparse_softmax_cross_entropy instead.\n",
      "\n",
      "WARNING:tensorflow:From C:\\Users\\ALAN\\anaconda3\\envs\\ML4GST\\Lib\\site-packages\\tensorflow_probability\\python\\internal\\backend\\numpy\\_utils.py:48: The name tf.logging.TaskLevelStatusMessage is deprecated. Please use tf.compat.v1.logging.TaskLevelStatusMessage instead.\n",
      "\n",
      "WARNING:tensorflow:From C:\\Users\\ALAN\\anaconda3\\envs\\ML4GST\\Lib\\site-packages\\tensorflow_probability\\python\\internal\\backend\\numpy\\_utils.py:48: The name tf.control_flow_v2_enabled is deprecated. Please use tf.compat.v1.control_flow_v2_enabled instead.\n",
      "\n"
     ]
    }
   ],
   "source": [
    "import math\n",
    "import numpy as np\n",
    "import pandas as pd\n",
    "import tensorflow as tf\n",
    "from tensorflow.keras.utils import plot_model\n",
    "from tensorflow.keras import layers, models\n",
    "from tensorflow.keras.models import Sequential\n",
    "from tensorflow.keras.layers import Dense, Lambda\n",
    "from tensorflow.keras.layers import Input\n",
    "from tensorflow.keras.layers import Concatenate\n",
    "from tensorflow.keras.models import Model\n",
    "from sklearn.model_selection import train_test_split\n",
    "from tensorflow.keras.losses import MeanSquaredError\n",
    "from tensorflow.keras.optimizers import Adam\n",
    "from tensorflow.keras import backend as K\n",
    "import tensorflow_probability as tfp\n",
    "\n",
    "# Load the sorted data directly from the modified CSV\n",
    "df_sorted = pd.read_csv('Sorted_Encoded_Padded_Probabilities.csv')\n",
    "\n",
    "def prepare_data(df_part):\n",
    "    # Extracting features and labels\n",
    "    X = df_part['Padded'].apply(lambda x: [int(xi) for xi in x.strip('[]').split()]).to_list()\n",
    "    y = df_part[['Prob1', 'Prob2']].values\n",
    "\n",
    "    # Convert to numpy arrays\n",
    "    X = np.array(X)\n",
    "    y = np.array(y)\n",
    "\n",
    "    return X, y\n",
    "  \n",
    "# def map_integers_to_gates(int_sequences, gate_matrices):\n",
    "#     \"\"\"\n",
    "#     Map each integer in the sequences to its corresponding quantum gate matrix.\n",
    "    \n",
    "#     Args:\n",
    "#     - int_sequences (np.array): An array of shape (batch_size, seq_length) containing integer sequences.\n",
    "#     - gate_matrices (list): A list of 4x4 matrices representing quantum gates.\n",
    "    \n",
    "#     Returns:\n",
    "#     - np.array: An array of shape (batch_size, seq_length, 4, 4) containing the mapped sequences.\n",
    "#     \"\"\"\n",
    "#     # Initialize an empty array to store the mapped sequences\n",
    "#     mapped_sequences = np.zeros((int_sequences.shape[0], int_sequences.shape[1], 4, 4))\n",
    "    \n",
    "#     # Loop through each sequence\n",
    "#     for i in range(int_sequences.shape[0]):\n",
    "#         # Find the length of the meaningful part of the sequence (non-zero part)\n",
    "#         meaningful_length = np.max(np.nonzero(int_sequences[i])) + 1 if np.any(int_sequences[i]) else 0\n",
    "        \n",
    "#         # Map the integers to their corresponding quantum gate matrices\n",
    "#         for j in range(meaningful_length):\n",
    "#             mapped_sequences[i, j] = gate_matrices[int_sequences[i, j]]\n",
    "            \n",
    "#     return mapped_sequences\n",
    "\n",
    "# # Example usage:\n",
    "# example_sequences = np.array([[1, 2, 2, 3, 0], [3, 1, 0, 0, 0]])\n",
    "# I_gate = np.array([[1, 0, 0, 0], [0, 1, 0, 0], [0, 0, 1, 0], [0, 0, 0, 1]])\n",
    "# X_pi_4_gate = np.array([[1, 0, 0, 0], [0, 1, 0, 0], [0, 0, np.cos(np.pi/4), -np.sin(np.pi/4)], [0, 0, np.sin(np.pi/4), np.cos(np.pi/4)]])\n",
    "# Y_pi_2_gate = np.array([[1, 0, 0, 0], [0, np.cos(np.pi/2), 0, np.sin(np.pi/2)], [0, 0, 1, 0], [0, -np.sin(np.pi/2), 0, np.cos(np.pi/2)]])\n",
    "# gate_matrices = [None, X_pi_4_gate, Y_pi_2_gate, I_gate]  # The \"None\" entry will be skipped "
   ]
  },
  {
   "cell_type": "code",
   "execution_count": 10,
   "metadata": {},
   "outputs": [],
   "source": [
    "def map_integers_to_gates(int_sequences, gate_matrices):\n",
    "    \"\"\"\n",
    "    Map each integer in the sequences to its corresponding quantum gate matrix.\n",
    "    This version also maps zeros to a 4x4 zero matrix.\n",
    "    \n",
    "    Args:\n",
    "    - int_sequences (np.array): An array of shape (batch_size, seq_length) containing integer sequences.\n",
    "    - gate_matrices (list): A list of 4x4 matrices representing quantum gates.\n",
    "    \n",
    "    Returns:\n",
    "    - np.array: An array of shape (batch_size, seq_length, 4, 4) containing the mapped sequences.\n",
    "    \"\"\"\n",
    "    # Initialize an empty array to store the mapped sequences\n",
    "    mapped_sequences = np.zeros((int_sequences.shape[0], int_sequences.shape[1], 4, 4))\n",
    "    \n",
    "    # Loop through each sequence\n",
    "    for i in range(int_sequences.shape[0]):\n",
    "        # Map the integers to their corresponding quantum gate matrices\n",
    "        for j in range(int_sequences.shape[1]):\n",
    "            mapped_sequences[i, j] = gate_matrices[int_sequences[i, j]]\n",
    "            \n",
    "    return mapped_sequences\n",
    "\n",
    "# Example usage:\n",
    "example_sequences = np.array([[1, 2, 2, 3, 0], [3, 1, 0, 0, 0]])\n",
    "zero_matrix = np.zeros((4, 4))\n",
    "I_gate = np.array([[1, 0, 0, 0], [0, 1, 0, 0], [0, 0, 1, 0], [0, 0, 0, 1]])\n",
    "X_pi_2_gate = np.array([[1, 0, 0, 0], [0, 1, 0, 0], [0, 0, np.cos(np.pi/2), -np.sin(np.pi/2)], [0, 0, np.sin(np.pi/2), np.cos(np.pi/2)]])\n",
    "Y_pi_2_gate = np.array([[1, 0, 0, 0], [0, np.cos(np.pi/2), 0, np.sin(np.pi/2)], [0, 0, 1, 0], [0, -np.sin(np.pi/2), 0, np.cos(np.pi/2)]])\n",
    "gate_matrices = [zero_matrix, X_pi_2_gate, Y_pi_2_gate, I_gate]\n",
    "\n",
    "# # Run the function\n",
    "# result = map_integers_to_gates(example_sequences, gate_matrices)\n",
    "# print(\"Result shape:\", result.shape)\n"
   ]
  },
  {
   "cell_type": "code",
   "execution_count": 11,
   "metadata": {},
   "outputs": [
    {
     "name": "stdout",
     "output_type": "stream",
     "text": [
      "X type:  <class 'numpy.ndarray'>\n",
      "y type:  <class 'numpy.ndarray'>\n"
     ]
    }
   ],
   "source": [
    "X, y = prepare_data(df_sorted)\n",
    "\n",
    "print('X type: ', type(X))\n",
    "print('y type: ', type(y))\n",
    "\n",
    "# Create new input data\n",
    "X_new = [X, y]\n",
    "\n",
    "# # Split the original input (X[0]) and target labels (y) into training and test sets\n",
    "# X_train_0, X_test_0, y_train, y_test = train_test_split(X_new[0], y, test_size=0.2, random_state=42)\n",
    "\n",
    "# print('X_train_0 type: ', type(X_train_0))\n",
    "# print('y_train type: ', type(y_train))\n",
    "\n",
    "X_train_0 = X\n",
    "y_train = y \n",
    "\n",
    "# Run the mapping function to convert integer sequences to gate matrices\n",
    "X_train_mapped = map_integers_to_gates(X_train_0, gate_matrices)\n",
    "# X_test_mapped = map_integers_to_gates(X_test_0, gate_matrices)\n",
    "\n",
    "# New input data after mapping\n",
    "X_train = [X_train_mapped, y_train]\n",
    "# X_test = [X_test_mapped, y_test]\n",
    "\n",
    "# # Manually combine the split y labels into the X data\n",
    "# X_train = [np.array(X_train_0), np.array(y_train)]\n",
    "# X_test = [np.array(X_test_0), np.array(y_test)]\n",
    "\n",
    "# Convert y data to numpy arrays\n",
    "# y_train = np.array(y_train)\n",
    "# y_test = np.array(y_test)\n",
    "\n"
   ]
  },
  {
   "cell_type": "code",
   "execution_count": 12,
   "metadata": {
    "tags": []
   },
   "outputs": [
    {
     "data": {
      "text/plain": [
       "19"
      ]
     },
     "execution_count": 12,
     "metadata": {},
     "output_type": "execute_result"
    }
   ],
   "source": [
    "len(X_train[0][0])"
   ]
  },
  {
   "cell_type": "code",
   "execution_count": 13,
   "metadata": {},
   "outputs": [],
   "source": [
    "# # @tf.keras.utils.register_keras_serializable()\n",
    "# class CustomSchedule(tf.keras.optimizers.schedules.LearningRateSchedule):\n",
    "#     def __init__(self, d_model, warmup_steps=4000):\n",
    "#         super(CustomSchedule, self).__init__()\n",
    "\n",
    "#         self.d_model = tf.cast(d_model, tf.float32)\n",
    "#         self.warmup_steps = warmup_steps\n",
    "\n",
    "#     def __call__(self, step):\n",
    "#         step = tf.cast(step, dtype=tf.float32)\n",
    "#         arg1 = tf.math.rsqrt(step)\n",
    "#         arg2 = step * (self.warmup_steps ** -1.5)\n",
    "\n",
    "#         return tf.math.rsqrt(self.d_model) * tf.math.minimum(arg1, arg2)\n",
    "\n",
    "#     def get_config(self):\n",
    "#         return {\n",
    "#             \"d_model\": float(self.d_model), # Convert to native Python float\n",
    "#             \"warmup_steps\": self.warmup_steps\n",
    "#         }\n",
    "\n",
    "\n",
    "\n",
    "# @tf.keras.utils.register_keras_serializable()\n",
    "# class TriangularLearningRateScheduler(tf.keras.optimizers.schedules.LearningRateSchedule):\n",
    "#     def __init__(self, min_lr, max_lr, step_size, mode='triangular', gamma=0.99):\n",
    "#         super(TriangularLearningRateScheduler, self).__init__()\n",
    "        \n",
    "#         self.min_lr = min_lr\n",
    "#         self.max_lr = max_lr\n",
    "#         self.step_size = step_size\n",
    "#         self.mode = mode\n",
    "#         self.gamma = gamma\n",
    "\n",
    "#     def __call__(self, step):\n",
    "#         step = tf.cast(step, dtype=tf.float32)\n",
    "#         cycle = tf.math.floor(1 + step / (2 * self.step_size))\n",
    "#         x = tf.math.abs(step / self.step_size - 2 * cycle + 1)\n",
    "#         lr = self.min_lr + (self.max_lr - self.min_lr) * tf.math.maximum(0.0, (1 - x))\n",
    "\n",
    "#         if self.mode == 'triangular2':\n",
    "#             lr = lr * (1 / (2 ** (cycle - 1)))\n",
    "#         elif self.mode == 'exp_range':\n",
    "#             lr = lr * (self.gamma ** step)\n",
    "\n",
    "#         return lr\n",
    "\n",
    "#     def get_config(self):\n",
    "#         return {\n",
    "#             \"min_lr\": self.min_lr,\n",
    "#             \"max_lr\": self.max_lr,\n",
    "#             \"step_size\": self.step_size,\n",
    "#             \"mode\": self.mode,\n",
    "#             \"gamma\": self.gamma,\n",
    "#         }\n",
    "      \n",
    "\n",
    "\n",
    "\n",
    "# # # Function to generate positional encoding + input\n",
    "# # @tf.keras.utils.register_keras_serializable()\n",
    "# # class PositionalEncodingLayer(tf.keras.layers.Layer):\n",
    "# #     def __init__(self, seq_len, d_model, **kwargs):\n",
    "# #         super(PositionalEncodingLayer, self).__init__(**kwargs)\n",
    "# #         self.seq_len = seq_len\n",
    "# #         self.d_model = d_model\n",
    "# #         self.pos_encoding = self.get_positional_encoding(seq_len, d_model)\n",
    "        \n",
    "# #     def get_positional_encoding(self, seq_len, d_model):\n",
    "# #         angles = np.arange(seq_len)[:, np.newaxis] / np.power(10000, 2 * (np.arange(d_model)[np.newaxis, :] // 2) / d_model)\n",
    "# #         positional_encoding = np.zeros((seq_len, d_model))\n",
    "# #         positional_encoding[:, 0::2] = np.sin(angles[:, 0::2])\n",
    "# #         positional_encoding[:, 1::2] = np.cos(angles[:, 1::2])\n",
    "# #         return tf.constant(positional_encoding, dtype=tf.float32)\n",
    "        \n",
    "# #     def call(self, inputs):\n",
    "# #         pos_encoding = tf.expand_dims(self.pos_encoding, axis=0)\n",
    "# #         return inputs + pos_encoding\n",
    "\n",
    "# #     def get_config(self):\n",
    "# #         config = super(PositionalEncodingLayer, self).get_config()\n",
    "# #         config.update({\n",
    "# #             'seq_len': self.seq_len,\n",
    "# #             'd_model': self.d_model\n",
    "# #         })\n",
    "# #         return config\n",
    "\n",
    "# @tf.keras.utils.register_keras_serializable()\n",
    "# class GroupWiseTimeDistributed(tf.keras.layers.Layer):\n",
    "#     def __init__(self, layer_to_apply, **kwargs):\n",
    "#         super(GroupWiseTimeDistributed, self).__init__(**kwargs)\n",
    "#         self.layer_to_apply = layer_to_apply\n",
    "\n",
    "#     def build(self, input_shape):\n",
    "#         super(GroupWiseTimeDistributed, self).build(input_shape)\n",
    "\n",
    "#     def call(self, x):\n",
    "#         # print(\"Initial input shape:\", x.shape)  # Debugging line\n",
    "#         xs = tf.split(x, x.shape[1], axis=1)\n",
    "#         processed_xs = []\n",
    "#         for group in xs:\n",
    "#             # print(\"Shape after splitting (one group):\", group.shape)  # Debugging line\n",
    "#             group_squeezed = tf.squeeze(group, axis=1)\n",
    "#             # print(\"Shape before applying layer:\", group_squeezed.shape)  # Debugging line\n",
    "#             processed_group = self.layer_to_apply(group_squeezed)\n",
    "#             # print(\"Shape after applying layer:\", processed_group.shape)  # Debugging line\n",
    "#             processed_xs.append(processed_group)\n",
    "#         output = tf.stack(processed_xs, axis=1)\n",
    "#         # print(\"Final output shape:\", output.shape)  # Debugging line\n",
    "#         return output\n",
    "\n",
    "#     def get_config(self):\n",
    "#         config = super(GroupWiseTimeDistributed, self).get_config()\n",
    "#         config.update({\n",
    "#             'layer_to_apply_config': tf.keras.layers.serialize(self.layer_to_apply)\n",
    "#         })\n",
    "#         return config\n",
    "\n",
    "#     @classmethod\n",
    "#     def from_config(cls, config):\n",
    "#         layer_to_apply_config = config.pop('layer_to_apply_config')\n",
    "#         layer_to_apply = tf.keras.layers.deserialize(layer_to_apply_config)\n",
    "#         return cls(layer_to_apply=layer_to_apply, **config)\n",
    "\n",
    "\n",
    "\n",
    "\n",
    "# # Function to generate positional encoding + input\n",
    "# @tf.keras.utils.register_keras_serializable()\n",
    "# class PositionalEncodingLayer(tf.keras.layers.Layer):\n",
    "#     def __init__(self, **kwargs):\n",
    "#         super(PositionalEncodingLayer, self).__init__(**kwargs)\n",
    "\n",
    "#     def build(self, input_shape):\n",
    "#         self.seq_len, self.d_model = input_shape[-2], input_shape[-1]\n",
    "#         self.pos_encoding = self.get_positional_encoding(self.seq_len, self.d_model)\n",
    "\n",
    "#     def get_positional_encoding(self, seq_len, d_model):\n",
    "#         angles = np.arange(seq_len)[:, np.newaxis] / np.power(10000, 2 * (np.arange(d_model)[np.newaxis, :] // 2) / d_model)\n",
    "#         positional_encoding = np.zeros((seq_len, d_model))\n",
    "#         positional_encoding[:, 0::2] = np.sin(angles[:, 0::2])\n",
    "#         positional_encoding[:, 1::2] = np.cos(angles[:, 1::2])\n",
    "#         return tf.constant(positional_encoding, dtype=tf.float32)\n",
    "\n",
    "#     def call(self, inputs):\n",
    "#         pos_encoding = tf.expand_dims(self.pos_encoding, 0)  # Modified line\n",
    "#         return inputs + pos_encoding\n",
    "    \n",
    "#     def get_config(self):\n",
    "#         config = super(PositionalEncodingLayer, self).get_config()\n",
    "#         return config\n",
    "\n",
    "#     @classmethod\n",
    "#     def from_config(cls, config):\n",
    "#         return cls(**config)\n",
    "\n",
    "      \n",
    "\n",
    "        \n",
    "# @tf.keras.utils.register_keras_serializable()\n",
    "# class CustomAttention(layers.Layer):\n",
    "#     def __init__(self, **kwargs):\n",
    "#         super(CustomAttention, self).__init__(**kwargs)\n",
    "\n",
    "#     def build(self, input_shape):\n",
    "#         self.W = self.add_weight(shape=(input_shape[-1], 1),\n",
    "#                                  initializer='random_normal',\n",
    "#                                  trainable=True)\n",
    "        \n",
    "#     def call(self, inputs):\n",
    "#         logits = tf.matmul(inputs, self.W)\n",
    "#         attention_weights = tf.nn.softmax(logits, axis=1)\n",
    "#         weighted_sum = tf.reduce_sum(inputs * attention_weights, axis=1)\n",
    "#         return weighted_sum\n",
    "\n",
    "#     def get_config(self):\n",
    "#         config = super().get_config()\n",
    "#         return config\n",
    "\n",
    "#     @classmethod\n",
    "#     def from_config(cls, config):\n",
    "#         return cls(**config)\n",
    "      \n",
    "    \n",
    "      \n",
    "\n",
    "# # Parameters\n",
    "# group_size = 30\n",
    "# vocab_size = 4 # deprecated, as flattened matrices are used for direct input, skipping embedding layer\n",
    "# # embedding_dim = 16\n",
    "# input_length = len(X_train[0][0])\n",
    "# embedding_dim = 16*input_length\n",
    "# prob_emebedding_dim = 16\n",
    "# num_heads = 2\n",
    "# ffn_dim = 512*group_size\n",
    "# # ffn_dim = 16\n",
    "# n_layers = 3\n",
    "\n",
    "\n",
    "# # Inputs\n",
    "# input_y_transformer = layers.Input(shape=(group_size, 2), name='input_y_transformer')\n",
    "# input_gate_transformer = layers.Input(shape=(group_size, input_length, 4, 4), name='input_gate_transformer')\n",
    "\n",
    "# # print(\"Shape of input_y_transformer:\", input_y_transformer.shape)  # Debugging line\n",
    "# # print(\"Shape of input_gate_transformer:\", input_gate_transformer.shape)  # Debugging line\n",
    "\n",
    "# # Create an instance of Flatten layer to apply to each group\n",
    "# flatten_layer = layers.Flatten()\n",
    "\n",
    "# # Create an instance of GroupWiseTimeDistributed with the Flatten layer\n",
    "# groupwise_time_distributed = GroupWiseTimeDistributed(flatten_layer)\n",
    "\n",
    "# # Process the 4x4 matrices using GroupWiseTimeDistributed\n",
    "# processed_gate = groupwise_time_distributed(input_gate_transformer)\n",
    "# # print(\"After GroupWiseTimeDistributed Flatten:\", processed_gate.shape)  # Debugging line\n",
    "\n",
    "\n",
    "# # Add positional encoding directly to processed_gate\n",
    "# positional_encoding = PositionalEncodingLayer()\n",
    "# processed_gate_with_position = positional_encoding(processed_gate)\n",
    "# # print(\"After Positional Encoding:\", processed_gate_with_position.shape)  # Debugging line\n",
    "\n",
    "# # Transformer layers\n",
    "# x = processed_gate_with_position\n",
    "# for _ in range(n_layers):\n",
    "#     attention = layers.MultiHeadAttention(num_heads=num_heads, key_dim=embedding_dim)(x, x)\n",
    "#     # print(\"After MultiHeadAttention:\", attention.shape)  # Debugging line\n",
    "#     x = layers.LayerNormalization()(attention + x)\n",
    "#     # print(\"After LayerNormalization:\", x.shape)  # Debugging line\n",
    "#     ffn_output = layers.Dense(ffn_dim, activation='leaky_relu')(x)\n",
    "#     # print(\"After First Dense:\", ffn_output.shape)  # Debugging line\n",
    "#     ffn_output = layers.Dense(embedding_dim, activation='leaky_relu')(ffn_output)\n",
    "#     # print(\"After Second Dense:\", ffn_output.shape)  # Debugging line\n",
    "#     x = layers.LayerNormalization()(ffn_output + x)\n",
    "\n",
    "\n",
    "# # Custom Attention to convert sequence to single vector\n",
    "# final_output = CustomAttention()(x)\n",
    "# # print(\"After CustomAttention:\", final_output.shape)\n",
    "\n",
    "# # Other layers\n",
    "# prob_dist = layers.Dense(prob_emebedding_dim, activation='leaky_relu')(input_y_transformer)\n",
    "# # print(\"After First prob_dist Dense:\", prob_dist.shape)\n",
    "# prob_dist = layers.Dense(prob_emebedding_dim, activation='leaky_relu')(prob_dist)\n",
    "# # print(\"After Second prob_dist Dense:\", prob_dist.shape)\n",
    "# prob_dist = layers.Flatten()(prob_dist)\n",
    "# # print(\"After prob_dist Flatten:\", prob_dist.shape)\n",
    "# concat_transformer = layers.Concatenate()([final_output, prob_dist])\n",
    "# # print(\"After Concatenation :\", concat_transformer.shape)\n",
    "# dense_transformer = layers.Dense(group_size*128, activation='leaky_relu')(concat_transformer)\n",
    "# dense_transformer = layers.Dense(group_size*128, activation='leaky_relu')(dense_transformer)\n",
    "# output_transformer = layers.Dense(4, activation='linear')(dense_transformer)\n",
    "\n",
    "\n",
    "# # Model\n",
    "# model = Model(inputs=[input_gate_transformer, input_y_transformer], outputs=output_transformer)\n",
    "\n",
    "# # lr_schedule = TriangularLearningRateScheduler(min_lr=1e-6, max_lr=1e-5, step_size=2000)\n",
    "# lr_schedule = TriangularLearningRateScheduler(min_lr=4e-7, max_lr=4e-7, step_size=1000)\n",
    "# optimizer = tf.keras.optimizers.Adam(learning_rate=lr_schedule)\n",
    "\n",
    "# model.compile(optimizer=optimizer, loss='mse')\n",
    "# model.summary()\n",
    "\n",
    "\n",
    "# # lr_schedule = TriangularLearningRateScheduler(min_lr=1e-6, max_lr=1e-5, step_size=2000)\n",
    "# # optimizer = tf.keras.optimizers.Adam(learning_rate=lr_schedule)\n",
    "\n",
    "# # optimizer = tf.keras.optimizers.Adam(lr_schedule, beta_1=0.9, beta_2=0.98, epsilon=1e-9)\n",
    "\n",
    "\n",
    "\n"
   ]
  },
  {
   "cell_type": "code",
   "execution_count": 14,
   "metadata": {
    "id": "rSc7GUbxdydS",
    "tags": []
   },
   "outputs": [],
   "source": [
    "# # @tf.keras.utils.register_keras_serializable()\n",
    "# # class CustomSchedule(tf.keras.optimizers.schedules.LearningRateSchedule):\n",
    "# #     def __init__(self, d_model, warmup_steps=4000):\n",
    "# #         super(CustomSchedule, self).__init__()\n",
    "\n",
    "# #         self.d_model = tf.cast(d_model, tf.float32)\n",
    "# #         self.warmup_steps = warmup_steps\n",
    "\n",
    "# #     def __call__(self, step):\n",
    "# #         step = tf.cast(step, dtype=tf.float32)\n",
    "# #         arg1 = tf.math.rsqrt(step)\n",
    "# #         arg2 = step * (self.warmup_steps ** -1.5)\n",
    "\n",
    "# #         return tf.math.rsqrt(self.d_model) * tf.math.minimum(arg1, arg2)\n",
    "\n",
    "# #     def get_config(self):\n",
    "# #         return {\n",
    "# #             \"d_model\": float(self.d_model), # Convert to native Python float\n",
    "# #             \"warmup_steps\": self.warmup_steps\n",
    "# #         }\n",
    "\n",
    "\n",
    "# input_length = len(X_train[0][0])\n",
    "\n",
    "# @tf.keras.utils.register_keras_serializable()\n",
    "# class TriangularLearningRateScheduler(tf.keras.optimizers.schedules.LearningRateSchedule):\n",
    "#     def __init__(self, min_lr, max_lr, step_size, mode='triangular', gamma=0.99):\n",
    "#         super(TriangularLearningRateScheduler, self).__init__()\n",
    "        \n",
    "#         self.min_lr = min_lr\n",
    "#         self.max_lr = max_lr\n",
    "#         self.step_size = step_size\n",
    "#         self.mode = mode\n",
    "#         self.gamma = gamma\n",
    "\n",
    "#     def __call__(self, step):\n",
    "#         step = tf.cast(step, dtype=tf.float32)\n",
    "#         cycle = tf.math.floor(1 + step / (2 * self.step_size))\n",
    "#         x = tf.math.abs(step / self.step_size - 2 * cycle + 1)\n",
    "#         lr = self.min_lr + (self.max_lr - self.min_lr) * tf.math.maximum(0.0, (1 - x))\n",
    "\n",
    "#         if self.mode == 'triangular2':\n",
    "#             lr = lr * (1 / (2 ** (cycle - 1)))\n",
    "#         elif self.mode == 'exp_range':\n",
    "#             lr = lr * (self.gamma ** step)\n",
    "\n",
    "#         return lr\n",
    "\n",
    "#     def get_config(self):\n",
    "#         return {\n",
    "#             \"min_lr\": self.min_lr,\n",
    "#             \"max_lr\": self.max_lr,\n",
    "#             \"step_size\": self.step_size,\n",
    "#             \"mode\": self.mode,\n",
    "#             \"gamma\": self.gamma,\n",
    "#         }\n",
    "      \n",
    "\n",
    "\n",
    "\n",
    "# # # Function to generate positional encoding + input\n",
    "# # @tf.keras.utils.register_keras_serializable()\n",
    "# # class PositionalEncodingLayer(tf.keras.layers.Layer):\n",
    "# #     def __init__(self, seq_len, d_model, **kwargs):\n",
    "# #         super(PositionalEncodingLayer, self).__init__(**kwargs)\n",
    "# #         self.seq_len = seq_len\n",
    "# #         self.d_model = d_model\n",
    "# #         self.pos_encoding = self.get_positional_encoding(seq_len, d_model)\n",
    "        \n",
    "# #     def get_positional_encoding(self, seq_len, d_model):\n",
    "# #         angles = np.arange(seq_len)[:, np.newaxis] / np.power(10000, 2 * (np.arange(d_model)[np.newaxis, :] // 2) / d_model)\n",
    "# #         positional_encoding = np.zeros((seq_len, d_model))\n",
    "# #         positional_encoding[:, 0::2] = np.sin(angles[:, 0::2])\n",
    "# #         positional_encoding[:, 1::2] = np.cos(angles[:, 1::2])\n",
    "# #         return tf.constant(positional_encoding, dtype=tf.float32)\n",
    "        \n",
    "# #     def call(self, inputs):\n",
    "# #         pos_encoding = tf.expand_dims(self.pos_encoding, axis=0)\n",
    "# #         return inputs + pos_encoding\n",
    "\n",
    "# #     def get_config(self):\n",
    "# #         config = super(PositionalEncodingLayer, self).get_config()\n",
    "# #         config.update({\n",
    "# #             'seq_len': self.seq_len,\n",
    "# #             'd_model': self.d_model\n",
    "# #         })\n",
    "# #         return config\n",
    "\n",
    "# @tf.keras.utils.register_keras_serializable()\n",
    "# class GroupWiseTimeDistributed(tf.keras.layers.Layer):\n",
    "#     def __init__(self, layer_to_apply, **kwargs):\n",
    "#         super(GroupWiseTimeDistributed, self).__init__(**kwargs)\n",
    "#         self.layer_to_apply = layer_to_apply\n",
    "\n",
    "#     def build(self, input_shape):\n",
    "#         super(GroupWiseTimeDistributed, self).build(input_shape)\n",
    "\n",
    "#     def call(self, x):\n",
    "#         # print(\"Initial input shape:\", x.shape)  # Debugging line\n",
    "#         xs = tf.split(x, x.shape[1], axis=1)\n",
    "#         processed_xs = []\n",
    "#         for group in xs:\n",
    "#             # print(\"Shape after splitting (one group):\", group.shape)  # Debugging line\n",
    "#             group_squeezed = tf.squeeze(group, axis=1)\n",
    "#             # print(\"Shape before applying layer:\", group_squeezed.shape)  # Debugging line\n",
    "#             processed_group = self.layer_to_apply(group_squeezed)\n",
    "#             # print(\"Shape after applying layer:\", processed_group.shape)  # Debugging line\n",
    "#             processed_xs.append(processed_group)\n",
    "#         output = tf.stack(processed_xs, axis=1)\n",
    "#         # print(\"Final output shape:\", output.shape)  # Debugging line\n",
    "#         return output\n",
    "\n",
    "#     def get_config(self):\n",
    "#         config = super(GroupWiseTimeDistributed, self).get_config()\n",
    "#         config.update({\n",
    "#             'layer_to_apply_config': tf.keras.layers.serialize(self.layer_to_apply)\n",
    "#         })\n",
    "#         return config\n",
    "\n",
    "#     @classmethod\n",
    "#     def from_config(cls, config):\n",
    "#         layer_to_apply_config = config.pop('layer_to_apply_config')\n",
    "#         layer_to_apply = tf.keras.layers.deserialize(layer_to_apply_config)\n",
    "#         return cls(layer_to_apply=layer_to_apply, **config)\n",
    "\n",
    "\n",
    "\n",
    "\n",
    "# # Function to generate positional encoding + input\n",
    "# @tf.keras.utils.register_keras_serializable()\n",
    "# class PositionalEncodingLayer(tf.keras.layers.Layer):\n",
    "#     def __init__(self, **kwargs):\n",
    "#         super(PositionalEncodingLayer, self).__init__(**kwargs)\n",
    "\n",
    "#     def build(self, input_shape):\n",
    "#         self.seq_len, self.d_model = input_shape[-2], input_shape[-1]\n",
    "#         self.pos_encoding = self.get_positional_encoding(self.seq_len, self.d_model)\n",
    "\n",
    "#     def get_positional_encoding(self, seq_len, d_model):\n",
    "#         angles = np.arange(seq_len)[:, np.newaxis] / np.power(10000, 2 * (np.arange(d_model)[np.newaxis, :] // 2) / d_model)\n",
    "#         positional_encoding = np.zeros((seq_len, d_model))\n",
    "#         positional_encoding[:, 0::2] = np.sin(angles[:, 0::2])\n",
    "#         positional_encoding[:, 1::2] = np.cos(angles[:, 1::2])\n",
    "#         return tf.constant(positional_encoding, dtype=tf.float32)\n",
    "\n",
    "#     def call(self, inputs):\n",
    "#         pos_encoding = tf.expand_dims(self.pos_encoding, 0)  # Modified line\n",
    "#         return inputs + pos_encoding\n",
    "    \n",
    "#     def get_config(self):\n",
    "#         config = super(PositionalEncodingLayer, self).get_config()\n",
    "#         return config\n",
    "\n",
    "#     @classmethod\n",
    "#     def from_config(cls, config):\n",
    "#         return cls(**config)\n",
    "\n",
    "      \n",
    "\n",
    "        \n",
    "# @tf.keras.utils.register_keras_serializable()\n",
    "# class CustomAttention(layers.Layer):\n",
    "#     def __init__(self, **kwargs):\n",
    "#         super(CustomAttention, self).__init__(**kwargs)\n",
    "\n",
    "#     def build(self, input_shape):\n",
    "#         self.W = self.add_weight(shape=(input_shape[-1], 1),\n",
    "#                                  initializer='random_normal',\n",
    "#                                  trainable=True)\n",
    "        \n",
    "#     def call(self, inputs):\n",
    "#         logits = tf.matmul(inputs, self.W)\n",
    "#         attention_weights = tf.nn.softmax(logits, axis=1)\n",
    "#         weighted_sum = tf.reduce_sum(inputs * attention_weights, axis=1)\n",
    "#         return weighted_sum\n",
    "\n",
    "#     def get_config(self):\n",
    "#         config = super().get_config()\n",
    "#         return config\n",
    "\n",
    "#     @classmethod\n",
    "#     def from_config(cls, config):\n",
    "#         return cls(**config)\n",
    "    \n",
    "\n",
    "# # Define Advanced Custom Attention layer\n",
    "# @tf.keras.utils.register_keras_serializable()\n",
    "# class AdvancedCustomAttention(layers.Layer):\n",
    "#     def __init__(self, n_heads=4, d_model=None, **kwargs):\n",
    "#         super(AdvancedCustomAttention, self).__init__(**kwargs)\n",
    "#         self.n_heads = n_heads\n",
    "#         self.d_model = d_model\n",
    "\n",
    "#     def build(self, input_shape):\n",
    "#         if self.d_model is None:\n",
    "#             self.d_model = input_shape[-1]\n",
    "#         self.WQ = self.add_weight(shape=(self.d_model, self.d_model),\n",
    "#                                  initializer='random_normal',\n",
    "#                                  trainable=True)\n",
    "#         self.WK = self.add_weight(shape=(self.d_model, self.d_model),\n",
    "#                                  initializer='random_normal',\n",
    "#                                  trainable=True)\n",
    "#         self.WV = self.add_weight(shape=(self.d_model, self.d_model),\n",
    "#                                  initializer='random_normal',\n",
    "#                                  trainable=True)\n",
    "#         self.WO = self.add_weight(shape=(self.d_model, self.d_model),\n",
    "#                                  initializer='random_normal',\n",
    "#                                  trainable=True)\n",
    "\n",
    "#     def call(self, inputs):\n",
    "#         q = tf.matmul(inputs, self.WQ)\n",
    "#         k = tf.matmul(inputs, self.WK)\n",
    "#         v = tf.matmul(inputs, self.WV)\n",
    "        \n",
    "#         # Split heads\n",
    "#         q = self.split_heads(q, self.n_heads)\n",
    "#         k = self.split_heads(k, self.n_heads)\n",
    "#         v = self.split_heads(v, self.n_heads)\n",
    "\n",
    "#         # Scaled dot-product attention\n",
    "#         matmul_qk = tf.matmul(q, k, transpose_b=True)\n",
    "#         d_k = tf.cast(tf.shape(k)[-1], tf.float32)\n",
    "#         scaled_attention_logits = matmul_qk / tf.math.sqrt(d_k)\n",
    "        \n",
    "#         attention_weights = tf.nn.softmax(scaled_attention_logits, axis=-1)\n",
    "#         output = tf.matmul(attention_weights, v)\n",
    "        \n",
    "#         # Concatenate heads and pass through final linear layer\n",
    "#         output = self.concat_heads(output, self.n_heads)\n",
    "#         output = tf.matmul(output, self.WO)\n",
    "        \n",
    "#         # Average over the sequence dimension to collapse it\n",
    "#         output = tf.reduce_mean(output, axis=1)\n",
    "        \n",
    "#         return output\n",
    "\n",
    "#     def split_heads(self, x, n_heads):\n",
    "#         batch_size = tf.shape(x)[0]\n",
    "#         depth = self.d_model // n_heads\n",
    "#         reshaped_x = tf.reshape(x, (batch_size, -1, n_heads, depth))\n",
    "#         return tf.transpose(reshaped_x, perm=[0, 2, 1, 3])\n",
    "    \n",
    "#     def concat_heads(self, x, n_heads):\n",
    "#         batch_size = tf.shape(x)[0]\n",
    "#         depth = self.d_model // n_heads\n",
    "#         x = tf.transpose(x, perm=[0, 2, 1, 3])\n",
    "#         return tf.reshape(x, (batch_size, -1, self.d_model))\n",
    "\n",
    "#     def get_config(self):\n",
    "#         config = super(AdvancedCustomAttention, self).get_config()\n",
    "#         config.update({\n",
    "#             'n_heads': self.n_heads,\n",
    "#             'd_model': self.d_model\n",
    "#         })\n",
    "#         return config\n",
    "\n",
    "#     @classmethod\n",
    "#     def from_config(cls, config):\n",
    "#         return cls(**config)\n",
    "    \n",
    "    \n",
    "# # Attention mechanism for prob_dist\n",
    "# @tf.keras.utils.register_keras_serializable()\n",
    "# class ProbDistAttention(layers.Layer):\n",
    "#     def __init__(self, output_dim=input_length*16, **kwargs):\n",
    "#         super(ProbDistAttention, self).__init__(**kwargs)\n",
    "#         self.output_dim = output_dim\n",
    "\n",
    "#     def build(self, input_shape):\n",
    "#         self.W = self.add_weight(shape=(input_shape[-1], self.output_dim),  # use it here\n",
    "#                                  initializer='random_normal',\n",
    "#                                  trainable=True)\n",
    "        \n",
    "#     def call(self, inputs):\n",
    "#         logits = tf.matmul(inputs, self.W)\n",
    "#         attention_weights = tf.nn.softmax(logits, axis=1)\n",
    "#         weighted_sum = tf.reduce_sum(inputs * attention_weights, axis=1)\n",
    "#         return weighted_sum\n",
    "\n",
    "#     def get_config(self):\n",
    "#         config = super().get_config()\n",
    "#         return config\n",
    "\n",
    "#     @classmethod\n",
    "#     def from_config(cls, config):\n",
    "#         return cls(**config)\n"
   ]
  },
  {
   "cell_type": "code",
   "execution_count": 15,
   "metadata": {},
   "outputs": [],
   "source": [
    "# # Parameters\n",
    "# group_size = 30\n",
    "# embedding_dim = 16 * input_length  # Modified based on input_length\n",
    "# prob_embedding_dim = 16  # Probability embedding dimension\n",
    "# num_heads = 4  # Increased from 2 to 4\n",
    "# ffn_dim = 512  \n",
    "# n_layers = 4  # Increased from 3 to 4\n",
    "# dropout_rate = 0.2  # Dropout rate for regularization\n",
    "\n",
    "\n",
    "# # Inputs\n",
    "# input_y_transformer = layers.Input(shape=(group_size, 2), name='input_y_transformer')\n",
    "# input_gate_transformer = layers.Input(shape=(group_size, input_length, 4, 4), name='input_gate_transformer')\n",
    "\n",
    "# # Flatten layer instance to apply to each group\n",
    "# flatten_layer = layers.Flatten()\n",
    "\n",
    "# # GroupWiseTimeDistributed with the Flatten layer (from your original code)\n",
    "# groupwise_time_distributed = GroupWiseTimeDistributed(flatten_layer)\n",
    "# processed_gate = groupwise_time_distributed(input_gate_transformer)\n",
    "\n",
    "# # Positional encoding (from your original code)\n",
    "# positional_encoding = PositionalEncodingLayer()\n",
    "# processed_gate_with_position = positional_encoding(processed_gate)\n",
    "\n",
    "# # Initialize the regularization (Dropout) layer\n",
    "# dropout_layer = layers.Dropout(dropout_rate)\n",
    "\n",
    "# # Transformer layers\n",
    "# x = processed_gate_with_position\n",
    "# for _ in range(n_layers):\n",
    "#     # Multi-Head Attention\n",
    "#     attention = layers.MultiHeadAttention(num_heads=num_heads, key_dim=embedding_dim, dropout=dropout_rate)(x, x)\n",
    "    \n",
    "#     # Add & Norm (with Dropout for regularization)\n",
    "#     x = layers.LayerNormalization()(attention + dropout_layer(x))\n",
    "    \n",
    "#     # Feed-forward Network\n",
    "#     ffn_output = layers.Dense(ffn_dim, activation='gelu')(x)  # Changed activation to GELU\n",
    "#     ffn_output = layers.Dense(embedding_dim)(ffn_output)  # Removed activation to make it linear\n",
    "    \n",
    "#     # Add & Norm (with Dropout for regularization)\n",
    "#     x = layers.LayerNormalization()(ffn_output + dropout_layer(x))\n",
    "\n",
    "# # Custom Attention to convert sequence to single vector (from your original code)\n",
    "# # Modified to be more expressive (additional Dense layer for weighting)\n",
    "# attention_weights = layers.Dense(embedding_dim, activation='tanh')(x)\n",
    "# advanced_attention = AdvancedCustomAttention()(attention_weights)\n",
    "\n",
    "# # Existing code for Custom Attention and processing of prob_dist remains the same\n",
    "# prob_dist = layers.Dense(prob_embedding_dim, activation='leaky_relu')(input_y_transformer)\n",
    "# prob_dist = layers.Dense(input_length*16, activation='leaky_relu')(prob_dist)\n",
    "# # print(f\"Shape of prob_dist: {prob_dist.shape}\")\n",
    "# prob_dist_attention = ProbDistAttention()(prob_dist)\n",
    "# # print(f\"Shape of prob_dist_attention: {prob_dist_attention.shape}\")\n",
    "# # prob_dist_attention = layers.Flatten()(prob_dist_attention)\n",
    "\n",
    "# print(f\"Shape of advanced_attention: {advanced_attention.shape}\")\n",
    "# print(f\"Shape of prob_dist_attention: {prob_dist_attention.shape}\")\n",
    "\n",
    "\n",
    "# # Feature-wise multiplication of the final_output and prob_dist\n",
    "# feature_wise_multiplication = layers.Multiply()([advanced_attention , prob_dist_attention])\n",
    "# print(f\"Shape of feature_wise_multiplication: {feature_wise_multiplication.shape}\")\n",
    "\n",
    "# # Learned Combination of final_output and prob_dist\n",
    "# combination_weights = layers.Dense(input_length*16, activation='sigmoid')(feature_wise_multiplication)\n",
    "# learned_combination = layers.Multiply()([feature_wise_multiplication, combination_weights])\n",
    "\n",
    "# # Continue with the Dense layers as before\n",
    "# dense_transformer = layers.Dense(256, activation='leaky_relu')(learned_combination)\n",
    "# dense_transformer = layers.Dropout(dropout_rate)(dense_transformer)\n",
    "# dense_transformer = layers.Dense(256, activation='leaky_relu')(dense_transformer)\n",
    "# dense_transformer = layers.Dropout(dropout_rate)(dense_transformer)\n",
    "\n",
    "# depolar_error_pred = layers.Dense(256, activation='leaky_relu')(dense_transformer)\n",
    "# depolar_error_pred = layers.Dropout(dropout_rate)(depolar_error_pred)\n",
    "# over_rotation_pred = layers.Dense(256, activation='leaky_relu')(dense_transformer)\n",
    "# over_rotation_pred = layers.Dropout(dropout_rate)(over_rotation_pred)\n",
    "\n",
    "# depolar_error_pred = layers.Dense(1, activation='relu')(depolar_error_pred)\n",
    "# over_rotation_pred = layers.Dense(2, activation='tanh')(over_rotation_pred)\n",
    "\n",
    "# output_transformer = layers.Concatenate()([depolar_error_pred, over_rotation_pred])\n",
    "\n",
    "\n",
    "# # Model\n",
    "# model = Model(inputs=[input_gate_transformer, input_y_transformer], outputs=output_transformer)\n",
    "\n",
    "# # lr_schedule = TriangularLearningRateScheduler(min_lr=1e-6, max_lr=1e-5, step_size=2000)\n",
    "# # lr_schedule = TriangularLearningRateScheduler(min_lr=5e-5, max_lr=5e-5, step_size=1000)\n",
    "\n",
    "# initial_learning_rate = 1e-6\n",
    "# decay_steps = 100\n",
    "# # decay_rate = 0.95\n",
    "# decay_rate = 0.95\n",
    "\n",
    "# lr_schedule = tf.keras.optimizers.schedules.ExponentialDecay(\n",
    "#     initial_learning_rate, decay_steps, decay_rate, staircase=True\n",
    "# )\n",
    "\n",
    "\n",
    "# optimizer = tf.keras.optimizers.Adam(learning_rate=lr_schedule)\n",
    "\n",
    "# model.compile(optimizer=optimizer, loss='mse')\n",
    "# model.summary()\n",
    "\n",
    "\n",
    "# # lr_schedule = TriangularLearningRateScheduler(min_lr=1e-6, max_lr=1e-5, step_size=2000)\n",
    "# # optimizer = tf.keras.optimizers.Adam(learning_rate=lr_schedule)\n",
    "\n",
    "# # optimizer = tf.keras.optimizers.Adam(lr_schedule, beta_1=0.9, beta_2=0.98, epsilon=1e-9)\n",
    "\n",
    "\n"
   ]
  },
  {
   "cell_type": "code",
   "execution_count": 16,
   "metadata": {
    "tags": []
   },
   "outputs": [],
   "source": [
    "class DebuggingLayer(layers.Layer):\n",
    "    def __init__(self, **kwargs):\n",
    "        super(DebuggingLayer, self).__init__(**kwargs)\n",
    "\n",
    "    def call(self, inputs):\n",
    "        # print(\"Shape of inputs:\", tf.shape(inputs))\n",
    "        print(\"Shape of inputs:\", inputs.shape)\n",
    "        return inputs  # Pass-through layer, does not alter the inputs\n"
   ]
  },
  {
   "cell_type": "code",
   "execution_count": 17,
   "metadata": {},
   "outputs": [
    {
     "name": "stdout",
     "output_type": "stream",
     "text": [
      "WARNING:tensorflow:From C:\\Users\\ALAN\\anaconda3\\envs\\ML4GST\\Lib\\site-packages\\keras\\src\\backend.py:1398: The name tf.executing_eagerly_outside_functions is deprecated. Please use tf.compat.v1.executing_eagerly_outside_functions instead.\n",
      "\n",
      "Model: \"model\"\n",
      "__________________________________________________________________________________________________\n",
      " Layer (type)                Output Shape                 Param #   Connected to                  \n",
      "==================================================================================================\n",
      " input_y_transformer (Input  [(None, 30, 2)]              0         []                            \n",
      " Layer)                                                                                           \n",
      "                                                                                                  \n",
      " input_gate_transformer (In  [(None, 30, 19)]             0         []                            \n",
      " putLayer)                                                                                        \n",
      "                                                                                                  \n",
      " dense (Dense)               (None, 30, 16)               48        ['input_y_transformer[0][0]'] \n",
      "                                                                                                  \n",
      " embedding (Embedding)       (None, 30, 19, 8)            32        ['input_gate_transformer[0][0]\n",
      "                                                                    ']                            \n",
      "                                                                                                  \n",
      " reshape (Reshape)           (None, 30, 2, 8)             0         ['dense[0][0]']               \n",
      "                                                                                                  \n",
      " positional_encoding_layer   (None, 30, 19, 8)            0         ['embedding[0][0]']           \n",
      " (PositionalEncodingLayer)                                                                        \n",
      "                                                                                                  \n",
      " positional_encoding_layer_  (None, 30, 2, 8)             0         ['reshape[0][0]']             \n",
      " 1 (PositionalEncodingLayer                                                                       \n",
      " )                                                                                                \n",
      "                                                                                                  \n",
      " multi_head_attention (Mult  (None, 30, 19, 8)            1128      ['positional_encoding_layer[0]\n",
      " iHeadAttention)                                                    [0]',                         \n",
      "                                                                     'positional_encoding_layer_1[\n",
      "                                                                    0][0]']                       \n",
      "                                                                                                  \n",
      " transformer_encoder (Trans  (None, 30, 19, 8)            39488     ['multi_head_attention[0][0]']\n",
      " formerEncoder)                                                                                   \n",
      "                                                                                                  \n",
      " flatten (Flatten)           (None, 4560)                 0         ['transformer_encoder[0][0]'] \n",
      "                                                                                                  \n",
      " dense_9 (Dense)             (None, 2048)                 9340928   ['flatten[0][0]']             \n",
      "                                                                                                  \n",
      " dropout_8 (Dropout)         (None, 2048)                 0         ['dense_9[0][0]']             \n",
      "                                                                                                  \n",
      " dense_10 (Dense)            (None, 1024)                 2098176   ['dropout_8[0][0]']           \n",
      "                                                                                                  \n",
      " dropout_9 (Dropout)         (None, 1024)                 0         ['dense_10[0][0]']            \n",
      "                                                                                                  \n",
      " dense_11 (Dense)            (None, 256)                  262400    ['dropout_9[0][0]']           \n",
      "                                                                                                  \n",
      " dense_14 (Dense)            (None, 256)                  262400    ['dropout_9[0][0]']           \n",
      "                                                                                                  \n",
      " dropout_10 (Dropout)        (None, 256)                  0         ['dense_11[0][0]']            \n",
      "                                                                                                  \n",
      " dropout_11 (Dropout)        (None, 256)                  0         ['dense_14[0][0]']            \n",
      "                                                                                                  \n",
      " dense_12 (Dense)            (None, 128)                  32896     ['dropout_10[0][0]']          \n",
      "                                                                                                  \n",
      " dense_15 (Dense)            (None, 128)                  32896     ['dropout_11[0][0]']          \n",
      "                                                                                                  \n",
      " dense_13 (Dense)            (None, 2)                    258       ['dense_12[0][0]']            \n",
      "                                                                                                  \n",
      " dense_16 (Dense)            (None, 2)                    258       ['dense_15[0][0]']            \n",
      "                                                                                                  \n",
      " concatenate (Concatenate)   (None, 4)                    0         ['dense_13[0][0]',            \n",
      "                                                                     'dense_16[0][0]']            \n",
      "                                                                                                  \n",
      "==================================================================================================\n",
      "Total params: 12070908 (46.05 MB)\n",
      "Trainable params: 12070908 (46.05 MB)\n",
      "Non-trainable params: 0 (0.00 Byte)\n",
      "__________________________________________________________________________________________________\n"
     ]
    }
   ],
   "source": [
    "# Parameters (adjustable)\n",
    "num_layers = 4  # Number of Transformer layers\n",
    "num_heads = 4  # Number of attention heads\n",
    "d_model = 8  # Feature dimension\n",
    "dff = 512  # Dimension of feed-forward network\n",
    "group_size = 30  # Example group size\n",
    "input_length = len(X_train[0][0])  # Example input length\n",
    "prob_embedding_dim = 8  # Probability embedding dimension (Unused)\n",
    "vocab_size = 4\n",
    "\n",
    "# Positional Encoding Layer (Serializable)\n",
    "@tf.keras.utils.register_keras_serializable()\n",
    "class PositionalEncodingLayer(layers.Layer):\n",
    "    def __init__(self, d_model, **kwargs):\n",
    "        super(PositionalEncodingLayer, self).__init__(**kwargs)\n",
    "        self.d_model = d_model\n",
    "\n",
    "    def build(self, input_shape):\n",
    "        # Calculate positional encoding for the combined group_size and input_length\n",
    "        seq_len = input_shape[1] * input_shape[2]  # group_size * input_length\n",
    "        # print(f\"input_shape[1]: {input_shape[1]}\")\n",
    "        # print(f\"input_shape[2]: {input_shape[2]}\")\n",
    "        self.pos_encoding = self.get_positional_encoding(seq_len, self.d_model)\n",
    "\n",
    "    def call(self, inputs):\n",
    "        # Reshape inputs to (batch_size, group_size * input_length, d_model) for adding positional encoding\n",
    "        seq_len = tf.shape(inputs)[1] * tf.shape(inputs)[2]\n",
    "        reshaped_inputs = tf.reshape(inputs, [-1, seq_len, self.d_model])\n",
    "        # print(f\"reshaped_inputs: {reshaped_inputs.shape}\")\n",
    "        output = reshaped_inputs + self.pos_encoding\n",
    "        # print(f\"output: {output.shape}\")\n",
    "        # Reshape back to original input shape\n",
    "        return tf.reshape(output, [-1, tf.shape(inputs)[1], tf.shape(inputs)[2], self.d_model])\n",
    "\n",
    "    def get_positional_encoding(self, seq_len, d_model):\n",
    "        angles = np.arange(seq_len)[:, np.newaxis] / np.power(10000, (2 * (np.arange(d_model)[np.newaxis, :] // 2)) / np.float32(d_model))\n",
    "        sines = np.sin(angles[:, 0::2])\n",
    "        cosines = np.cos(angles[:, 1::2])\n",
    "\n",
    "        pos_encoding = np.concatenate([sines, cosines], axis=-1)\n",
    "        pos_encoding = pos_encoding[np.newaxis, ...]\n",
    "\n",
    "        return tf.cast(pos_encoding, dtype=tf.float32)\n",
    "\n",
    "    def get_config(self):\n",
    "        config = super(PositionalEncodingLayer, self).get_config()\n",
    "        config.update({\"d_model\": self.d_model})\n",
    "        return config\n",
    "\n",
    "    @classmethod\n",
    "    def from_config(cls, config):\n",
    "        return cls(**config)\n",
    "\n",
    "\n",
    "# Transformer Encoder Layer (Serializable)\n",
    "@tf.keras.utils.register_keras_serializable()\n",
    "class TransformerEncoderLayer(models.Model):\n",
    "    def __init__(self, d_model, num_heads, dff, rate=0.1, **kwargs):\n",
    "        super(TransformerEncoderLayer, self).__init__(**kwargs)\n",
    "        self.d_model = d_model\n",
    "        self.num_heads = num_heads\n",
    "        self.dff = dff\n",
    "        self.rate = rate\n",
    "\n",
    "        self.attention = layers.MultiHeadAttention(num_heads=num_heads, key_dim=d_model)\n",
    "        self.dropout1 = layers.Dropout(rate)\n",
    "        self.norm1 = layers.LayerNormalization(epsilon=1e-6)\n",
    "\n",
    "        self.ffn = models.Sequential([\n",
    "            layers.Dense(dff, activation='gelu'),\n",
    "            layers.Dense(d_model)\n",
    "        ])\n",
    "        self.dropout2 = layers.Dropout(rate)\n",
    "        self.norm2 = layers.LayerNormalization(epsilon=1e-6)\n",
    "\n",
    "    def call(self, inputs):\n",
    "        attn_output = self.attention(inputs, inputs)\n",
    "        attn_output = self.dropout1(attn_output)\n",
    "        out1 = self.norm1(inputs + attn_output)\n",
    "\n",
    "        ffn_output = self.ffn(out1)\n",
    "        ffn_output = self.dropout2(ffn_output)\n",
    "        return self.norm2(out1 + ffn_output)\n",
    "\n",
    "    def get_config(self):\n",
    "        config = super(TransformerEncoderLayer, self).get_config()\n",
    "        config.update({\n",
    "            'd_model': self.d_model,\n",
    "            'num_heads': self.num_heads,\n",
    "            'dff': self.dff,\n",
    "            'rate': self.rate\n",
    "        })\n",
    "        return config\n",
    "\n",
    "# Transformer Encoder (Serializable)\n",
    "@tf.keras.utils.register_keras_serializable()\n",
    "class TransformerEncoder(models.Model):\n",
    "    def __init__(self, num_layers, d_model, num_heads, dff, rate=0.1, **kwargs):\n",
    "        super(TransformerEncoder, self).__init__(**kwargs)\n",
    "        self.num_layers = num_layers\n",
    "        self.d_model = d_model\n",
    "        self.num_heads = num_heads\n",
    "        self.dff = dff\n",
    "        self.rate = rate\n",
    "\n",
    "        self.enc_layers = [TransformerEncoderLayer(d_model, num_heads, dff, rate)\n",
    "                           for _ in range(num_layers)]\n",
    "\n",
    "    def call(self, inputs):\n",
    "        x = inputs\n",
    "        for layer in self.enc_layers:\n",
    "            x = layer(x)\n",
    "        return x\n",
    "\n",
    "    def get_config(self):\n",
    "        config = super(TransformerEncoder, self).get_config()\n",
    "        config.update({\n",
    "            'num_layers': self.num_layers,\n",
    "            'd_model': self.d_model,\n",
    "            'num_heads': self.num_heads,\n",
    "            'dff': self.dff,\n",
    "            'rate': self.rate\n",
    "        })\n",
    "        return config\n",
    "\n",
    "\n",
    "# Inputs\n",
    "input_y_transformer = layers.Input(shape=(group_size, 2), name='input_y_transformer')\n",
    "input_gate_transformer = layers.Input(shape=(group_size, input_length), name='input_gate_transformer')\n",
    "\n",
    "\n",
    "# Embedding and Positional Encoding for gate sequences\n",
    "gate_embedding_layer = layers.Embedding(output_dim=d_model, input_dim=vocab_size)\n",
    "gate_embeddings = gate_embedding_layer(input_gate_transformer)\n",
    "# print(f'gate_embeddings')\n",
    "# gate_embeddings = DebuggingLayer()(gate_embeddings)\n",
    "gate_pos_encoding_layer = PositionalEncodingLayer(d_model=d_model)\n",
    "gate_pos_encoding = gate_pos_encoding_layer(gate_embeddings)\n",
    "# print(f'gate_pos_encoding')\n",
    "# gate_pos_encoding = DebuggingLayer()(gate_pos_encoding)\n",
    "\n",
    "# Embedding-like transformation for probabilities\n",
    "prob_transform_layer = layers.Dense(2 * d_model, activation='gelu')\n",
    "prob_transformed = prob_transform_layer(input_y_transformer)\n",
    "# print(f'prob_transformed')\n",
    "# prob_transformed = DebuggingLayer()(prob_transformed)\n",
    "\n",
    "# Reshape to match the shape of gate sequence embeddings\n",
    "prob_reshaped = layers.Reshape((group_size, 2, d_model))(prob_transformed)\n",
    "# print(f'prob_reshaped')\n",
    "# prob_reshaped = DebuggingLayer()(prob_reshaped)\n",
    "# print(f'before prob_pos_encoding')\n",
    "prob_pos_encoding_layer = PositionalEncodingLayer(d_model=d_model)\n",
    "prob_pos_encoding = prob_pos_encoding_layer(prob_reshaped)\n",
    "\n",
    "# Cross-Attention between Dataset 1 and Dataset 2\n",
    "cross_attention = layers.MultiHeadAttention(num_heads=num_heads, key_dim=d_model)\n",
    "cross_attention_output = cross_attention(gate_pos_encoding, prob_pos_encoding)\n",
    "\n",
    "# Applying Transformer Encoder to the output of cross-attention\n",
    "transformer_block = TransformerEncoder(num_layers, d_model, num_heads, dff)\n",
    "encoded_output = transformer_block(cross_attention_output)\n",
    "\n",
    "# Regression Prediction\n",
    "flattened = layers.Flatten()(encoded_output)\n",
    "# flattened = layers.Dropout(0.2)(flattened)\n",
    "dense_layer = layers.Dense(2048, activation='gelu')(flattened)\n",
    "dense_layer = layers.Dropout(0.2)(dense_layer)\n",
    "dense_layer = layers.Dense(1024, activation='gelu')(dense_layer)\n",
    "dense_layer = layers.Dropout(0.2)(dense_layer)\n",
    "# dense_layer = layers.Dense(256, activation='gelu')(dense_layer)\n",
    "# dense_layer = layers.Dropout(0.2)(dense_layer)\n",
    "# output = layers.Dense(3, activation='tanh')(dense_layer)\n",
    "\n",
    "depolar_error_pred = layers.Dense(256, activation='gelu')(dense_layer)\n",
    "depolar_error_pred = layers.Dropout(0.2)(depolar_error_pred)\n",
    "depolar_error_pred = layers.Dense(128, activation='gelu')(depolar_error_pred)\n",
    "depolar_error_pred = layers.Dense(2, activation='tanh')(depolar_error_pred)\n",
    "# depolar_error_pred = layers.Dense(1, activation='gelu')(depolar_error_pred)\n",
    "\n",
    "over_rotation_pred = layers.Dense(256, activation='gelu')(dense_layer)\n",
    "over_rotation_pred = layers.Dropout(0.2)(over_rotation_pred)\n",
    "over_rotation_pred = layers.Dense(128, activation='gelu')(over_rotation_pred)\n",
    "over_rotation_pred = layers.Dense(2, activation='tanh')(over_rotation_pred)\n",
    "\n",
    "output = layers.Concatenate()([depolar_error_pred, over_rotation_pred])\n",
    "\n",
    "# Full Model\n",
    "model = models.Model(inputs=[input_gate_transformer, input_y_transformer], outputs=output)\n",
    "\n",
    "# lr_schedule = TriangularLearningRateScheduler(min_lr=1e-6, max_lr=1e-5, step_size=2000)\n",
    "# lr_schedule = TriangularLearningRateScheduler(min_lr=5e-5, max_lr=5e-5, step_size=1000)\n",
    "\n",
    "initial_learning_rate = 1e-6\n",
    "decay_steps = 200\n",
    "# decay_rate = 0.95\n",
    "decay_rate = 0.95\n",
    "\n",
    "lr_schedule = tf.keras.optimizers.schedules.ExponentialDecay(\n",
    "    initial_learning_rate, decay_steps, decay_rate, staircase=True\n",
    ")\n",
    "\n",
    "optimizer = tf.keras.optimizers.Adam(learning_rate=lr_schedule)\n",
    "\n",
    "# Compile the Model\n",
    "model.compile(optimizer=optimizer, loss='mse')\n",
    "model.summary()\n"
   ]
  },
  {
   "cell_type": "code",
   "execution_count": 18,
   "metadata": {
    "tags": []
   },
   "outputs": [
    {
     "data": {
      "image/png": "[encoded data removed]",
      "text/plain": [
       "<IPython.core.display.Image object>"
      ]
     },
     "execution_count": 18,
     "metadata": {},
     "output_type": "execute_result"
    }
   ],
   "source": [
    "plot_model(model, to_file='model_plot.png', show_shapes=True, show_layer_names=True)"
   ]
  },
  {
   "cell_type": "code",
   "execution_count": 19,
   "metadata": {},
   "outputs": [],
   "source": [
    "# def easy_PTM_depol_channel(depol_mat):\n",
    "#   PTM_depol = (1-depol_mat)*np.eye(4)\n",
    "#   PTM_depol[0,0] = 1\n",
    "#   return PTM_depol\n",
    "\n",
    "# def pauli_matrices():\n",
    "#     \"\"\"Return the Pauli matrices including identity.\"\"\"\n",
    "#     I = np.eye(2, dtype=complex)\n",
    "#     X = np.array([[0, 1], [1, 0]], dtype=complex)\n",
    "#     Y = np.array([[0, -1j], [1j, 0]], dtype=complex)\n",
    "#     Z = np.array([[1, 0], [0, -1]], dtype=complex)\n",
    "#     return [I, X, Y, Z]\n",
    "\n",
    "# def compute_ideal_ptm(unitary):\n",
    "#     \"\"\"Compute the ideal PTM from a given unitary.\"\"\"\n",
    "#     paulis = pauli_matrices()\n",
    "#     ptm_ideal = np.zeros((4, 4), dtype=complex)\n",
    "\n",
    "#     for i in range(4):\n",
    "#         for j in range(4):\n",
    "#             ptm_ideal[i, j] = 0.5 * np.trace(np.dot(paulis[i], np.dot(unitary, np.dot(paulis[j], np.conjugate(unitary.T)))))\n",
    "#     return ptm_ideal\n",
    "\n",
    "# def general_custom_gate(theta, delta, depol_amt, gate):\n",
    "#   # Parameters\n",
    "#   # theta = np.pi / 2  # Example theta (45 degrees)\n",
    "#   # delta = 0.1  # Over-rotational error in radians\n",
    "#   # depolarizing_error = 0.01  # Depolarizing error rate\n",
    "\n",
    "#   # Calculate PTM for ideal Rx(theta + delta) rotation including the over-rotational error\n",
    "#   unitary_rx_adjusted = np.cos((theta + delta) / 2) * np.eye(2) - 1j * np.sin((theta + delta) / 2) * pauli_matrices()[gate]\n",
    "#   ptm_adjusted_rx = compute_ideal_ptm(unitary_rx_adjusted)\n",
    "\n",
    "#   # Calculate combined PTM with depolarizing error\n",
    "#   ptm = np.dot(easy_PTM_depol_channel(depol_amt), ptm_adjusted_rx)\n",
    "\n",
    "#   return ptm.real\n",
    "\n",
    "# # print('ptm_adjusted_rx: \\n', np.round(ptm_adjusted_rx,5))\n",
    "# # print('final ptm: \\n', np.round(ptm,5))\n"
   ]
  },
  {
   "cell_type": "code",
   "execution_count": 20,
   "metadata": {},
   "outputs": [],
   "source": [
    "# Tensorflow does not support numpy array operations for backprop\n",
    "# def easy_PTM_depol_channel(depol_mat):\n",
    "#     PTM_depol = (1 - np.abs(depol_mat)) * np.eye(4)\n",
    "#     # Create a new tensor with the modified value at index [0, 0]\n",
    "#     PTM_depol = np.array(PTM_depol)\n",
    "#     PTM_depol[0, 0] = 1\n",
    "#     PTM_depol = tf.convert_to_tensor(PTM_depol, dtype=tf.complex64)\n",
    "#     return PTM_depol\n",
    "\n",
    "def easy_PTM_depol_channel(depol_mat):\n",
    "    identity = tf.eye(4, dtype=tf.float32)\n",
    "    PTM_depol = (1 - tf.math.abs(depol_mat)) * identity\n",
    "    \n",
    "    # Update the value at index [0,0] to 1\n",
    "    # We use Tensorflow operations to ensure gradient computation\n",
    "    PTM_depol = tf.tensor_scatter_nd_update(PTM_depol, [[0,0]], [1])\n",
    "    PTM_depol = tf.cast(PTM_depol, dtype=tf.complex64)\n",
    "    return PTM_depol\n",
    "\n",
    "\n",
    "\n",
    "def pauli_matrices():\n",
    "    \"\"\"Return the Pauli matrices including identity.\"\"\"\n",
    "    I = tf.eye(2, dtype=tf.complex64)\n",
    "    X = tf.constant([[0, 1], [1, 0]], dtype=tf.complex64)\n",
    "    Y_imag = tf.constant([[0, -1], [1, 0]], dtype=tf.float32)\n",
    "    Y_real = tf.constant([[0, 0], [0, 0]], dtype=tf.float32)\n",
    "    Y = tf.complex(Y_real, Y_imag)\n",
    "    # Y = tf.constant([[0, -1j], [1j, 0]], dtype=tf.complex64)\n",
    "    Z = tf.constant([[1, 0], [0, -1]], dtype=tf.complex64)\n",
    "    \n",
    "    return [I, X, Y, Z]\n",
    "\n",
    "def compute_ideal_ptm(unitary):\n",
    "    \"\"\"Compute the ideal PTM from a given unitary.\"\"\"\n",
    "    paulis = pauli_matrices()\n",
    "    ptm_ideal = tf.zeros((4, 4), dtype=tf.complex64)\n",
    "\n",
    "    for i in range(4):\n",
    "        for j in range(4):\n",
    "            term = tf.matmul(unitary, tf.matmul(paulis[j], tf.linalg.adjoint(unitary)))\n",
    "            trace_value = 0.5 * tf.linalg.trace(tf.matmul(paulis[i], term))\n",
    "            \n",
    "            # Update ptm_ideal at position [i, j] with the calculated trace_value\n",
    "            indices = tf.constant([[i, j]])\n",
    "            ptm_ideal = tf.tensor_scatter_nd_add(ptm_ideal, indices, [trace_value])\n",
    "            \n",
    "    return ptm_ideal\n",
    "\n",
    "\n",
    "def general_custom_gate(theta, delta, depol_amt, gate):\n",
    "    # Compute real and imaginary parts as real numbers initially\n",
    "    real_part = tf.cos((theta + delta) / 2)\n",
    "    imag_part = tf.sin((theta + delta) / 2)\n",
    "    \n",
    "    # Cast them to complex numbers only when necessary\n",
    "    unitary_rx_adjusted = tf.cast(real_part, dtype=tf.complex64) * tf.eye(2, dtype=tf.complex64) - 1j * tf.cast(imag_part, dtype=tf.complex64) * pauli_matrices()[gate]\n",
    "    \n",
    "    ptm_adjusted_rx = compute_ideal_ptm(unitary_rx_adjusted)\n",
    "    ptm = tf.matmul(easy_PTM_depol_channel(depol_amt), ptm_adjusted_rx)\n",
    "    \n",
    "    return tf.math.real(ptm)\n"
   ]
  },
  {
   "cell_type": "code",
   "execution_count": 21,
   "metadata": {
    "tags": []
   },
   "outputs": [
    {
     "data": {
      "text/plain": [
       "<tf.Tensor: shape=(4, 4), dtype=float32, numpy=\n",
       "array([[ 1.        ,  0.        ,  0.        ,  0.        ],\n",
       "       [ 0.        , -0.09883507,  0.        ,  0.9850541 ],\n",
       "       [ 0.        ,  0.        ,  0.99      ,  0.        ],\n",
       "       [ 0.        , -0.9850541 ,  0.        , -0.09883507]],\n",
       "      dtype=float32)>"
      ]
     },
     "execution_count": 21,
     "metadata": {},
     "output_type": "execute_result"
    }
   ],
   "source": [
    "general_custom_gate(theta=math.pi/2, delta=0.1, depol_amt=0.01, gate=2)"
   ]
  },
  {
   "cell_type": "code",
   "execution_count": 22,
   "metadata": {
    "tags": []
   },
   "outputs": [],
   "source": [
    "# # Custom X gate\n",
    "# def custom_X(depol_amt, over_rotation):\n",
    "\n",
    "#   # print(f'depol_amt: {self.depol_amt}, over_rotation: {self.over_rotation}')\n",
    "\n",
    "#   theta = (math.pi/4 + over_rotation)/2\n",
    "#   a = 1.0-depol_amt\n",
    "#   b = a*2*tf.math.cos(theta)*tf.math.sin(theta)\n",
    "#   c = a*(tf.math.sin(theta)**2 - tf.math.cos(theta)**2)\n",
    "\n",
    "#   # print(f'a: {a}, b: {b}, c: {c}')\n",
    "\n",
    "#   # ._ptr is a member of DenseOperator and is a numpy array that is\n",
    "#   # the dense Pauli transfer matrix of this operator\n",
    "#   # Technical note: use [:,:] instead of direct assignment so id of self._ptr doesn't change\n",
    "#   custom_X_arr = tf.convert_to_tensor([[1,   0,   0,   0],\n",
    "#                             [0,   a,   0,   0],\n",
    "#                             [0,   0,   c,  -b],\n",
    "#                             [0,   0,   b,   c]], dtype=tf.float32)\n",
    "\n",
    "#   return custom_X_arr\n",
    "\n",
    "def custom_X(depol_amt, over_rotation):\n",
    "  # custom_X_arr = tf.convert_to_tensor(general_custom_gate, dtype=tf.float32)\n",
    "  return general_custom_gate(theta=math.pi/2, delta=over_rotation, depol_amt=depol_amt, gate=1)\n",
    "\n",
    "def custom_Y(depol_amt, over_rotation):\n",
    "  # custom_Y_arr = tf.convert_to_tensor(general_custom_gate, dtype=tf.float32)\n",
    "  return general_custom_gate(theta=math.pi/2, delta=over_rotation, depol_amt=depol_amt, gate=2)\n",
    "\n",
    "\n",
    "def custom_gate_set(depol_amt_X, over_rotation_X, depol_amt_Y, over_rotation_Y):\n",
    "  # Define gates in PTM form\n",
    "  \n",
    "  I = tf.constant([[1, 0, 0, 0],\n",
    "                  [0, 1, 0, 0],\n",
    "                  [0, 0, 1, 0],\n",
    "                  [0, 0, 0, 1]], dtype=tf.float32)  #Gi\n",
    "\n",
    "  # Normalized State corresponding to |0⟩ in Pauli basis\n",
    "  # state_np = np.array([1/np.sqrt(2), 0, 0, 1/np.sqrt(2)], dtype=np.float32)\n",
    "\n",
    "  X_theta = custom_X(depol_amt_X, over_rotation_X)\n",
    "  Y_theta = custom_Y(depol_amt_Y, over_rotation_Y)\n",
    "  \n",
    "  \n",
    "\n",
    "  return [X_theta, Y_theta, I]\n",
    "  \n",
    "\n",
    "  \n",
    "# Define gate application function\n",
    "def apply_gate(state, gate_set, label):\n",
    "    \n",
    "    # print(f\"label: {label}\")\n",
    "  \n",
    "    X_theta = gate_set[0]\n",
    "    Y_theta = gate_set[1]\n",
    "    I = gate_set[2]\n",
    "    \n",
    "    # print(f\"X_theta: {X_theta}\")\n",
    "    # print(f\"Y_theta: {Y_theta}\")\n",
    "    # print(f\"I: {I}\")\n",
    "    \n",
    "    if label == 1:\n",
    "        return tf.linalg.matmul(X_theta, tf.reshape(state, [-1, 1]))\n",
    "    elif label == 2:\n",
    "        return tf.linalg.matmul(Y_theta, tf.reshape(state, [-1, 1]))\n",
    "    elif label == 3:\n",
    "        return tf.linalg.matmul(I, tf.reshape(state, [-1, 1]))\n",
    "    else:\n",
    "        return state  # If label is 0, don't apply any gate  \n",
    "\n",
    "  \n",
    "# # Define gate application function\n",
    "# def apply_gate(state, depol_amt_X, over_rotation_X, depol_amt_Y, over_rotation_Y, label):\n",
    "#     # Construct arrays using NumPy\n",
    "#     # Define gates in PTM form\n",
    "#     I = tf.constant([[1, 0, 0, 0],\n",
    "#                     [0, 1, 0, 0],\n",
    "#                     [0, 0, 1, 0],\n",
    "#                     [0, 0, 0, 1]], dtype=tf.float32)  #Gi\n",
    "    \n",
    "#     # Normalized State corresponding to |0⟩ in Pauli basis\n",
    "#     # state_np = np.array([1/np.sqrt(2), 0, 0, 1/np.sqrt(2)], dtype=np.float32)\n",
    "\n",
    "#     X_theta = custom_X(depol_amt_X, over_rotation_X)\n",
    "#     Y_theta = custom_Y(depol_amt_Y, over_rotation_Y)\n",
    "    \n",
    "\n",
    "#     # X_theta = tf.convert_to_tensor([[1, 0, 0, 0], [0, tf.math.cos(theta_value), 0, tf.math.sin(theta_value)],\n",
    "#     #                        [0, 0, 1, 0], [0, -tf.math.sin(theta_value), 0, tf.math.cos(theta_value)]], dtype=tf.float32)  # Gx\n",
    "\n",
    "\n",
    "#     # print('current label: ', label)\n",
    "\n",
    "#     if label == 1:\n",
    "#         return tf.linalg.matmul(X_theta, tf.reshape(state, [-1, 1]))\n",
    "#     elif label == 2:\n",
    "#         return tf.linalg.matmul(Y_theta, tf.reshape(state, [-1, 1]))\n",
    "#     elif label == 3:\n",
    "#         return tf.linalg.matmul(I, tf.reshape(state, [-1, 1]))\n",
    "#     else:\n",
    "#         return state  # If label is 0, don't apply any gate\n",
    "\n",
    "\n",
    "# def apply_gate_sequence(single_gate_sequence):\n",
    "#     # Initialize state in Pauli basis\n",
    "#     state = tf.convert_to_tensor([1/np.sqrt(2), 0, 0, 1/np.sqrt(2)], dtype=tf.float32)\n",
    "\n",
    "#   # Apply each gate in the sequence\n",
    "#     # print('model(single_gate_sequence[tf.newaxis, :]) ->', model(single_gate_sequence[tf.newaxis, :]))\n",
    "#     depol_amt, over_rotation = tf.squeeze(model(single_gate_sequence[tf.newaxis, :])) # Predict depolar_error, over_rotation for the current gate sequence\n",
    "#     # print('theta_value: ', theta_value)\n",
    "#     # depol_amt = tf.clip_by_value(tf.squeeze(depol_amt), 0, 0.1)\n",
    "#     # over_rotation = tf.clip_by_value(tf.squeeze(over_rotation), 0, 0.1)\n",
    "#     # print(f\"depol_amt: {depol_amt}, over_rotation: {over_rotation}\")\n",
    "#     # print('squeezed theta_value: ', theta_value)\n",
    "#     for i in range(tf.shape(single_gate_sequence)[0]):\n",
    "#       if single_gate_sequence[i] == 0:\n",
    "#         break\n",
    "#       # print('tf.shape(single_gate_sequence): ', tf.shape(single_gate_sequence))\n",
    "#       # print('tf.shape(single_gate_sequence[0]): ', tf.shape(single_gate_sequence)[0])\n",
    "#       # print('single_gate_sequence[i]: ', single_gate_sequence[i])\n",
    "#       state = apply_gate(state, depol_amt, over_rotation, single_gate_sequence[i])\n",
    "#       # print('current state: ', state)\n",
    "\n",
    "#     return state\n",
    "\n",
    "# def apply_gate_sequence(single_gate_sequence, single_y_label, single_gate_matrix_sequence):\n",
    "#     # Initialize state in Pauli basis\n",
    "#     state = tf.constant([1/math.sqrt(2), 0, 0, 1/math.sqrt(2)], dtype=tf.float32)\n",
    "\n",
    "#     # print(\"Shape of single_gate_sequence:\", tf.shape(single_gate_sequence))\n",
    "#     # print(\"Shape of single_y_label:\", tf.shape(single_y_label))\n",
    "#     # print(\"Shape of model input single_gate_sequence:\", tf.shape(single_gate_sequence[tf.newaxis, :]))\n",
    "#     # print(\"Shape of model input single_gate_sequence:\", tf.shape(single_y_label[tf.newaxis, :]))\n",
    "\n",
    "\n",
    "#     # Apply each gate in the sequence\n",
    "#     depol_amt_X, over_rotation_X, depol_amt_Y, over_rotation_Y  = tf.squeeze(model([single_gate_matrix_sequence[tf.newaxis, :], single_y_label[tf.newaxis, :]])) # Predict depolar_error, over_rotation for the current gate sequence\n",
    "#     reconstructed_gate_set = custom_gate_set(depol_amt_X, over_rotation_X, depol_amt_Y, over_rotation_Y)\n",
    "#     for i in range(tf.shape(single_gate_sequence)[0]):\n",
    "#         # print(f'single_gate_sequence{i}: {single_gate_sequence[i]}')\n",
    "#         if single_gate_sequence[i] == 0:\n",
    "#             break\n",
    "#         state = apply_gate(state, reconstructed_gate_set, single_gate_sequence[i])\n",
    "\n",
    "#     return state\n",
    "\n",
    "def apply_gate_sequence(grouped_gate_sequence, grouped_y_label, grouped_gate_matrix_sequence, grouped_model_output):\n",
    "    # Initialize a list to collect final states for each data point in the group\n",
    "    grouped_final_states = []\n",
    "    \n",
    "#     print(\"Debug in apply_gate_sequence:\")\n",
    "#     print(\"Shape of grouped_gate_sequence:\", tf.shape(grouped_gate_sequence))\n",
    "    \n",
    "#     print(\"Shape of grouped_gate_sequence:\", tf.shape(grouped_gate_sequence))\n",
    "    \n",
    "    # Iterate through each data point within the group\n",
    "    for i in range(tf.shape(grouped_gate_sequence)[0]):\n",
    "        # print(f\"current gate sequence number: {i}\")\n",
    "        single_gate_sequence = tf.gather(grouped_gate_sequence, i, axis=0)\n",
    "        \n",
    "        # Debug prints\n",
    "        # print(\"Before tf.gather:\")\n",
    "        # print(\"Shape of grouped_gate_sequence:\", tf.shape(grouped_gate_sequence))\n",
    "        # print(\"After tf.gather:\")\n",
    "        # print(\"Shape of single_gate_sequence:\", tf.shape(single_gate_sequence))\n",
    "        \n",
    "        single_y_label = tf.gather(grouped_y_label, i, axis=0)\n",
    "        single_gate_matrix_sequence = tf.gather(grouped_gate_matrix_sequence, i, axis=0)\n",
    "        \n",
    "        # Initialize state in Pauli basis\n",
    "        state = tf.constant([1/math.sqrt(2), 0, 0, 1/math.sqrt(2)], dtype=tf.float32)\n",
    "        \n",
    "        # Extract the model output corresponding to this data point\n",
    "        depol_amt_X, depol_amt_Y, over_rotation_X, over_rotation_Y = grouped_model_output\n",
    "        \n",
    "        # Single depolarizaing error prediction\n",
    "#         depol_amt_XY, over_rotation_X, over_rotation_Y = grouped_model_output\n",
    "  \n",
    "#         depol_amt_X = depol_amt_XY\n",
    "#         depol_amt_Y = depol_amt_XY\n",
    "        \n",
    "        # Debugging purpose, depolarizing noise are fixed to grounth truth values to test the predictability of ONLY over_rotations\n",
    "        # depol_amt_X = 0.01\n",
    "        # depol_amt_Y = 0.01\n",
    "        \n",
    "        # Debugging purpose, over_rotations are fixed to grounth truth values to test the predictability of ONLY depolarizing noise\n",
    "        # over_rotation_X = 0.1\n",
    "        # over_rotation_Y = 0.15\n",
    "        \n",
    "        \n",
    "        # print(f'depol_amt_X: {depol_amt_X}, over_rotation_X: {over_rotation_X}, depol_amt_Y: {depol_amt_Y}, over_rotation_Y: {over_rotation_Y}')\n",
    "\n",
    "        \n",
    "        # Reconstruct the gate set using the predicted depolarization and over-rotation\n",
    "        reconstructed_gate_set = custom_gate_set(depol_amt_X, over_rotation_X, depol_amt_Y, over_rotation_Y)\n",
    "        \n",
    "        \n",
    "\n",
    "        # Apply each gate in the sequence\n",
    "        debug_label_arr = []\n",
    "        for j in range(tf.shape(single_gate_sequence)[0]):\n",
    "            debug_label_arr.append(single_gate_sequence[j])\n",
    "            if single_gate_sequence[j] == 0:\n",
    "                # print(f\"current gate sequence: {debug_label_arr}\")\n",
    "                # print(f\"length of current gate sequence: {len(debug_label_arr)}\")\n",
    "                break\n",
    "            state = apply_gate(state, reconstructed_gate_set, single_gate_sequence[j])\n",
    "\n",
    "        # Append the final state for this data point to the list of final states\n",
    "        grouped_final_states.append(state)\n",
    "        # print(f\"Shape of current final state: {tf.shape(state)}\")\n",
    "\n",
    "    # Convert the list of final states into a tensor\n",
    "    grouped_final_states = tf.stack(grouped_final_states)\n",
    "    # print(f\"Shape of current grouped final state: {tf.shape(grouped_final_states)}\")\n",
    "    \n",
    "    return grouped_final_states\n",
    "\n",
    "\n",
    "\n",
    "# def compute_probabilities(ptm_vector):\n",
    "#     # PTM representations for |0> and |1> states\n",
    "#     ptm_0 = tf.constant([1, 0, 0, 1], dtype=tf.float32)\n",
    "#     ptm_1 = tf.constant([1, 0, 0, -1], dtype=tf.float32)\n",
    "#     # ptm_0 = tf.convert_to_tensor([1, 0, 0, 1], dtype=tf.float32)\n",
    "#     # ptm_1 = tf.convert_to_tensor([1, 0, 0, -1], dtype=tf.float32)\n",
    "\n",
    "#     # Normalize the vectors\n",
    "#     ptm_vector = tf.squeeze(tf.linalg.l2_normalize(ptm_vector))\n",
    "#     ptm_0 = tf.linalg.l2_normalize(ptm_0)\n",
    "#     ptm_1 = tf.linalg.l2_normalize(ptm_1)\n",
    "\n",
    "#     # Compute dot products\n",
    "#     prob_0 = tf.tensordot(ptm_vector, ptm_0, axes=1)\n",
    "#     prob_1 = tf.tensordot(ptm_vector, ptm_1, axes=1)\n",
    "\n",
    "#     return tf.stack([prob_0, prob_1])\n",
    "\n",
    "def compute_probabilities(grouped_ptm_vector):\n",
    "    # print(\"Debug in compute_probabilities:\")\n",
    "    \n",
    "    # Remove singleton dimensions if any (like the last '1' in [10, 4, 1])\n",
    "    grouped_ptm_vector = tf.squeeze(grouped_ptm_vector, axis=-1)\n",
    "    \n",
    "    # print(f\"Shape of grouped_ptm_vector: {tf.shape(grouped_ptm_vector)}\")\n",
    "    \n",
    "    # PTM representations for |0> and |1> states\n",
    "    # ptm_0 = tf.constant([[1, 0, 0, 1]], dtype=tf.float32)\n",
    "    # ptm_1 = tf.constant([[1, 0, 0, -1]], dtype=tf.float32)\n",
    "    \n",
    "    ptm_0 = tf.constant([1/math.sqrt(2), 0, 0, 1/math.sqrt(2)], dtype=tf.float32)\n",
    "    ptm_1 = tf.constant([1/math.sqrt(2), 0, 0, -1/math.sqrt(2)], dtype=tf.float32)\n",
    "    \n",
    "    \n",
    "    # print(f\"Shape of ptm_0: {tf.shape(ptm_0)}\")\n",
    "    # print(f\"Shape of ptm_1: {tf.shape(ptm_1)}\")\n",
    "\n",
    "    # Normalize the vectors\n",
    "    # grouped_ptm_vector = tf.linalg.l2_normalize(grouped_ptm_vector, axis=-1)\n",
    "    # ptm_0 = tf.linalg.l2_normalize(ptm_0)\n",
    "    # ptm_1 = tf.linalg.l2_normalize(ptm_1)\n",
    "    \n",
    "    \n",
    "    # print(f\"Shape of normalized grouped_ptm_vector: {tf.shape(grouped_ptm_vector)}\")\n",
    "    # print(f\"Shape of normalized ptm_0: {tf.shape(ptm_0)}\")\n",
    "    # print(f\"Shape of normalized ptm_1: {tf.shape(ptm_1)}\")\n",
    "\n",
    "    # Compute dot products in a batched manner using broadcasting\n",
    "    prob_0 = tf.reduce_sum(grouped_ptm_vector * ptm_0, axis=-1)\n",
    "    prob_1 = tf.reduce_sum(grouped_ptm_vector * ptm_1, axis=-1)\n",
    "\n",
    "    # # Perform batch dot product\n",
    "    # prob_0 = tf.tensordot(grouped_ptm_vector, ptm_0, axes=[[-1], [-1]])\n",
    "    # prob_1 = tf.tensordot(grouped_ptm_vector, ptm_1, axes=[[-1], [-1]])\n",
    "\n",
    "    \n",
    "    # print(f\"Shape of prob_0: {tf.shape(prob_0)}\")\n",
    "    # print(f\"Shape of prob_1: {tf.shape(prob_1)}\")\n",
    "    \n",
    "    final_probabilities = tf.stack([prob_0, prob_1], axis=-1)\n",
    "    # print(f\"Shape of final_probabilities: {tf.shape(final_probabilities)}\")\n",
    "    \n",
    "    return final_probabilities\n",
    "\n",
    "\n",
    "\n",
    "# Define loss function\n",
    "loss_fn = MeanSquaredError()\n",
    "  \n",
    "\n",
    "# def train_step(X, y, X_ms):\n",
    "#     with tf.GradientTape() as tape:\n",
    "#         # Predict depolarization and over-rotation for the current gate sequence\n",
    "#         grouped_model_output = model([X_ms[0], X[1]])\n",
    "\n",
    "#         # Process the entire group at once\n",
    "#         print(\"The following are the prints from train_step\")\n",
    "#         print(\"Shape of grouped_gate_sequence: \", tf.shape(X[0]))\n",
    "#         print(\"Shape of grouped_y_label: \", tf.shape(X[1]))\n",
    "#         print(\"Shape of grouped_gate_matrix_sequence: \", tf.shape(X_ms[0]))\n",
    "#         print(\"Shape of grouped_model_output: \", tf.shape(grouped_model_output))     \n",
    "#         batched_final_states = apply_gate_sequence(X[0], X[1], X_ms[0], grouped_model_output)\n",
    "#         batched_probabilities = compute_probabilities(batched_final_states)\n",
    "        \n",
    "#         loss = loss_fn(y, batched_probabilities)\n",
    "\n",
    "#     grads = tape.gradient(loss, model.trainable_weights)\n",
    "#     optimizer.apply_gradients(zip(grads, model.trainable_weights))\n",
    "#     return loss\n",
    "  \n",
    "\n",
    "\n",
    "\n",
    "# def validate_step(X, y, X_ms, print_results = False):\n",
    "#     batched_final_states = []\n",
    "#     batched_probabilities = []\n",
    "#     batched_values = []\n",
    "#     batched_sum_depol_amt_X = 0\n",
    "#     batched_sum_over_rotation_X = 0\n",
    "#     batched_sum_depol_amt_Y = 0\n",
    "#     batched_sum_over_rotation_Y = 0\n",
    "\n",
    "#     for i in range(tf.shape(X[0])[0]):\n",
    "#         single_sequence = tf.gather(X[0], i, axis=0)\n",
    "#         single_mat_sequence = tf.gather(X_ms[0], i, axis=0)\n",
    "#         single_y_label = tf.gather(X[1], i, axis=0)\n",
    "#         final_state = apply_gate_sequence(single_sequence, single_y_label, single_mat_sequence)\n",
    "#         # print(f'final_state_validating: {final_state}')\n",
    "#         probabilities = compute_probabilities(final_state)\n",
    "#         batched_final_states.append(final_state)\n",
    "#         batched_probabilities.append(probabilities)\n",
    "#         if print_results == True:\n",
    "#             depol_amt_X, over_rotation_X, depol_amt_Y, over_rotation_Y = tf.squeeze(model([single_mat_sequence[tf.newaxis, :], single_y_label[tf.newaxis, :]])) # Predict depolar_error, over_rotation for the current gate sequence\n",
    "#             batched_values.append(tf.stack([depol_amt_X, over_rotation_X, depol_amt_Y, over_rotation_Y]))\n",
    "#             batched_sum_depol_amt_X += depol_amt_X\n",
    "#             batched_sum_over_rotation_X += over_rotation_X\n",
    "#             batched_sum_depol_amt_Y += depol_amt_Y\n",
    "#             batched_sum_over_rotation_Y += over_rotation_Y\n",
    "\n",
    "#     batched_final_states = tf.stack(batched_final_states)\n",
    "#     batched_probabilities = tf.stack(batched_probabilities)\n",
    "#     loss = loss_fn(y, batched_probabilities)\n",
    "#     if print_results == True:\n",
    "#         print('\\nbatched_values: ', batched_values)\n",
    "#         print('\\nlen of batched_values: ', len(batched_values))\n",
    "#         print('\\nbatched_mean_depol_amt_X: ', batched_sum_depol_amt_X/len(batched_values))\n",
    "#         print('\\nbatched_over_rotation_X: ', batched_sum_over_rotation_X/len(batched_values))\n",
    "#         print('\\nbatched_mean_depol_amt_Y: ', batched_sum_depol_amt_Y/len(batched_values))\n",
    "#         print('\\nbatched_over_rotation_Y: ', batched_sum_over_rotation_Y/len(batched_values))\n",
    "#     return loss\n",
    "\n",
    "# def validate_step(X, y, X_ms, print_results=False):\n",
    "#     # Predict depolarization and over-rotation for the current gate sequence\n",
    "#     grouped_model_output = model([X_ms[0], X[1]])\n",
    "\n",
    "#     # Process the entire group at once\n",
    "#     batched_final_states = apply_gate_sequence(X[0], X[1], X_ms[0], grouped_model_output)\n",
    "#     batched_probabilities = compute_probabilities(batched_final_states)\n",
    "    \n",
    "#     loss = loss_fn(y, batched_probabilities)\n",
    "\n",
    "#     if print_results:\n",
    "#         num_values = tf.shape(grouped_model_output)[0]\n",
    "#         depol_amt_X, over_rotation_X, depol_amt_Y, over_rotation_Y = tf.split(grouped_model_output, 4, axis=1)\n",
    "#         print('\\nBatched Mean Depolarization Amount X:', tf.reduce_mean(depol_amt_X))\n",
    "#         print('\\nBatched Over Rotation X:', tf.reduce_mean(over_rotation_X))\n",
    "#         print('\\nBatched Mean Depolarization Amount Y:', tf.reduce_mean(depol_amt_Y))\n",
    "#         print('\\nBatched Over Rotation Y:', tf.reduce_mean(over_rotation_Y))\n",
    "\n",
    "#     return loss\n",
    "\n",
    "\n",
    "def train_step(X, y, X_ms):\n",
    "    train_losses = []  # Initialize a list to collect the losses for each group in the mini-batch\n",
    "    \n",
    "    with tf.GradientTape() as tape:\n",
    "        # Compute model output for the entire mini-batch here\n",
    "        full_batch_model_output = model([X_ms[0], X[1]])\n",
    "        # print(\"Shape of full_batch_model_output: \", tf.shape(full_batch_model_output))  # Debugging line\n",
    "        \n",
    "        # Loop over each group in the mini-batch\n",
    "        for i in range(tf.shape(X[0])[0]):\n",
    "            single_group_gate_sequence = tf.gather(X[0], i, axis=0)\n",
    "            single_group_y_label = tf.gather(X[1], i, axis=0)\n",
    "            single_group_gate_matrix_sequence = tf.gather(X_ms[0], i, axis=0)\n",
    "\n",
    "            # Gather the model's output for the i-th group from the full batch output\n",
    "            single_group_model_output = tf.gather(full_batch_model_output, i, axis=0)\n",
    "            # print(\"Shape of single_group_model_output:\", tf.shape(single_group_model_output))  # Debugging line\n",
    "\n",
    "            # Process a single group\n",
    "            final_states = apply_gate_sequence(single_group_gate_sequence, single_group_y_label, single_group_gate_matrix_sequence, single_group_model_output)\n",
    "            # print(\"Shape of final_states:\", tf.shape(final_states))  # Debugging line\n",
    "            probabilities = compute_probabilities(final_states)\n",
    "            # if i == 0:\n",
    "            #     print(f\"debugging computed probabilities: \\n {probabilities}\")\n",
    "            \n",
    "            # print(\"Shape of probabilities:\", tf.shape(probabilities))  # Debugging line\n",
    "            \n",
    "            # Calculate loss for this group\n",
    "            # print(\"tf.gather(y, i, axis=0):\", tf.gather(y, i, axis=0))  # Debugging line\n",
    "            loss = loss_fn(tf.gather(y, i, axis=0), probabilities)\n",
    "            train_losses.append(loss)\n",
    "            \n",
    "        # Average the losses across the mini-batch\n",
    "        average_loss = tf.reduce_mean(train_losses)\n",
    "        # print(\"average_loss: \", average_loss)\n",
    "\n",
    "    # Compute the gradients for the entire mini-batch and update model parameters\n",
    "    grads = tape.gradient(average_loss, model.trainable_weights)\n",
    "    \n",
    "    # Debugging lines to print out gradients\n",
    "    # for i, (grad, var) in enumerate(zip(grads, model.trainable_weights)):\n",
    "    #     if grad is not None:\n",
    "    #         print(f\"Gradient for {var.name}, Max: {tf.math.reduce_max(grad)}, Min: {tf.math.reduce_min(grad)}\")\n",
    "    #     else:\n",
    "    #         print(f\"Gradient for {var.name} is None\")\n",
    "    \n",
    "    optimizer.apply_gradients(zip(grads, model.trainable_weights))\n",
    "    \n",
    "    return average_loss, tf.squeeze(full_batch_model_output)\n",
    "\n",
    "\n",
    "def validate_step(X, y, X_ms, print_results=False):\n",
    "    val_losses = []  # Initialize a list to collect the losses for each group in the mini-batch\n",
    "    \n",
    "    # Initialize a list for printing and evaluating results\n",
    "    batched_values = []\n",
    "    batched_sum_depol_amt_X = 0\n",
    "    batched_sum_over_rotation_X = 0\n",
    "    batched_sum_depol_amt_Y = 0\n",
    "    batched_sum_over_rotation_Y = 0\n",
    "\n",
    "    # Compute model output for the entire mini-batch here\n",
    "    full_batch_model_output = model([X_ms[0], X[1]])\n",
    "\n",
    "    # Loop over each group in the mini-batch\n",
    "    for i in range(tf.shape(X[0])[0]):\n",
    "        single_group_gate_sequence = tf.gather(X[0], i, axis=0)\n",
    "        single_group_y_label = tf.gather(X[1], i, axis=0)\n",
    "        single_group_gate_matrix_sequence = tf.gather(X_ms[0], i, axis=0)\n",
    "\n",
    "        # Gather the model's output for the i-th group from the full batch output\n",
    "        single_group_model_output = tf.gather(full_batch_model_output, i, axis=0)\n",
    "\n",
    "        # Process a single group\n",
    "        final_states = apply_gate_sequence(single_group_gate_sequence, single_group_y_label, single_group_gate_matrix_sequence, single_group_model_output)\n",
    "        probabilities = compute_probabilities(final_states)\n",
    "        \n",
    "        if print_results == True:\n",
    "            # depol_amt_X, over_rotation_X, depol_amt_Y, over_rotation_Y = single_group_model_output\n",
    "            depol_amt_X, depol_amt_Y, over_rotation_X, over_rotation_Y = single_group_model_output\n",
    "            batched_values.append(tf.stack([depol_amt_X, over_rotation_X, depol_amt_Y, over_rotation_Y]))\n",
    "            batched_sum_depol_amt_X += depol_amt_X\n",
    "            batched_sum_over_rotation_X += over_rotation_X\n",
    "            batched_sum_depol_amt_Y += depol_amt_Y\n",
    "            batched_sum_over_rotation_Y += over_rotation_Y\n",
    "        \n",
    "\n",
    "        # Calculate loss for this group\n",
    "        loss = loss_fn(tf.gather(y, i, axis=0), probabilities)\n",
    "        val_losses.append(loss)\n",
    "\n",
    "    # Average the losses across the mini-batch\n",
    "    average_loss = tf.reduce_mean(val_losses)\n",
    "    \n",
    "    if print_results == True:\n",
    "        print('\\nbatched_values: ', batched_values)\n",
    "        print('\\nlen of batched_values: ', len(batched_values))\n",
    "        print('\\nbatched_mean_depol_amt_X: ', batched_sum_depol_amt_X/len(batched_values))\n",
    "        print('\\nbatched_over_rotation_X: ', batched_sum_over_rotation_X/len(batched_values))\n",
    "        print('\\nbatched_mean_depol_amt_Y: ', batched_sum_depol_amt_Y/len(batched_values))\n",
    "        print('\\nbatched_over_rotation_Y: ', batched_sum_over_rotation_Y/len(batched_values))\n",
    "    \n",
    "    \n",
    "    return average_loss\n",
    "\n"
   ]
  },
  {
   "cell_type": "code",
   "execution_count": 23,
   "metadata": {
    "id": "mUZNtlhbiL7n",
    "tags": []
   },
   "outputs": [],
   "source": [
    "# Directory to save the model and weights\n",
    "model_save_dir = \"saved_models\"\n",
    "if not os.path.exists(model_save_dir):\n",
    "    os.makedirs(model_save_dir)"
   ]
  },
  {
   "cell_type": "code",
   "execution_count": 24,
   "metadata": {
    "tags": []
   },
   "outputs": [],
   "source": [
    "# for i in range (0,2):\n",
    "#   print(tf.shape(tf.gather(X_train[0][0], i, axis=0)))\n",
    "#   print(tf.gather(X_train[0][0], i, axis=0))"
   ]
  },
  {
   "cell_type": "code",
   "execution_count": 25,
   "metadata": {
    "tags": []
   },
   "outputs": [
    {
     "data": {
      "text/plain": [
       "382"
      ]
     },
     "execution_count": 25,
     "metadata": {},
     "output_type": "execute_result"
    }
   ],
   "source": [
    "len(X_train[0])"
   ]
  },
  {
   "cell_type": "code",
   "execution_count": 26,
   "metadata": {
    "tags": []
   },
   "outputs": [
    {
     "data": {
      "text/plain": [
       "19"
      ]
     },
     "execution_count": 26,
     "metadata": {},
     "output_type": "execute_result"
    }
   ],
   "source": [
    "len(X_train[0][0])"
   ]
  },
  {
   "cell_type": "code",
   "execution_count": 27,
   "metadata": {
    "tags": []
   },
   "outputs": [
    {
     "data": {
      "text/plain": [
       "382"
      ]
     },
     "execution_count": 27,
     "metadata": {},
     "output_type": "execute_result"
    }
   ],
   "source": [
    "len(X_train_0)"
   ]
  },
  {
   "cell_type": "code",
   "execution_count": 28,
   "metadata": {
    "tags": []
   },
   "outputs": [],
   "source": [
    "debug_X, debug_y = prepare_data(df_sorted.iloc[:339]) # DO NOT USE panda iloc method!!!"
   ]
  },
  {
   "cell_type": "code",
   "execution_count": 29,
   "metadata": {
    "tags": []
   },
   "outputs": [
    {
     "data": {
      "text/plain": [
       "339"
      ]
     },
     "execution_count": 29,
     "metadata": {},
     "output_type": "execute_result"
    }
   ],
   "source": [
    "len(debug_X)"
   ]
  },
  {
   "cell_type": "code",
   "execution_count": 30,
   "metadata": {
    "tags": []
   },
   "outputs": [],
   "source": [
    "new_debug_X = X_train_0\n",
    "new_debug_y = y_train"
   ]
  },
  {
   "cell_type": "code",
   "execution_count": 31,
   "metadata": {
    "tags": []
   },
   "outputs": [
    {
     "data": {
      "text/plain": [
       "339"
      ]
     },
     "execution_count": 31,
     "metadata": {},
     "output_type": "execute_result"
    }
   ],
   "source": [
    "len(new_debug_X[:339])"
   ]
  },
  {
   "cell_type": "code",
   "execution_count": 32,
   "metadata": {
    "tags": []
   },
   "outputs": [],
   "source": [
    "# np.linalg.norm(new_debug_X-new_debug_X[:339])"
   ]
  },
  {
   "cell_type": "code",
   "execution_count": 33,
   "metadata": {
    "tags": []
   },
   "outputs": [],
   "source": [
    "tf.get_logger().setLevel('ERROR')"
   ]
  },
  {
   "cell_type": "code",
   "execution_count": 34,
   "metadata": {},
   "outputs": [],
   "source": [
    "# # Reshape function\n",
    "# def reshape_for_grouping(data, group_size):\n",
    "#     n_samples = data.shape[0]\n",
    "#     n_batches = n_samples // group_size\n",
    "#     remainder = n_samples % group_size\n",
    "#     if remainder:\n",
    "#         padding_shape = [group_size - remainder] + list(data.shape[1:])\n",
    "#         padding = np.zeros(padding_shape)\n",
    "#         data = np.concatenate([data, padding], axis=0)\n",
    "#     return data.reshape(-1, group_size, *data.shape[1:])\n",
    "\n",
    "\n",
    "def reshape_for_grouping(data, group_size):\n",
    "    \"\"\"\n",
    "    Reshape the data for grouping with repeating the last indices in case of remainder.\n",
    "    \n",
    "    Parameters:\n",
    "        data (numpy.ndarray): The data to be reshaped.\n",
    "        group_size (int): The desired group size.\n",
    "        \n",
    "    Returns:\n",
    "        numpy.ndarray: The reshaped data.\n",
    "    \"\"\"\n",
    "    n_samples = data.shape[0]\n",
    "    n_batches = n_samples // group_size\n",
    "    remainder = n_samples % group_size\n",
    "    \n",
    "    # If the remainder exists, pad the data by repeating the last indices\n",
    "    if remainder:\n",
    "        padding_count = group_size - remainder\n",
    "        padding_indices = [-i % n_samples - 1 for i in range(padding_count)]\n",
    "        padding = data[padding_indices]\n",
    "        data = np.concatenate([data, padding], axis=0)\n",
    "        \n",
    "    return data.reshape(-1, group_size, *data.shape[1:])\n",
    "\n",
    "# group_size = 30  # Set this to your desired group size\n",
    "\n",
    "X_train_0_grouped = reshape_for_grouping(X_train_0, group_size)\n",
    "y_train_grouped = reshape_for_grouping(y_train, group_size)\n",
    "X_train_grouped = [reshape_for_grouping(X, group_size) for X in X_train]\n",
    "\n",
    "# X_test_0_grouped = reshape_for_grouping(X_test_0, group_size)\n",
    "# y_test_grouped = reshape_for_grouping(y_test, group_size)\n",
    "# X_test_grouped = [reshape_for_grouping(X, group_size) for X in X_test]"
   ]
  },
  {
   "cell_type": "code",
   "execution_count": 35,
   "metadata": {
    "tags": []
   },
   "outputs": [
    {
     "data": {
      "text/plain": [
       "array([[[ 1,  2],\n",
       "        [ 3,  4],\n",
       "        [ 5,  6],\n",
       "        [ 7,  8],\n",
       "        [ 9, 10],\n",
       "        [10, 11],\n",
       "        [10, 11],\n",
       "        [ 9, 10],\n",
       "        [ 7,  8],\n",
       "        [ 5,  6],\n",
       "        [ 3,  4],\n",
       "        [ 1,  2],\n",
       "        [10, 11],\n",
       "        [ 9, 10],\n",
       "        [ 7,  8],\n",
       "        [ 5,  6],\n",
       "        [ 3,  4],\n",
       "        [ 1,  2],\n",
       "        [10, 11],\n",
       "        [ 9, 10],\n",
       "        [ 7,  8],\n",
       "        [ 5,  6],\n",
       "        [ 3,  4],\n",
       "        [ 1,  2],\n",
       "        [10, 11],\n",
       "        [ 9, 10],\n",
       "        [ 7,  8],\n",
       "        [ 5,  6],\n",
       "        [ 3,  4],\n",
       "        [ 1,  2]]])"
      ]
     },
     "execution_count": 35,
     "metadata": {},
     "output_type": "execute_result"
    }
   ],
   "source": [
    "# Test the function again with test data of size 3\n",
    "test_data_small = np.array([[1, 2], [3, 4], [5, 6], [7, 8], [9, 10], [10, 11]])\n",
    "reshaped_test_data_small = reshape_for_grouping(test_data_small, group_size)\n",
    "reshaped_test_data_small"
   ]
  },
  {
   "cell_type": "code",
   "execution_count": 36,
   "metadata": {
    "tags": []
   },
   "outputs": [
    {
     "name": "stdout",
     "output_type": "stream",
     "text": [
      "Length of X_train_0_grouped: 13\n",
      "part size: 13\n",
      "start_idx: 0\n",
      "end_idx: 13\n",
      "Shape of X_subset: (13, 30, 19)\n",
      "Shape of y_subset: (13, 30, 2)\n",
      "Part: 1/1, Epoch: 1/100, Total Epochs: 1, Train Loss: 0.05546062812209129, Learning Rate: 9.999999974752427e-07\n",
      "Losses and learning rates saved at epoch 1\n",
      "Part: 1/1, Epoch: 2/100, Total Epochs: 2, Train Loss: 0.04199092835187912, Learning Rate: 9.999999974752427e-07\n",
      "Part: 1/1, Epoch: 3/100, Total Epochs: 3, Train Loss: 0.004924688953906298, Learning Rate: 9.999999974752427e-07\n",
      "Part: 1/1, Epoch: 4/100, Total Epochs: 4, Train Loss: 0.004380477126687765, Learning Rate: 9.999999974752427e-07\n",
      "Part: 1/1, Epoch: 5/100, Total Epochs: 5, Train Loss: 0.002826990094035864, Learning Rate: 9.999999974752427e-07\n",
      "Part: 1/1, Epoch: 6/100, Total Epochs: 6, Train Loss: 0.0020427671261131763, Learning Rate: 9.999999974752427e-07\n",
      "Part: 1/1, Epoch: 7/100, Total Epochs: 7, Train Loss: 0.0012285304255783558, Learning Rate: 9.999999974752427e-07\n",
      "Part: 1/1, Epoch: 8/100, Total Epochs: 8, Train Loss: 0.0008555891690775752, Learning Rate: 9.999999974752427e-07\n",
      "Part: 1/1, Epoch: 9/100, Total Epochs: 9, Train Loss: 0.0006372428615577519, Learning Rate: 9.999999974752427e-07\n",
      "Part: 1/1, Epoch: 10/100, Total Epochs: 10, Train Loss: 0.0004161614924669266, Learning Rate: 9.999999974752427e-07\n",
      "Losses and learning rates saved at epoch 10\n",
      "Part: 1/1, Epoch: 11/100, Total Epochs: 11, Train Loss: 0.0002828022697940469, Learning Rate: 9.999999974752427e-07\n",
      "Part: 1/1, Epoch: 12/100, Total Epochs: 12, Train Loss: 0.00015173020074144006, Learning Rate: 9.999999974752427e-07\n",
      "Part: 1/1, Epoch: 13/100, Total Epochs: 13, Train Loss: 0.0002737741742748767, Learning Rate: 9.999999974752427e-07\n",
      "Part: 1/1, Epoch: 14/100, Total Epochs: 14, Train Loss: 0.0002183509641326964, Learning Rate: 9.999999974752427e-07\n",
      "Part: 1/1, Epoch: 15/100, Total Epochs: 15, Train Loss: 0.00036228582030162215, Learning Rate: 9.999999974752427e-07\n",
      "Part: 1/1, Epoch: 16/100, Total Epochs: 16, Train Loss: 0.0002523543080314994, Learning Rate: 9.499999578110874e-07\n",
      "Part: 1/1, Epoch: 17/100, Total Epochs: 17, Train Loss: 0.00033162671024911106, Learning Rate: 9.499999578110874e-07\n",
      "Part: 1/1, Epoch: 18/100, Total Epochs: 18, Train Loss: 0.0001508581917732954, Learning Rate: 9.499999578110874e-07\n",
      "Part: 1/1, Epoch: 19/100, Total Epochs: 19, Train Loss: 0.00017468311125412583, Learning Rate: 9.499999578110874e-07\n",
      "Part: 1/1, Epoch: 20/100, Total Epochs: 20, Train Loss: 0.00013656732335221022, Learning Rate: 9.499999578110874e-07\n",
      "Losses and learning rates saved at epoch 20\n",
      "Part: 1/1, Epoch: 21/100, Total Epochs: 21, Train Loss: 0.0001779069862095639, Learning Rate: 9.499999578110874e-07\n",
      "Part: 1/1, Epoch: 22/100, Total Epochs: 22, Train Loss: 0.0001475965545978397, Learning Rate: 9.499999578110874e-07\n",
      "Part: 1/1, Epoch: 23/100, Total Epochs: 23, Train Loss: 0.00021209368424024433, Learning Rate: 9.499999578110874e-07\n",
      "Part: 1/1, Epoch: 24/100, Total Epochs: 24, Train Loss: 0.00018269085558131337, Learning Rate: 9.499999578110874e-07\n",
      "Part: 1/1, Epoch: 25/100, Total Epochs: 25, Train Loss: 0.00032557541271671653, Learning Rate: 9.499999578110874e-07\n",
      "Part: 1/1, Epoch: 26/100, Total Epochs: 26, Train Loss: 0.00022959144553169608, Learning Rate: 9.499999578110874e-07\n",
      "Part: 1/1, Epoch: 27/100, Total Epochs: 27, Train Loss: 0.00019221902766730636, Learning Rate: 9.499999578110874e-07\n",
      "Part: 1/1, Epoch: 28/100, Total Epochs: 28, Train Loss: 0.00019780568254645914, Learning Rate: 9.499999578110874e-07\n",
      "Part: 1/1, Epoch: 29/100, Total Epochs: 29, Train Loss: 9.768895688466728e-05, Learning Rate: 9.499999578110874e-07\n",
      "Part: 1/1, Epoch: 30/100, Total Epochs: 30, Train Loss: 0.00017663704056758434, Learning Rate: 9.499999578110874e-07\n",
      "Losses and learning rates saved at epoch 30\n",
      "Part: 1/1, Epoch: 31/100, Total Epochs: 31, Train Loss: 0.00025125168031081557, Learning Rate: 9.024999485518492e-07\n",
      "Part: 1/1, Epoch: 32/100, Total Epochs: 32, Train Loss: 0.00019703511497937143, Learning Rate: 9.024999485518492e-07\n",
      "Part: 1/1, Epoch: 33/100, Total Epochs: 33, Train Loss: 0.00014077227388042957, Learning Rate: 9.024999485518492e-07\n",
      "Part: 1/1, Epoch: 34/100, Total Epochs: 34, Train Loss: 0.00012002571747871116, Learning Rate: 9.024999485518492e-07\n",
      "Part: 1/1, Epoch: 35/100, Total Epochs: 35, Train Loss: 0.00010962032683892176, Learning Rate: 9.024999485518492e-07\n",
      "Part: 1/1, Epoch: 36/100, Total Epochs: 36, Train Loss: 0.00010446919623063877, Learning Rate: 9.024999485518492e-07\n",
      "Part: 1/1, Epoch: 37/100, Total Epochs: 37, Train Loss: 0.00010375444253440946, Learning Rate: 9.024999485518492e-07\n",
      "Part: 1/1, Epoch: 38/100, Total Epochs: 38, Train Loss: 0.00010536845366004854, Learning Rate: 9.024999485518492e-07\n",
      "Part: 1/1, Epoch: 39/100, Total Epochs: 39, Train Loss: 0.00010829966777237132, Learning Rate: 9.024999485518492e-07\n",
      "Part: 1/1, Epoch: 40/100, Total Epochs: 40, Train Loss: 0.00011254714627284557, Learning Rate: 9.024999485518492e-07\n",
      "Losses and learning rates saved at epoch 40\n",
      "Part: 1/1, Epoch: 41/100, Total Epochs: 41, Train Loss: 0.00011858028301503509, Learning Rate: 9.024999485518492e-07\n",
      "Part: 1/1, Epoch: 42/100, Total Epochs: 42, Train Loss: 0.0001271229557460174, Learning Rate: 9.024999485518492e-07\n",
      "Part: 1/1, Epoch: 43/100, Total Epochs: 43, Train Loss: 0.00013953472080174834, Learning Rate: 9.024999485518492e-07\n",
      "Part: 1/1, Epoch: 44/100, Total Epochs: 44, Train Loss: 0.00015833493671379983, Learning Rate: 9.024999485518492e-07\n",
      "Part: 1/1, Epoch: 45/100, Total Epochs: 45, Train Loss: 0.00018810784968081862, Learning Rate: 9.024999485518492e-07\n",
      "Part: 1/1, Epoch: 46/100, Total Epochs: 46, Train Loss: 0.00023705580679234117, Learning Rate: 9.024999485518492e-07\n",
      "Part: 1/1, Epoch: 47/100, Total Epochs: 47, Train Loss: 0.00030579851591028273, Learning Rate: 8.573749710194534e-07\n",
      "Part: 1/1, Epoch: 48/100, Total Epochs: 48, Train Loss: 0.000263596186414361, Learning Rate: 8.573749710194534e-07\n",
      "Part: 1/1, Epoch: 49/100, Total Epochs: 49, Train Loss: 0.00018740951782092452, Learning Rate: 8.573749710194534e-07\n",
      "Part: 1/1, Epoch: 50/100, Total Epochs: 50, Train Loss: 0.0001278061099583283, Learning Rate: 8.573749710194534e-07\n",
      "Losses and learning rates saved at epoch 50\n",
      "Part: 1/1, Epoch: 51/100, Total Epochs: 51, Train Loss: 9.305255662184209e-05, Learning Rate: 8.573749710194534e-07\n",
      "Part: 1/1, Epoch: 52/100, Total Epochs: 52, Train Loss: 8.461524703307077e-05, Learning Rate: 8.573749710194534e-07\n",
      "Part: 1/1, Epoch: 53/100, Total Epochs: 53, Train Loss: 0.00010154046321986243, Learning Rate: 8.573749710194534e-07\n",
      "Part: 1/1, Epoch: 54/100, Total Epochs: 54, Train Loss: 0.00013463546929415315, Learning Rate: 8.573749710194534e-07\n",
      "Part: 1/1, Epoch: 55/100, Total Epochs: 55, Train Loss: 0.00016433271230198443, Learning Rate: 8.573749710194534e-07\n",
      "Part: 1/1, Epoch: 56/100, Total Epochs: 56, Train Loss: 0.00011154846288263798, Learning Rate: 8.573749710194534e-07\n",
      "Part: 1/1, Epoch: 57/100, Total Epochs: 57, Train Loss: 5.1157010602764785e-05, Learning Rate: 8.573749710194534e-07\n",
      "Part: 1/1, Epoch: 58/100, Total Epochs: 58, Train Loss: 6.501727330032736e-05, Learning Rate: 8.573749710194534e-07\n",
      "Part: 1/1, Epoch: 59/100, Total Epochs: 59, Train Loss: 3.4426826459821314e-05, Learning Rate: 8.573749710194534e-07\n",
      "Part: 1/1, Epoch: 60/100, Total Epochs: 60, Train Loss: 5.2559833420673385e-05, Learning Rate: 8.573749710194534e-07\n",
      "Losses and learning rates saved at epoch 60\n",
      "Part: 1/1, Epoch: 61/100, Total Epochs: 61, Train Loss: 7.599264790769666e-05, Learning Rate: 8.573749710194534e-07\n",
      "Part: 1/1, Epoch: 62/100, Total Epochs: 62, Train Loss: 0.00012040930596413091, Learning Rate: 8.145062224684807e-07\n",
      "Part: 1/1, Epoch: 63/100, Total Epochs: 63, Train Loss: 0.0001484727836214006, Learning Rate: 8.145062224684807e-07\n",
      "Part: 1/1, Epoch: 64/100, Total Epochs: 64, Train Loss: 0.000167520935065113, Learning Rate: 8.145062224684807e-07\n",
      "Part: 1/1, Epoch: 65/100, Total Epochs: 65, Train Loss: 0.0001750695228110999, Learning Rate: 8.145062224684807e-07\n",
      "Part: 1/1, Epoch: 66/100, Total Epochs: 66, Train Loss: 0.0001807594089768827, Learning Rate: 8.145062224684807e-07\n",
      "Part: 1/1, Epoch: 67/100, Total Epochs: 67, Train Loss: 0.00018205688684247434, Learning Rate: 8.145062224684807e-07\n",
      "Part: 1/1, Epoch: 68/100, Total Epochs: 68, Train Loss: 0.00018174925935454667, Learning Rate: 8.145062224684807e-07\n",
      "Part: 1/1, Epoch: 69/100, Total Epochs: 69, Train Loss: 0.00017994958034250885, Learning Rate: 8.145062224684807e-07\n",
      "Part: 1/1, Epoch: 70/100, Total Epochs: 70, Train Loss: 0.00017696127179078758, Learning Rate: 8.145062224684807e-07\n",
      "Losses and learning rates saved at epoch 70\n",
      "Part: 1/1, Epoch: 71/100, Total Epochs: 71, Train Loss: 0.00017353257862851024, Learning Rate: 8.145062224684807e-07\n",
      "Part: 1/1, Epoch: 72/100, Total Epochs: 72, Train Loss: 0.00016973496531136334, Learning Rate: 8.145062224684807e-07\n",
      "Part: 1/1, Epoch: 73/100, Total Epochs: 73, Train Loss: 0.00016594259068369865, Learning Rate: 8.145062224684807e-07\n",
      "Part: 1/1, Epoch: 74/100, Total Epochs: 74, Train Loss: 0.0001623016723897308, Learning Rate: 8.145062224684807e-07\n",
      "Part: 1/1, Epoch: 75/100, Total Epochs: 75, Train Loss: 0.00015889729547780007, Learning Rate: 8.145062224684807e-07\n",
      "Part: 1/1, Epoch: 76/100, Total Epochs: 76, Train Loss: 0.00015583868662361056, Learning Rate: 8.145062224684807e-07\n",
      "Part: 1/1, Epoch: 77/100, Total Epochs: 77, Train Loss: 0.0001531993766548112, Learning Rate: 7.737808687124925e-07\n",
      "Part: 1/1, Epoch: 78/100, Total Epochs: 78, Train Loss: 0.000140322808874771, Learning Rate: 7.737808687124925e-07\n",
      "Part: 1/1, Epoch: 79/100, Total Epochs: 79, Train Loss: 0.00010700614075176418, Learning Rate: 7.737808687124925e-07\n",
      "Part: 1/1, Epoch: 80/100, Total Epochs: 80, Train Loss: 8.106802852125838e-05, Learning Rate: 7.737808687124925e-07\n",
      "Losses and learning rates saved at epoch 80\n",
      "Part: 1/1, Epoch: 81/100, Total Epochs: 81, Train Loss: 6.373870564857498e-05, Learning Rate: 7.737808687124925e-07\n",
      "Part: 1/1, Epoch: 82/100, Total Epochs: 82, Train Loss: 5.222917388891801e-05, Learning Rate: 7.737808687124925e-07\n",
      "Part: 1/1, Epoch: 83/100, Total Epochs: 83, Train Loss: 4.462151991901919e-05, Learning Rate: 7.737808687124925e-07\n",
      "Part: 1/1, Epoch: 84/100, Total Epochs: 84, Train Loss: 3.937606015824713e-05, Learning Rate: 7.737808687124925e-07\n",
      "Part: 1/1, Epoch: 85/100, Total Epochs: 85, Train Loss: 3.5792058042716235e-05, Learning Rate: 7.737808687124925e-07\n",
      "Part: 1/1, Epoch: 86/100, Total Epochs: 86, Train Loss: 3.368177203810774e-05, Learning Rate: 7.737808687124925e-07\n",
      "Part: 1/1, Epoch: 87/100, Total Epochs: 87, Train Loss: 3.344246943015605e-05, Learning Rate: 7.737808687124925e-07\n",
      "Part: 1/1, Epoch: 88/100, Total Epochs: 88, Train Loss: 3.659470894490369e-05, Learning Rate: 7.737808687124925e-07\n",
      "Part: 1/1, Epoch: 89/100, Total Epochs: 89, Train Loss: 4.778297443408519e-05, Learning Rate: 7.737808687124925e-07\n",
      "Part: 1/1, Epoch: 90/100, Total Epochs: 90, Train Loss: 8.2374521298334e-05, Learning Rate: 7.737808687124925e-07\n",
      "Losses and learning rates saved at epoch 90\n",
      "Part: 1/1, Epoch: 91/100, Total Epochs: 91, Train Loss: 0.00013868097448721528, Learning Rate: 7.737808687124925e-07\n",
      "Part: 1/1, Epoch: 92/100, Total Epochs: 92, Train Loss: 0.0003150372940581292, Learning Rate: 7.737808687124925e-07\n",
      "Part: 1/1, Epoch: 93/100, Total Epochs: 93, Train Loss: 0.0002685596118681133, Learning Rate: 7.350918735937739e-07\n",
      "Part: 1/1, Epoch: 94/100, Total Epochs: 94, Train Loss: 0.0001318754511885345, Learning Rate: 7.350918735937739e-07\n",
      "Part: 1/1, Epoch: 95/100, Total Epochs: 95, Train Loss: 0.00021908922644797713, Learning Rate: 7.350918735937739e-07\n",
      "Part: 1/1, Epoch: 96/100, Total Epochs: 96, Train Loss: 0.00012699876970145851, Learning Rate: 7.350918735937739e-07\n",
      "Part: 1/1, Epoch: 97/100, Total Epochs: 97, Train Loss: 9.65792714850977e-05, Learning Rate: 7.350918735937739e-07\n",
      "Part: 1/1, Epoch: 98/100, Total Epochs: 98, Train Loss: 6.774182838853449e-05, Learning Rate: 7.350918735937739e-07\n",
      "Part: 1/1, Epoch: 99/100, Total Epochs: 99, Train Loss: 6.20897117187269e-05, Learning Rate: 7.350918735937739e-07\n",
      "Part: 1/1, Epoch: 100/100, Total Epochs: 100, Train Loss: 5.847289503435604e-05, Learning Rate: 7.350918735937739e-07\n",
      "Model and weights saved at epoch 100\n",
      "Losses and learning rates saved at epoch 100\n"
     ]
    }
   ],
   "source": [
    "# Training loop\n",
    "EPOCHS = 100\n",
    "num_parts = 1 # num_parts = 1 means no curriculum learning\n",
    "part_size = len(X_train_0_grouped) // num_parts\n",
    "print(f\"Length of X_train_0_grouped: {len(X_train_0_grouped)}\")\n",
    "print(f\"part size: {part_size}\")\n",
    "\n",
    "# Lists to store the mean train and validation losses for each epoch\n",
    "all_train_losses = []\n",
    "all_train_predicted_values = []\n",
    "# all_train_unified_depolar = []\n",
    "all_train_X_depolar = []\n",
    "all_train_Y_depolar = []\n",
    "all_train_predicted_X_overrotation = []\n",
    "all_train_predicted_Y_overrotation = []\n",
    "# all_val_losses = []\n",
    "\n",
    "# List to store learning rates\n",
    "learning_rates = []\n",
    "\n",
    "total_epochs_elapsed = 0  # Counter for the total number of epochs elapsed\n",
    "\n",
    "end_idx = 0  # Initialize end_idx to zero\n",
    "\n",
    "\n",
    "for part in range(num_parts):\n",
    "    # Determine the dataset subset for the current part\n",
    "    start_idx = part * part_size\n",
    "    end_idx = (part + 1) * part_size  # Exclusive\n",
    "    \n",
    "    print(f\"start_idx: {start_idx}\")\n",
    "    print(f\"end_idx: {end_idx}\")\n",
    "    \n",
    "    # end_idx += part_size  # Increment the end_idx by part_size\n",
    "\n",
    "    X_subset = X_train_0_grouped[start_idx:end_idx]\n",
    "    print(f\"Shape of X_subset: {X_subset.shape}\")\n",
    "\n",
    "    y_subset = y_train_grouped[start_idx:end_idx]\n",
    "    print(f\"Shape of y_subset: {y_subset.shape}\")\n",
    "\n",
    "    X_subset_ms = [X_train_grouped[0][start_idx:end_idx], X_train_grouped[1][start_idx:end_idx]]\n",
    "\n",
    "    for epoch in range(EPOCHS):\n",
    "        train_losses_per_epoch = []\n",
    "        predicted_values_per_epoch = np.zeros(4) # Initialize zeros array, number of zeros corresponds to model output dimension \n",
    "        predicted_values_counter_per_epoch = 0 \n",
    "        # val_losses_per_epoch = []\n",
    "\n",
    "        for i in range(len(X_subset)):\n",
    "            X_batch = [X_subset[i:i + 1], y_subset[i:i + 1]]\n",
    "            X_batch_ms = [X_subset_ms[0][i:i + 1], X_subset_ms[1][i:i + 1]]\n",
    "            y_batch = y_subset[i:i + 1]\n",
    "\n",
    "            # train_loss, train_predicted_values = train_step(X_batch, y_batch, X_batch_ms)\n",
    "            train_loss, train_predicted_values = train_step(X_batch, y_batch, X_batch)\n",
    "            \n",
    "            \n",
    "            # val_loss = validate_step([X_test_0_grouped, y_test_grouped], y_test_grouped, [X_test_grouped[0], X_test_grouped[1]])\n",
    "            train_losses_per_epoch.append(train_loss)\n",
    "            # print(f\"current_predicted_values: {train_predicted_values}\")\n",
    "            predicted_values_per_epoch = predicted_values_per_epoch + np.array(train_predicted_values)\n",
    "            predicted_values_counter_per_epoch += 1\n",
    "            # print(f\"predicted_values_per_epoch: {predicted_values_per_epoch}\")\n",
    "            \n",
    "                \n",
    "            # val_losses_per_epoch.append(val_loss)\n",
    "\n",
    "        mean_train_loss = np.mean(train_losses_per_epoch)\n",
    "        mean_predicted_values = predicted_values_per_epoch/predicted_values_counter_per_epoch\n",
    "        # print(f\"predicted_values_counter_per_epoch: {predicted_values_counter_per_epoch}\")\n",
    "        # print(f\"mean_predicted_values: {mean_predicted_values}\")\n",
    "        # mean_val_loss = np.mean(val_losses_per_epoch)\n",
    "\n",
    "        # Store the mean losses for this epoch\n",
    "        all_train_losses.append(mean_train_loss)\n",
    "        all_train_predicted_values.append(mean_predicted_values)\n",
    "        \n",
    "        all_train_X_depolar.append(mean_predicted_values[0])\n",
    "        all_train_Y_depolar.append(mean_predicted_values[1])\n",
    "        all_train_predicted_X_overrotation.append(mean_predicted_values[2])\n",
    "        all_train_predicted_Y_overrotation.append(mean_predicted_values[3])\n",
    "            \n",
    "        \n",
    "        # all_val_losses.append(mean_val_loss)\n",
    "\n",
    "        # Record the learning rate at this epoch\n",
    "        current_step = model.optimizer.iterations\n",
    "        current_lr = lr_schedule(current_step).numpy()\n",
    "        learning_rates.append(current_lr)\n",
    "\n",
    "        total_epochs_elapsed += 1\n",
    "        # print(f\"Part: {part+1}/{num_parts}, Epoch: {epoch+1}/{EPOCHS}, Total Epochs: {total_epochs_elapsed}, Train Loss: {mean_train_loss}, Validation Loss: {mean_val_loss}, Learning Rate: {current_lr}\")\n",
    "        print(f\"Part: {part+1}/{num_parts}, Epoch: {epoch+1}/{EPOCHS}, Total Epochs: {total_epochs_elapsed}, Train Loss: {mean_train_loss}, Learning Rate: {current_lr}\")\n",
    "        if (total_epochs_elapsed % 10 == 0) or (total_epochs_elapsed == 1) or (epoch+1 == EPOCHS):\n",
    "            model_path = os.path.join(model_save_dir, f\"model_epoch_{total_epochs_elapsed}\")\n",
    "            weights_path = os.path.join(model_save_dir, f\"weights_epoch_{total_epochs_elapsed}\")\n",
    "            # tf.debugging.disable_traceback_filtering()\n",
    "            # model.save(model_path)\n",
    "            if (total_epochs_elapsed % 100 == 0) or (epoch+1 == EPOCHS):\n",
    "                model.save(f\"{model_path}.keras\", save_format='keras')\n",
    "            # model.save_weights(weights_path)\n",
    "                print(f\"Model and weights saved at epoch {total_epochs_elapsed}\")          \n",
    "\n",
    "            loss_lr_df = pd.DataFrame({\n",
    "                'Epoch': list(range(1, len(all_train_losses) + 1)),\n",
    "                'Training_Loss': all_train_losses,\n",
    "                'Learning_Rate': learning_rates # Include learning rates\n",
    "            })\n",
    "            \n",
    "            predicted_values_df = pd.DataFrame({\n",
    "                'Epoch': list(range(1, len(all_train_predicted_values) + 1)),\n",
    "                'Predicted_Values': all_train_predicted_values,\n",
    "                'X_Depolarizing_Error': all_train_X_depolar,\n",
    "                'Y_Depolarizing_Error': all_train_Y_depolar,\n",
    "                'X_Over_Rotation_Error': all_train_predicted_X_overrotation,\n",
    "                'Y_Over_Rotation_Error':all_train_predicted_Y_overrotation\n",
    "            })\n",
    "            \n",
    "            # Save the DataFrame to a CSV file\n",
    "            loss_lr_df.to_csv(f'losses_and_lr_epoch_{total_epochs_elapsed}.csv', index=False)\n",
    "            predicted_values_df.to_csv(f'predicted_values_epoch_{total_epochs_elapsed}.csv', index=False)\n",
    "\n",
    "            print(f\"Losses and learning rates saved at epoch {total_epochs_elapsed}\")\n",
    "            \n",
    "\n",
    "        if (part+1) != num_parts:\n",
    "            if mean_train_loss <= 2.5e-5:\n",
    "                print(f\"mean_train_loss: {mean_train_loss} <= 2.5e-5, skip to next stage.\")\n",
    "                break\n",
    "                \n",
    "        \n",
    "    \n"
   ]
  },
  {
   "cell_type": "code",
   "execution_count": null,
   "metadata": {},
   "outputs": [],
   "source": []
  },
  {
   "cell_type": "code",
   "execution_count": null,
   "metadata": {
    "tags": []
   },
   "outputs": [],
   "source": [
    "# # Save the entire model as a `.keras` zip archive.\n",
    "# model.save('my_model.keras')"
   ]
  },
  {
   "cell_type": "code",
   "execution_count": null,
   "metadata": {
    "tags": []
   },
   "outputs": [],
   "source": [
    "# test_saved_model = tf.keras.models.load_model('my_model.keras')"
   ]
  },
  {
   "cell_type": "code",
   "execution_count": 36,
   "metadata": {
    "tags": []
   },
   "outputs": [],
   "source": [
    "saved_model = tf.keras.models.load_model(r\"C:\\Users\\ALAN\\Documents\\ML4GST\\benchmark\\pygsti_explicit_1Qubit_custom_X_v46\\saved_models\\model_epoch_362.keras\")"
   ]
  },
  {
   "cell_type": "code",
   "execution_count": null,
   "metadata": {
    "tags": []
   },
   "outputs": [],
   "source": [
    "# random_data_x = np.random.rand(1,20,4,4)\n",
    "# random_data_y = np.random.rand(1,2)"
   ]
  },
  {
   "cell_type": "code",
   "execution_count": null,
   "metadata": {
    "tags": []
   },
   "outputs": [],
   "source": [
    "# model([random_data_x, random_data_y])"
   ]
  },
  {
   "cell_type": "code",
   "execution_count": null,
   "metadata": {
    "tags": []
   },
   "outputs": [],
   "source": [
    "# saved_model([random_data_x, random_data_y])"
   ]
  },
  {
   "cell_type": "code",
   "execution_count": 37,
   "metadata": {
    "tags": []
   },
   "outputs": [
    {
     "data": {
      "text/plain": [
       "<tf.Variable 'iteration:0' shape=() dtype=int64, numpy=1086>"
      ]
     },
     "execution_count": 37,
     "metadata": {},
     "output_type": "execute_result"
    }
   ],
   "source": [
    "saved_model.optimizer.iterations"
   ]
  },
  {
   "cell_type": "code",
   "execution_count": null,
   "metadata": {
    "tags": []
   },
   "outputs": [],
   "source": [
    "# # Create a new Adam optimizer with the desired learning rate\n",
    "# new_learning_rate = 1e-6\n",
    "# new_optimizer = tf.keras.optimizers.Adam(learning_rate=new_learning_rate)\n",
    "\n",
    "# # Compile the model with the new optimizer\n",
    "# saved_model.compile(optimizer=new_optimizer, loss='mean_squared_error')\n"
   ]
  },
  {
   "cell_type": "code",
   "execution_count": 38,
   "metadata": {
    "tags": []
   },
   "outputs": [
    {
     "data": {
      "text/plain": [
       "1e-06"
      ]
     },
     "execution_count": 38,
     "metadata": {},
     "output_type": "execute_result"
    }
   ],
   "source": [
    "saved_model.optimizer.learning_rate.numpy()"
   ]
  },
  {
   "cell_type": "code",
   "execution_count": 37,
   "metadata": {
    "colab": {
     "base_uri": "https://localhost:8080/",
     "height": 262
    },
    "id": "aL6iMAOhH2nj",
    "outputId": "31d27df0-8b1e-4084-cd8b-c30e48a9a5e6",
    "tags": []
   },
   "outputs": [
    {
     "data": {
      "image/png": "[encoded data removed]",
      "text/plain": [
       "<Figure size 1200x600 with 1 Axes>"
      ]
     },
     "metadata": {},
     "output_type": "display_data"
    }
   ],
   "source": [
    "# Plotting training and validation losses\n",
    "import matplotlib.pyplot as plt\n",
    "\n",
    "plt.figure(figsize=(12, 6))\n",
    "plt.plot(all_train_losses, label='Training Loss')\n",
    "# plt.plot(all_val_losses, label='Validation Loss')\n",
    "plt.xlabel('Epochs')\n",
    "plt.ylabel('Loss')\n",
    "plt.legend()\n",
    "plt.title('Training and Validation Losses')\n",
    "plt.show()"
   ]
  },
  {
   "cell_type": "code",
   "execution_count": 38,
   "metadata": {
    "tags": []
   },
   "outputs": [
    {
     "data": {
      "image/png": "[encoded data removed]",
      "text/plain": [
       "<Figure size 640x480 with 1 Axes>"
      ]
     },
     "metadata": {},
     "output_type": "display_data"
    }
   ],
   "source": [
    "plt.plot(learning_rates)\n",
    "plt.xlabel('Epoch')\n",
    "plt.ylabel('Learning Rate')\n",
    "plt.title('Custom Learning Rate Schedule')\n",
    "plt.show()"
   ]
  },
  {
   "cell_type": "code",
   "execution_count": null,
   "metadata": {
    "id": "f0vf6jwkNtYD",
    "tags": []
   },
   "outputs": [],
   "source": [
    "# # Convert the recorded losses into a DataFrame\n",
    "# loss_df = pd.DataFrame({\n",
    "#     'Epoch': list(range(1, len(all_train_losses) + 1)),\n",
    "#     'Training_Loss': all_train_losses,\n",
    "#     'Validation_Loss': all_val_losses\n",
    "# })\n",
    "\n",
    "# # Save the DataFrame to a CSV file\n",
    "# loss_df.to_csv('losses.csv', index=False)\n"
   ]
  },
  {
   "cell_type": "code",
   "execution_count": 39,
   "metadata": {
    "tags": []
   },
   "outputs": [
    {
     "data": {
      "text/plain": [
       "13"
      ]
     },
     "execution_count": 39,
     "metadata": {},
     "output_type": "execute_result"
    }
   ],
   "source": [
    "len(X_train_0_grouped)"
   ]
  },
  {
   "cell_type": "code",
   "execution_count": null,
   "metadata": {
    "id": "Vd-mE6MJH48G",
    "tags": []
   },
   "outputs": [],
   "source": [
    "# Function to sample part of the training data and evaluate model's performance\n",
    "def sample_and_evaluate(num_samples=13):\n",
    "    # indices = np.random.choice(len(X_train_grouped[0]), size=num_samples, replace=False)\n",
    "    indices = [i for i in range(13)]\n",
    "    sampled_X = [tf.cast(X_train_0_grouped[indices], dtype=tf.float32), tf.cast(y_train_grouped[indices], dtype=tf.float32)]\n",
    "    sampled_y = tf.cast(y_train_grouped[indices], dtype=tf.float32)\n",
    "    sampled_X_ms = [tf.cast(X_train_grouped[0][indices], dtype=tf.float32), tf.cast(X_train_grouped[1][indices], dtype=tf.float32)]\n",
    "    loss = validate_step(sampled_X, sampled_y, sampled_X_ms, print_results = True)\n",
    "    print(f\"Loss on sampled data: {loss.numpy()}\")\n",
    "    return loss.numpy()"
   ]
  },
  {
   "cell_type": "code",
   "execution_count": null,
   "metadata": {
    "colab": {
     "base_uri": "https://localhost:8080/"
    },
    "id": "wUOTaXO3Mhvq",
    "outputId": "541c2f4a-8e69-48e8-bfc9-a83471375282",
    "tags": []
   },
   "outputs": [],
   "source": [
    "# X_train[0][0]"
   ]
  },
  {
   "cell_type": "code",
   "execution_count": null,
   "metadata": {
    "colab": {
     "base_uri": "https://localhost:8080/"
    },
    "id": "aurMt4AwNa40",
    "outputId": "550fcb81-85ed-40a6-fd52-de67b6154c83",
    "tags": []
   },
   "outputs": [],
   "source": [
    "sample_and_evaluate()"
   ]
  },
  {
   "cell_type": "code",
   "execution_count": null,
   "metadata": {
    "tags": []
   },
   "outputs": [],
   "source": [
    "# Function to sample part of the training data and evaluate model's performance\n",
    "def sample_and_evaluate_single(num_samples=13):\n",
    "    # indices = np.random.choice(len(X_train_grouped[0]), size=num_samples, replace=False)\n",
    "    indices = [28]\n",
    "    sampled_X = [tf.cast(X_train_0_grouped[indices], dtype=tf.float32), tf.cast(y_train_grouped[indices], dtype=tf.float32)]\n",
    "    sampled_y = tf.cast(y_train_grouped[indices], dtype=tf.float32)\n",
    "    sampled_X_ms = [tf.cast(X_train_grouped[0][indices], dtype=tf.float32), tf.cast(X_train_grouped[1][indices], dtype=tf.float32)]\n",
    "    loss = validate_step(sampled_X, sampled_y, sampled_X_ms, print_results = True)\n",
    "    print(f\"Loss on sampled data: {loss.numpy()}\")\n",
    "    return loss.numpy()"
   ]
  },
  {
   "cell_type": "code",
   "execution_count": null,
   "metadata": {
    "tags": []
   },
   "outputs": [],
   "source": [
    "sample_and_evaluate_single()"
   ]
  },
  {
   "cell_type": "code",
   "execution_count": 36,
   "metadata": {
    "tags": []
   },
   "outputs": [],
   "source": [
    "def apply_gate_sequence_ground_truth(single_gate_sequence, single_y_label, single_gate_matrix_sequence, ground_truth_params):\n",
    "    # Initialize state in Pauli basis\n",
    "    state = tf.constant([1/math.sqrt(2), 0, 0, 1/math.sqrt(2)], dtype=tf.float32)\n",
    "\n",
    "    # print(\"Shape of single_gate_sequence:\", tf.shape(single_gate_sequence))\n",
    "    # print(\"Shape of single_y_label:\", tf.shape(single_y_label))\n",
    "    # print(\"Shape of model input single_gate_sequence:\", tf.shape(single_gate_sequence[tf.newaxis, :]))\n",
    "    # print(\"Shape of model input single_gate_sequence:\", tf.shape(single_y_label[tf.newaxis, :]))\n",
    "\n",
    "\n",
    "    # Apply each gate in the sequence\n",
    "    depol_amt_X, depol_amt_Y, over_rotation_X, over_rotation_Y  = ground_truth_params\n",
    "    reconstructed_gate_set = custom_gate_set(depol_amt_X, over_rotation_X, depol_amt_Y, over_rotation_Y)\n",
    "    for i in range(tf.shape(single_gate_sequence)[0]):\n",
    "        # print(f'single_gate_sequence{i}: {single_gate_sequence[i]}')\n",
    "        if single_gate_sequence[i] == 0:\n",
    "            break\n",
    "        state = apply_gate(state, reconstructed_gate_set, single_gate_sequence[i])\n",
    "\n",
    "    return state"
   ]
  },
  {
   "cell_type": "code",
   "execution_count": 51,
   "metadata": {
    "tags": []
   },
   "outputs": [],
   "source": [
    "def validate_step_ground_truth(X, y, X_ms, ground_truth_params, print_results = False):\n",
    "    val_mse_losses = []  # Initialize a list to collect the losses for each group in the mini-batch\n",
    "    val_kl_div_losses = []\n",
    "    val_chi_square_losses = []\n",
    "    val_log_L_losses = []\n",
    "    \n",
    "    # Initialize a list for printing and evaluating results\n",
    "    batched_values = []\n",
    "    batched_sum_depol_amt_X = 0\n",
    "    batched_sum_over_rotation_X = 0\n",
    "    batched_sum_depol_amt_Y = 0\n",
    "    batched_sum_over_rotation_Y = 0\n",
    "\n",
    "    # # Compute model output for the entire mini-batch here\n",
    "    # full_batch_model_output = model([X_ms[0], X[1]])\n",
    "\n",
    "    # Loop over each group in the mini-batch\n",
    "    for i in range(tf.shape(X[0])[0]):\n",
    "        single_group_gate_sequence = tf.gather(X[0], i, axis=0)\n",
    "        single_group_y_label = tf.gather(X[1], i, axis=0)\n",
    "        single_group_gate_matrix_sequence = tf.gather(X_ms[0], i, axis=0)\n",
    "\n",
    "        # Gather the model's output for the i-th group from the full batch output\n",
    "        # single_group_model_output = tf.gather(full_batch_model_output, i, axis=0)\n",
    "        single_group_model_output = ground_truth_params\n",
    "\n",
    "        # Process a single group\n",
    "        final_states = apply_gate_sequence(single_group_gate_sequence, single_group_y_label, single_group_gate_matrix_sequence, ground_truth_params)\n",
    "        probabilities = compute_probabilities(final_states)\n",
    "        \n",
    "        if print_results == True:\n",
    "            depol_amt_X, depol_amt_Y, over_rotation_X, over_rotation_Y = ground_truth_params\n",
    "            batched_values.append(tf.stack([depol_amt_X, over_rotation_X, depol_amt_Y, over_rotation_Y]))\n",
    "            batched_sum_depol_amt_X += depol_amt_X\n",
    "            batched_sum_over_rotation_X += over_rotation_X\n",
    "            batched_sum_depol_amt_Y += depol_amt_Y\n",
    "            batched_sum_over_rotation_Y += over_rotation_Y\n",
    "        \n",
    "        \n",
    "        # print(f\"Ground truth probabilities: {tf.gather(y, i, axis=0)}\")\n",
    "        # print(f\"Computed probabilities: {probabilities}\")\n",
    "        \n",
    "        # Calculate loss for this group\n",
    "        mse_loss = loss_fn(tf.gather(y, i, axis=0), probabilities).numpy()\n",
    "        kl_div = tf.keras.losses.KLDivergence()\n",
    "        kl_div_loss = kl_div(tf.gather(y, i, axis=0), probabilities).numpy()\n",
    "        \n",
    "        pmin = 0.01  #  Minimum cutoff probability to avoid poles\n",
    "        pmin_log_L = 0.00001 #  Minimum cutoff probability to avoid poles for log L\n",
    "        chi_square_loss = tf.math.square(tf.gather(y, i, axis=0) - probabilities)/ tf.math.maximum(probabilities, pmin)\n",
    "        chi_square_loss = tf.math.reduce_sum(chi_square_loss)\n",
    "        log_L_losses = -tf.gather(y, i, axis=0)*tf.math.log(tf.math.maximum(probabilities, pmin_log_L))\n",
    "        log_L_losses = tf.math.reduce_sum(log_L_losses)\n",
    "        \n",
    "        \n",
    "        \n",
    "        val_kl_div_losses.append(kl_div_loss)\n",
    "        val_chi_square_losses.append(chi_square_loss)\n",
    "        val_mse_losses.append(mse_loss)\n",
    "        val_log_L_losses.append(log_L_losses)\n",
    "        \n",
    "\n",
    "    # Average the losses across the mini-batch\n",
    "    average_mse_loss = tf.reduce_mean(val_mse_losses)\n",
    "    average_kl_div_loss = tf.reduce_mean(val_kl_div_losses)\n",
    "    average_chi_square_loss = tf.reduce_mean(val_chi_square_losses)\n",
    "    average_log_L_losses = tf.reduce_mean(val_log_L_losses)\n",
    "    \n",
    "    if print_results == True:\n",
    "        print('\\nbatched_values: ', batched_values)\n",
    "        print('\\nlen of batched_values: ', len(batched_values))\n",
    "        print('\\nbatched_mean_depol_amt_X: ', batched_sum_depol_amt_X/len(batched_values))\n",
    "        print('\\nbatched_over_rotation_X: ', batched_sum_over_rotation_X/len(batched_values))\n",
    "        print('\\nbatched_mean_depol_amt_Y: ', batched_sum_depol_amt_Y/len(batched_values))\n",
    "        print('\\nbatched_over_rotation_Y: ', batched_sum_over_rotation_Y/len(batched_values))\n",
    "    \n",
    "    \n",
    "    return average_mse_loss, average_kl_div_loss, average_chi_square_loss, average_log_L_losses, val_mse_losses, val_kl_div_losses, val_chi_square_losses, val_log_L_losses"
   ]
  },
  {
   "cell_type": "code",
   "execution_count": 52,
   "metadata": {
    "tags": []
   },
   "outputs": [],
   "source": [
    "# Function to sample part of the training data and evaluate model's performance\n",
    "def sample_and_evaluate_ground_truth(ground_truth_params, num_samples=10):\n",
    "    # indices = np.random.choice(len(X_train_grouped[0]), size=num_samples, replace=False)\n",
    "    indices = [i for i in range(13)]\n",
    "    print(f\"indices: {indices}\")\n",
    "    sampled_X = [tf.cast(X_train_0_grouped[indices], dtype=tf.float32), tf.cast(y_train_grouped[indices], dtype=tf.float32)]\n",
    "    sampled_y = tf.cast(y_train_grouped[indices], dtype=tf.float32)\n",
    "    # print(f\"sampled_y: {sampled_y}\")\n",
    "    sampled_X_ms = [tf.cast(X_train_grouped[0][indices], dtype=tf.float32), tf.cast(X_train_grouped[1][indices], dtype=tf.float32)]\n",
    "    average_mse_loss, average_kl_div_loss, average_chi_square_loss, average_log_L_losses, val_mse_losses, val_kl_div_losses, val_chi_square_losses, val_log_L_losses = validate_step_ground_truth(sampled_X, sampled_y, sampled_X_ms, ground_truth_params, print_results = True)\n",
    "    print(f\"average_mse_loss: {average_mse_loss.numpy()}\")\n",
    "    print(f\"average_kl_div_loss: {average_kl_div_loss.numpy()}\")\n",
    "    print(f\"average_chi_square_loss: {average_chi_square_loss}\")\n",
    "    print(f\"average_log_L_losses: {average_log_L_losses}\")\n",
    "    print(f\"val_mse_losses: {val_mse_losses}\")\n",
    "    print(f\"val_kl_div_losses: {val_kl_div_losses}\")\n",
    "    print(f\"val_chi_square_losses: {val_chi_square_losses}\")\n",
    "    print(f\"val_log_L_losses: {val_log_L_losses}\")\n",
    "    "
   ]
  },
  {
   "cell_type": "code",
   "execution_count": 53,
   "metadata": {
    "tags": []
   },
   "outputs": [],
   "source": [
    "ground_truth_list = [0.01, 0.02, 0.1, 0.2]"
   ]
  },
  {
   "cell_type": "code",
   "execution_count": 54,
   "metadata": {
    "tags": []
   },
   "outputs": [],
   "source": [
    "predicted_list = [0.009888766, 0.019712888, 0.100903568, 0.198058618]"
   ]
  },
  {
   "cell_type": "code",
   "execution_count": 55,
   "metadata": {
    "tags": []
   },
   "outputs": [],
   "source": [
    "predicted_list_curriculum_learning = [0.010365579, 0.020106427, 0.100261497, 0.199429939]"
   ]
  },
  {
   "cell_type": "code",
   "execution_count": 60,
   "metadata": {
    "tags": []
   },
   "outputs": [],
   "source": [
    "test_list = [0.008, 0.018, 0.11, 0.19]"
   ]
  },
  {
   "cell_type": "code",
   "execution_count": 56,
   "metadata": {
    "tags": []
   },
   "outputs": [
    {
     "name": "stdout",
     "output_type": "stream",
     "text": [
      "indices: [0, 1, 2, 3, 4, 5, 6, 7, 8, 9, 10, 11, 12]\n",
      "\n",
      "batched_values:  [<tf.Tensor: shape=(4,), dtype=float32, numpy=array([0.01, 0.1 , 0.02, 0.2 ], dtype=float32)>, <tf.Tensor: shape=(4,), dtype=float32, numpy=array([0.01, 0.1 , 0.02, 0.2 ], dtype=float32)>, <tf.Tensor: shape=(4,), dtype=float32, numpy=array([0.01, 0.1 , 0.02, 0.2 ], dtype=float32)>, <tf.Tensor: shape=(4,), dtype=float32, numpy=array([0.01, 0.1 , 0.02, 0.2 ], dtype=float32)>, <tf.Tensor: shape=(4,), dtype=float32, numpy=array([0.01, 0.1 , 0.02, 0.2 ], dtype=float32)>, <tf.Tensor: shape=(4,), dtype=float32, numpy=array([0.01, 0.1 , 0.02, 0.2 ], dtype=float32)>, <tf.Tensor: shape=(4,), dtype=float32, numpy=array([0.01, 0.1 , 0.02, 0.2 ], dtype=float32)>, <tf.Tensor: shape=(4,), dtype=float32, numpy=array([0.01, 0.1 , 0.02, 0.2 ], dtype=float32)>, <tf.Tensor: shape=(4,), dtype=float32, numpy=array([0.01, 0.1 , 0.02, 0.2 ], dtype=float32)>, <tf.Tensor: shape=(4,), dtype=float32, numpy=array([0.01, 0.1 , 0.02, 0.2 ], dtype=float32)>, <tf.Tensor: shape=(4,), dtype=float32, numpy=array([0.01, 0.1 , 0.02, 0.2 ], dtype=float32)>, <tf.Tensor: shape=(4,), dtype=float32, numpy=array([0.01, 0.1 , 0.02, 0.2 ], dtype=float32)>, <tf.Tensor: shape=(4,), dtype=float32, numpy=array([0.01, 0.1 , 0.02, 0.2 ], dtype=float32)>]\n",
      "\n",
      "len of batched_values:  13\n",
      "\n",
      "batched_mean_depol_amt_X:  0.009999999999999998\n",
      "\n",
      "batched_over_rotation_X:  0.1\n",
      "\n",
      "batched_mean_depol_amt_Y:  0.019999999999999997\n",
      "\n",
      "batched_over_rotation_Y:  0.2\n",
      "average_mse_loss: 1.968346259673126e-05\n",
      "average_kl_div_loss: 5.0922666559927166e-05\n",
      "average_chi_square_loss: 0.0030546707566827536\n",
      "average_log_L_losses: 16.11537742614746\n",
      "val_mse_losses: [1.542747e-05, 1.8599638e-05, 9.969768e-06, 2.441494e-05, 2.648187e-05, 2.545229e-05, 2.6521411e-05, 1.190764e-05, 1.5454556e-05, 1.4919738e-05, 1.7888255e-05, 2.8362198e-05, 2.0485246e-05]\n",
      "val_kl_div_losses: [3.9195704e-05, 5.1594452e-05, 3.0514986e-05, 6.882217e-05, 6.659306e-05, 6.376299e-05, 6.804626e-05, 3.802947e-05, 4.517967e-05, 3.753685e-05, 3.989781e-05, 6.794658e-05, 4.4874647e-05]\n",
      "val_chi_square_losses: [<tf.Tensor: shape=(), dtype=float32, numpy=0.0023526014>, <tf.Tensor: shape=(), dtype=float32, numpy=0.0031014113>, <tf.Tensor: shape=(), dtype=float32, numpy=0.0018217048>, <tf.Tensor: shape=(), dtype=float32, numpy=0.004114209>, <tf.Tensor: shape=(), dtype=float32, numpy=0.003994696>, <tf.Tensor: shape=(), dtype=float32, numpy=0.003835221>, <tf.Tensor: shape=(), dtype=float32, numpy=0.0040734382>, <tf.Tensor: shape=(), dtype=float32, numpy=0.0022818707>, <tf.Tensor: shape=(), dtype=float32, numpy=0.0027227008>, <tf.Tensor: shape=(), dtype=float32, numpy=0.0022470457>, <tf.Tensor: shape=(), dtype=float32, numpy=0.0023921037>, <tf.Tensor: shape=(), dtype=float32, numpy=0.004084125>, <tf.Tensor: shape=(), dtype=float32, numpy=0.0026895918>]\n",
      "val_log_L_losses: [<tf.Tensor: shape=(), dtype=float32, numpy=14.625903>, <tf.Tensor: shape=(), dtype=float32, numpy=14.841007>, <tf.Tensor: shape=(), dtype=float32, numpy=15.444821>, <tf.Tensor: shape=(), dtype=float32, numpy=15.804008>, <tf.Tensor: shape=(), dtype=float32, numpy=16.14233>, <tf.Tensor: shape=(), dtype=float32, numpy=14.89>, <tf.Tensor: shape=(), dtype=float32, numpy=17.673752>, <tf.Tensor: shape=(), dtype=float32, numpy=15.406929>, <tf.Tensor: shape=(), dtype=float32, numpy=15.608817>, <tf.Tensor: shape=(), dtype=float32, numpy=17.28934>, <tf.Tensor: shape=(), dtype=float32, numpy=18.147127>, <tf.Tensor: shape=(), dtype=float32, numpy=15.966656>, <tf.Tensor: shape=(), dtype=float32, numpy=17.659218>]\n"
     ]
    }
   ],
   "source": [
    "sample_and_evaluate_ground_truth(ground_truth_list)"
   ]
  },
  {
   "cell_type": "code",
   "execution_count": 57,
   "metadata": {
    "tags": []
   },
   "outputs": [
    {
     "name": "stdout",
     "output_type": "stream",
     "text": [
      "indices: [0, 1, 2, 3, 4, 5, 6, 7, 8, 9, 10, 11, 12]\n",
      "\n",
      "batched_values:  [<tf.Tensor: shape=(4,), dtype=float32, numpy=array([0.00988877, 0.10090357, 0.01971289, 0.19805862], dtype=float32)>, <tf.Tensor: shape=(4,), dtype=float32, numpy=array([0.00988877, 0.10090357, 0.01971289, 0.19805862], dtype=float32)>, <tf.Tensor: shape=(4,), dtype=float32, numpy=array([0.00988877, 0.10090357, 0.01971289, 0.19805862], dtype=float32)>, <tf.Tensor: shape=(4,), dtype=float32, numpy=array([0.00988877, 0.10090357, 0.01971289, 0.19805862], dtype=float32)>, <tf.Tensor: shape=(4,), dtype=float32, numpy=array([0.00988877, 0.10090357, 0.01971289, 0.19805862], dtype=float32)>, <tf.Tensor: shape=(4,), dtype=float32, numpy=array([0.00988877, 0.10090357, 0.01971289, 0.19805862], dtype=float32)>, <tf.Tensor: shape=(4,), dtype=float32, numpy=array([0.00988877, 0.10090357, 0.01971289, 0.19805862], dtype=float32)>, <tf.Tensor: shape=(4,), dtype=float32, numpy=array([0.00988877, 0.10090357, 0.01971289, 0.19805862], dtype=float32)>, <tf.Tensor: shape=(4,), dtype=float32, numpy=array([0.00988877, 0.10090357, 0.01971289, 0.19805862], dtype=float32)>, <tf.Tensor: shape=(4,), dtype=float32, numpy=array([0.00988877, 0.10090357, 0.01971289, 0.19805862], dtype=float32)>, <tf.Tensor: shape=(4,), dtype=float32, numpy=array([0.00988877, 0.10090357, 0.01971289, 0.19805862], dtype=float32)>, <tf.Tensor: shape=(4,), dtype=float32, numpy=array([0.00988877, 0.10090357, 0.01971289, 0.19805862], dtype=float32)>, <tf.Tensor: shape=(4,), dtype=float32, numpy=array([0.00988877, 0.10090357, 0.01971289, 0.19805862], dtype=float32)>]\n",
      "\n",
      "len of batched_values:  13\n",
      "\n",
      "batched_mean_depol_amt_X:  0.009888765999999997\n",
      "\n",
      "batched_over_rotation_X:  0.10090356800000001\n",
      "\n",
      "batched_mean_depol_amt_Y:  0.019712888000000005\n",
      "\n",
      "batched_over_rotation_Y:  0.198058618\n",
      "average_mse_loss: 2.133902489731554e-05\n",
      "average_kl_div_loss: 5.621534728561528e-05\n",
      "average_chi_square_loss: 0.00338006392121315\n",
      "average_log_L_losses: 16.115535736083984\n",
      "val_mse_losses: [1.3962107e-05, 2.0479889e-05, 9.066415e-06, 2.5411911e-05, 2.8718527e-05, 2.4558378e-05, 2.8423108e-05, 1.2447534e-05, 1.9093455e-05, 2.1235664e-05, 1.9206267e-05, 3.56782e-05, 1.912587e-05]\n",
      "val_kl_div_losses: [3.625427e-05, 5.8512334e-05, 2.8813898e-05, 6.77879e-05, 7.028298e-05, 6.615189e-05, 7.501251e-05, 4.119502e-05, 5.9979713e-05, 5.315399e-05, 4.4959215e-05, 8.6928274e-05, 4.1767566e-05]\n",
      "val_chi_square_losses: [<tf.Tensor: shape=(), dtype=float32, numpy=0.0021755365>, <tf.Tensor: shape=(), dtype=float32, numpy=0.0035258702>, <tf.Tensor: shape=(), dtype=float32, numpy=0.0017247671>, <tf.Tensor: shape=(), dtype=float32, numpy=0.004060352>, <tf.Tensor: shape=(), dtype=float32, numpy=0.0042219013>, <tf.Tensor: shape=(), dtype=float32, numpy=0.0039842892>, <tf.Tensor: shape=(), dtype=float32, numpy=0.004509596>, <tf.Tensor: shape=(), dtype=float32, numpy=0.0024733045>, <tf.Tensor: shape=(), dtype=float32, numpy=0.0036318097>, <tf.Tensor: shape=(), dtype=float32, numpy=0.003191019>, <tf.Tensor: shape=(), dtype=float32, numpy=0.0027009838>, <tf.Tensor: shape=(), dtype=float32, numpy=0.0052376585>, <tf.Tensor: shape=(), dtype=float32, numpy=0.002503744>]\n",
      "val_log_L_losses: [<tf.Tensor: shape=(), dtype=float32, numpy=14.625815>, <tf.Tensor: shape=(), dtype=float32, numpy=14.841214>, <tf.Tensor: shape=(), dtype=float32, numpy=15.444771>, <tf.Tensor: shape=(), dtype=float32, numpy=15.803977>, <tf.Tensor: shape=(), dtype=float32, numpy=16.14244>, <tf.Tensor: shape=(), dtype=float32, numpy=14.890072>, <tf.Tensor: shape=(), dtype=float32, numpy=17.673962>, <tf.Tensor: shape=(), dtype=float32, numpy=15.407023>, <tf.Tensor: shape=(), dtype=float32, numpy=15.6092615>, <tf.Tensor: shape=(), dtype=float32, numpy=17.289806>, <tf.Tensor: shape=(), dtype=float32, numpy=18.147278>, <tf.Tensor: shape=(), dtype=float32, numpy=15.967226>, <tf.Tensor: shape=(), dtype=float32, numpy=17.659122>]\n"
     ]
    }
   ],
   "source": [
    "sample_and_evaluate_ground_truth(predicted_list)"
   ]
  },
  {
   "cell_type": "code",
   "execution_count": 58,
   "metadata": {
    "tags": []
   },
   "outputs": [
    {
     "name": "stdout",
     "output_type": "stream",
     "text": [
      "indices: [0, 1, 2, 3, 4, 5, 6, 7, 8, 9, 10, 11, 12]\n",
      "\n",
      "batched_values:  [<tf.Tensor: shape=(4,), dtype=float32, numpy=array([0.01036558, 0.10026149, 0.02010643, 0.19942994], dtype=float32)>, <tf.Tensor: shape=(4,), dtype=float32, numpy=array([0.01036558, 0.10026149, 0.02010643, 0.19942994], dtype=float32)>, <tf.Tensor: shape=(4,), dtype=float32, numpy=array([0.01036558, 0.10026149, 0.02010643, 0.19942994], dtype=float32)>, <tf.Tensor: shape=(4,), dtype=float32, numpy=array([0.01036558, 0.10026149, 0.02010643, 0.19942994], dtype=float32)>, <tf.Tensor: shape=(4,), dtype=float32, numpy=array([0.01036558, 0.10026149, 0.02010643, 0.19942994], dtype=float32)>, <tf.Tensor: shape=(4,), dtype=float32, numpy=array([0.01036558, 0.10026149, 0.02010643, 0.19942994], dtype=float32)>, <tf.Tensor: shape=(4,), dtype=float32, numpy=array([0.01036558, 0.10026149, 0.02010643, 0.19942994], dtype=float32)>, <tf.Tensor: shape=(4,), dtype=float32, numpy=array([0.01036558, 0.10026149, 0.02010643, 0.19942994], dtype=float32)>, <tf.Tensor: shape=(4,), dtype=float32, numpy=array([0.01036558, 0.10026149, 0.02010643, 0.19942994], dtype=float32)>, <tf.Tensor: shape=(4,), dtype=float32, numpy=array([0.01036558, 0.10026149, 0.02010643, 0.19942994], dtype=float32)>, <tf.Tensor: shape=(4,), dtype=float32, numpy=array([0.01036558, 0.10026149, 0.02010643, 0.19942994], dtype=float32)>, <tf.Tensor: shape=(4,), dtype=float32, numpy=array([0.01036558, 0.10026149, 0.02010643, 0.19942994], dtype=float32)>, <tf.Tensor: shape=(4,), dtype=float32, numpy=array([0.01036558, 0.10026149, 0.02010643, 0.19942994], dtype=float32)>]\n",
      "\n",
      "len of batched_values:  13\n",
      "\n",
      "batched_mean_depol_amt_X:  0.010365579000000001\n",
      "\n",
      "batched_over_rotation_X:  0.10026149699999999\n",
      "\n",
      "batched_mean_depol_amt_Y:  0.020106427000000003\n",
      "\n",
      "batched_over_rotation_Y:  0.199429939\n",
      "average_mse_loss: 1.9668143067974597e-05\n",
      "average_kl_div_loss: 5.211877578403801e-05\n",
      "average_chi_square_loss: 0.003117546672001481\n",
      "average_log_L_losses: 16.115413665771484\n",
      "val_mse_losses: [1.4983211e-05, 1.9060253e-05, 9.636725e-06, 2.469448e-05, 2.6386055e-05, 2.4695397e-05, 2.7751345e-05, 1.152567e-05, 1.5054118e-05, 1.6130227e-05, 1.6959113e-05, 2.8342723e-05, 2.0466534e-05]\n",
      "val_kl_div_losses: [3.7645845e-05, 5.422312e-05, 3.2223623e-05, 6.811717e-05, 6.827531e-05, 6.2704305e-05, 7.511622e-05, 4.0586874e-05, 4.2008985e-05, 4.3789503e-05, 3.869435e-05, 6.7842564e-05, 4.6316254e-05]\n",
      "val_chi_square_losses: [<tf.Tensor: shape=(), dtype=float32, numpy=0.00225198>, <tf.Tensor: shape=(), dtype=float32, numpy=0.003249848>, <tf.Tensor: shape=(), dtype=float32, numpy=0.0019145301>, <tf.Tensor: shape=(), dtype=float32, numpy=0.004063377>, <tf.Tensor: shape=(), dtype=float32, numpy=0.004087479>, <tf.Tensor: shape=(), dtype=float32, numpy=0.0037633963>, <tf.Tensor: shape=(), dtype=float32, numpy=0.004486164>, <tf.Tensor: shape=(), dtype=float32, numpy=0.0024192247>, <tf.Tensor: shape=(), dtype=float32, numpy=0.002521942>, <tf.Tensor: shape=(), dtype=float32, numpy=0.0026129296>, <tf.Tensor: shape=(), dtype=float32, numpy=0.0023152162>, <tf.Tensor: shape=(), dtype=float32, numpy=0.0040701604>, <tf.Tensor: shape=(), dtype=float32, numpy=0.0027718595>]\n",
      "val_log_L_losses: [<tf.Tensor: shape=(), dtype=float32, numpy=14.625857>, <tf.Tensor: shape=(), dtype=float32, numpy=14.841085>, <tf.Tensor: shape=(), dtype=float32, numpy=15.444874>, <tf.Tensor: shape=(), dtype=float32, numpy=15.803987>, <tf.Tensor: shape=(), dtype=float32, numpy=16.142382>, <tf.Tensor: shape=(), dtype=float32, numpy=14.889969>, <tf.Tensor: shape=(), dtype=float32, numpy=17.673964>, <tf.Tensor: shape=(), dtype=float32, numpy=15.407005>, <tf.Tensor: shape=(), dtype=float32, numpy=15.608722>, <tf.Tensor: shape=(), dtype=float32, numpy=17.289526>, <tf.Tensor: shape=(), dtype=float32, numpy=18.14709>, <tf.Tensor: shape=(), dtype=float32, numpy=15.966652>, <tf.Tensor: shape=(), dtype=float32, numpy=17.65926>]\n"
     ]
    }
   ],
   "source": [
    "sample_and_evaluate_ground_truth(predicted_list_curriculum_learning)"
   ]
  },
  {
   "cell_type": "code",
   "execution_count": 61,
   "metadata": {
    "tags": []
   },
   "outputs": [
    {
     "name": "stdout",
     "output_type": "stream",
     "text": [
      "indices: [0, 1, 2, 3, 4, 5, 6, 7, 8, 9, 10, 11, 12]\n",
      "\n",
      "batched_values:  [<tf.Tensor: shape=(4,), dtype=float32, numpy=array([0.008, 0.11 , 0.018, 0.19 ], dtype=float32)>, <tf.Tensor: shape=(4,), dtype=float32, numpy=array([0.008, 0.11 , 0.018, 0.19 ], dtype=float32)>, <tf.Tensor: shape=(4,), dtype=float32, numpy=array([0.008, 0.11 , 0.018, 0.19 ], dtype=float32)>, <tf.Tensor: shape=(4,), dtype=float32, numpy=array([0.008, 0.11 , 0.018, 0.19 ], dtype=float32)>, <tf.Tensor: shape=(4,), dtype=float32, numpy=array([0.008, 0.11 , 0.018, 0.19 ], dtype=float32)>, <tf.Tensor: shape=(4,), dtype=float32, numpy=array([0.008, 0.11 , 0.018, 0.19 ], dtype=float32)>, <tf.Tensor: shape=(4,), dtype=float32, numpy=array([0.008, 0.11 , 0.018, 0.19 ], dtype=float32)>, <tf.Tensor: shape=(4,), dtype=float32, numpy=array([0.008, 0.11 , 0.018, 0.19 ], dtype=float32)>, <tf.Tensor: shape=(4,), dtype=float32, numpy=array([0.008, 0.11 , 0.018, 0.19 ], dtype=float32)>, <tf.Tensor: shape=(4,), dtype=float32, numpy=array([0.008, 0.11 , 0.018, 0.19 ], dtype=float32)>, <tf.Tensor: shape=(4,), dtype=float32, numpy=array([0.008, 0.11 , 0.018, 0.19 ], dtype=float32)>, <tf.Tensor: shape=(4,), dtype=float32, numpy=array([0.008, 0.11 , 0.018, 0.19 ], dtype=float32)>, <tf.Tensor: shape=(4,), dtype=float32, numpy=array([0.008, 0.11 , 0.018, 0.19 ], dtype=float32)>]\n",
      "\n",
      "len of batched_values:  13\n",
      "\n",
      "batched_mean_depol_amt_X:  0.008000000000000004\n",
      "\n",
      "batched_over_rotation_X:  0.11000000000000003\n",
      "\n",
      "batched_mean_depol_amt_Y:  0.017999999999999995\n",
      "\n",
      "batched_over_rotation_Y:  0.18999999999999997\n",
      "average_mse_loss: 0.00020947825396433473\n",
      "average_kl_div_loss: 0.0005885754362680018\n",
      "average_chi_square_loss: 0.036294400691986084\n",
      "average_log_L_losses: 16.131507873535156\n",
      "val_mse_losses: [2.1827003e-05, 7.005772e-05, 4.9804887e-05, 9.639822e-05, 0.0001486857, 0.00017131367, 0.00015553217, 0.00018829986, 0.00039272805, 0.00035919825, 0.00025792627, 0.00043097304, 0.00038047237]\n",
      "val_kl_div_losses: [7.875983e-05, 0.00022598798, 0.00016926932, 0.00024089514, 0.0004117955, 0.00052655616, 0.0005144132, 0.00048518, 0.0012537427, 0.0009784516, 0.00061147904, 0.001113059, 0.0010418913]\n",
      "val_chi_square_losses: [<tf.Tensor: shape=(), dtype=float32, numpy=0.004795667>, <tf.Tensor: shape=(), dtype=float32, numpy=0.013823127>, <tf.Tensor: shape=(), dtype=float32, numpy=0.010272949>, <tf.Tensor: shape=(), dtype=float32, numpy=0.014603142>, <tf.Tensor: shape=(), dtype=float32, numpy=0.025031693>, <tf.Tensor: shape=(), dtype=float32, numpy=0.031899925>, <tf.Tensor: shape=(), dtype=float32, numpy=0.03224441>, <tf.Tensor: shape=(), dtype=float32, numpy=0.029215993>, <tf.Tensor: shape=(), dtype=float32, numpy=0.079267435>, <tf.Tensor: shape=(), dtype=float32, numpy=0.060375057>, <tf.Tensor: shape=(), dtype=float32, numpy=0.037160147>, <tf.Tensor: shape=(), dtype=float32, numpy=0.068730146>, <tf.Tensor: shape=(), dtype=float32, numpy=0.06440752>]\n",
      "val_log_L_losses: [<tf.Tensor: shape=(), dtype=float32, numpy=14.62709>, <tf.Tensor: shape=(), dtype=float32, numpy=14.846238>, <tf.Tensor: shape=(), dtype=float32, numpy=15.448984>, <tf.Tensor: shape=(), dtype=float32, numpy=15.80917>, <tf.Tensor: shape=(), dtype=float32, numpy=16.152687>, <tf.Tensor: shape=(), dtype=float32, numpy=14.903884>, <tf.Tensor: shape=(), dtype=float32, numpy=17.687141>, <tf.Tensor: shape=(), dtype=float32, numpy=15.420343>, <tf.Tensor: shape=(), dtype=float32, numpy=15.645074>, <tf.Tensor: shape=(), dtype=float32, numpy=17.317568>, <tf.Tensor: shape=(), dtype=float32, numpy=18.164274>, <tf.Tensor: shape=(), dtype=float32, numpy=15.998009>, <tf.Tensor: shape=(), dtype=float32, numpy=17.689127>]\n"
     ]
    }
   ],
   "source": [
    "sample_and_evaluate_ground_truth(test_list)"
   ]
  },
  {
   "cell_type": "code",
   "execution_count": 45,
   "metadata": {
    "tags": []
   },
   "outputs": [],
   "source": [
    "def KL_test():\n",
    "    y_true = [[0., 1.], [0., 1.]]\n",
    "    y_pred = [[0.5, 0.5], [0., 1.]]\n",
    "    # Using 'auto'/'sum_over_batch_size' reduction type.\n",
    "    kl = tf.keras.losses.KLDivergence()\n",
    "    return kl(y_true, y_pred).numpy()"
   ]
  },
  {
   "cell_type": "code",
   "execution_count": 82,
   "metadata": {
    "tags": []
   },
   "outputs": [
    {
     "data": {
      "text/plain": [
       "0.34657282"
      ]
     },
     "execution_count": 82,
     "metadata": {},
     "output_type": "execute_result"
    }
   ],
   "source": [
    "KL_test()"
   ]
  },
  {
   "cell_type": "code",
   "execution_count": 67,
   "metadata": {
    "tags": []
   },
   "outputs": [],
   "source": [
    "def Chi_Square_Loss():\n",
    "    y_true = np.array([[0.1, 0.9], [0.2, 0.8], [0.3,0.7]])\n",
    "    y_pred = np.array([[0.5, 0.5], [0., 1.], [0.4, 0.6]])\n",
    "    Chi_Square = tf.math.square(y_pred-y_true)/y_true\n",
    "    Chi_Square = tf.math.reduce_sum(Chi_Square)\n",
    "    return Chi_Square"
   ]
  },
  {
   "cell_type": "code",
   "execution_count": 68,
   "metadata": {
    "tags": []
   },
   "outputs": [
    {
     "data": {
      "text/plain": [
       "<tf.Tensor: shape=(), dtype=float64, numpy=2.0753968253968256>"
      ]
     },
     "execution_count": 68,
     "metadata": {},
     "output_type": "execute_result"
    }
   ],
   "source": [
    "Chi_Square_Loss()"
   ]
  },
  {
   "cell_type": "code",
   "execution_count": null,
   "metadata": {
    "tags": []
   },
   "outputs": [],
   "source": [
    "custom_gate_set(0.01, 0.1, 0.01, 0.15)[0]"
   ]
  },
  {
   "cell_type": "code",
   "execution_count": null,
   "metadata": {
    "tags": []
   },
   "outputs": [],
   "source": [
    "custom_gate_set(0.0, 0.0, 0.0, 0.0)[0]"
   ]
  },
  {
   "cell_type": "code",
   "execution_count": null,
   "metadata": {
    "tags": []
   },
   "outputs": [],
   "source": [
    "debug_X_pi_gate = tf.linalg.matmul(custom_gate_set(0.0, 0.0, 0.0, 0.0)[0], custom_gate_set(0.0, 0.0, 0.0, 0.0)[0])"
   ]
  },
  {
   "cell_type": "code",
   "execution_count": null,
   "metadata": {
    "tags": []
   },
   "outputs": [],
   "source": [
    "debug_X_pi_gate"
   ]
  },
  {
   "cell_type": "code",
   "execution_count": null,
   "metadata": {
    "tags": []
   },
   "outputs": [],
   "source": [
    "debug_X_2pi_gate = tf.linalg.matmul(debug_X_pi_gate, debug_X_pi_gate)"
   ]
  },
  {
   "cell_type": "code",
   "execution_count": null,
   "metadata": {
    "tags": []
   },
   "outputs": [],
   "source": [
    "debug_X_2pi_gate"
   ]
  },
  {
   "cell_type": "code",
   "execution_count": null,
   "metadata": {
    "tags": []
   },
   "outputs": [],
   "source": [
    "np.linalg.norm(debug_X_2pi_gate - np.eye(4))"
   ]
  },
  {
   "cell_type": "code",
   "execution_count": null,
   "metadata": {
    "tags": []
   },
   "outputs": [],
   "source": [
    "debug_init_state_0 = tf.constant([1/math.sqrt(2), 0, 0, 1/math.sqrt(2)], dtype=tf.float32)"
   ]
  },
  {
   "cell_type": "code",
   "execution_count": null,
   "metadata": {
    "tags": []
   },
   "outputs": [],
   "source": [
    "debug_init_state_1 = tf.constant([1/math.sqrt(2), 0, 0, -1/math.sqrt(2)], dtype=tf.float32)"
   ]
  },
  {
   "cell_type": "code",
   "execution_count": null,
   "metadata": {
    "tags": []
   },
   "outputs": [],
   "source": [
    "debug_final_state = tf.linalg.matmul(custom_gate_set(0.01, 0.1, 0.01, 0.15)[0], tf.reshape(debug_init_state_0, [-1,1]))"
   ]
  },
  {
   "cell_type": "code",
   "execution_count": null,
   "metadata": {
    "tags": []
   },
   "outputs": [],
   "source": [
    "debug_final_state"
   ]
  },
  {
   "cell_type": "code",
   "execution_count": null,
   "metadata": {
    "tags": []
   },
   "outputs": [],
   "source": [
    "compute_probabilities(debug_final_state)"
   ]
  },
  {
   "cell_type": "code",
   "execution_count": null,
   "metadata": {
    "tags": []
   },
   "outputs": [],
   "source": [
    "debug_final_state_2 = tf.linalg.matmul(custom_gate_set(0.0, 0.0, 0.0, 0.0)[0], tf.reshape(debug_final_state, [-1,1]))"
   ]
  },
  {
   "cell_type": "code",
   "execution_count": null,
   "metadata": {
    "tags": []
   },
   "outputs": [],
   "source": [
    "compute_probabilities(debug_final_state_2)"
   ]
  },
  {
   "cell_type": "code",
   "execution_count": null,
   "metadata": {
    "tags": []
   },
   "outputs": [],
   "source": [
    "debug_init_state_0"
   ]
  },
  {
   "cell_type": "code",
   "execution_count": null,
   "metadata": {
    "tags": []
   },
   "outputs": [],
   "source": [
    "debug_init_outer_0 = np.outer(debug_init_state_0, debug_init_state_0)"
   ]
  },
  {
   "cell_type": "code",
   "execution_count": null,
   "metadata": {
    "tags": []
   },
   "outputs": [],
   "source": [
    "debug_init_outer_1 = np.outer(debug_init_state_1, debug_init_state_1)"
   ]
  },
  {
   "cell_type": "code",
   "execution_count": null,
   "metadata": {
    "tags": []
   },
   "outputs": [],
   "source": [
    "debug_final_outer = tf.linalg.matmul(custom_gate_set(0.01, 0.1, 0.01, 0.15)[0], debug_init_outer_0)"
   ]
  },
  {
   "cell_type": "code",
   "execution_count": null,
   "metadata": {
    "tags": []
   },
   "outputs": [],
   "source": [
    "debug_final_outer"
   ]
  },
  {
   "cell_type": "code",
   "execution_count": null,
   "metadata": {
    "tags": []
   },
   "outputs": [],
   "source": [
    "np.trace(tf.linalg.matmul(debug_final_outer, debug_init_outer_0))"
   ]
  },
  {
   "cell_type": "code",
   "execution_count": null,
   "metadata": {
    "tags": []
   },
   "outputs": [],
   "source": [
    "np.dot(np.squeeze(debug_final_state), debug_init_state_0)"
   ]
  },
  {
   "cell_type": "code",
   "execution_count": null,
   "metadata": {
    "tags": []
   },
   "outputs": [],
   "source": [
    "np.dot(np.squeeze(debug_final_state), debug_init_state_1)"
   ]
  },
  {
   "cell_type": "code",
   "execution_count": null,
   "metadata": {
    "tags": []
   },
   "outputs": [],
   "source": [
    "tf.reduce_sum(np.squeeze(debug_final_state)*debug_init_state_0, axis=-1)"
   ]
  },
  {
   "cell_type": "code",
   "execution_count": null,
   "metadata": {
    "tags": []
   },
   "outputs": [],
   "source": [
    "tf.reduce_sum(np.squeeze(debug_final_state)*debug_init_state_1, axis=-1)"
   ]
  },
  {
   "cell_type": "code",
   "execution_count": null,
   "metadata": {
    "tags": []
   },
   "outputs": [],
   "source": [
    "tf.linalg.l2_normalize(tf.constant([1,0,0,1], dtype=tf.float32)) - debug_init_state_0"
   ]
  },
  {
   "cell_type": "code",
   "execution_count": null,
   "metadata": {
    "tags": []
   },
   "outputs": [],
   "source": [
    "np.linalg.norm(debug_final_state)"
   ]
  },
  {
   "cell_type": "code",
   "execution_count": null,
   "metadata": {
    "tags": []
   },
   "outputs": [],
   "source": [
    "sample_and_evaluate_ground_truth(ground_truth_list)"
   ]
  },
  {
   "cell_type": "code",
   "execution_count": null,
   "metadata": {
    "tags": []
   },
   "outputs": [],
   "source": [
    "y_train_grouped[0]"
   ]
  },
  {
   "cell_type": "code",
   "execution_count": null,
   "metadata": {
    "tags": []
   },
   "outputs": [],
   "source": [
    "X_train_0_grouped[0]"
   ]
  },
  {
   "cell_type": "code",
   "execution_count": null,
   "metadata": {
    "colab": {
     "base_uri": "https://localhost:8080/"
    },
    "id": "fCP-Ov4QcTyl",
    "outputId": "82feba0f-61ce-4c1e-a2ab-e6ca7c2d3d37"
   },
   "outputs": [],
   "source": [
    "tf.shape(X_train)[0]"
   ]
  },
  {
   "cell_type": "code",
   "execution_count": null,
   "metadata": {
    "id": "Jw0N66NJk3IN"
   },
   "outputs": [],
   "source": [
    "test_vector = np.array(\n",
    "    [[ 0.70710677],\n",
    "     [-0.7064972 ],\n",
    "     [ 0.        ],\n",
    "     [-0.02935636]], dtype=np.float32)"
   ]
  },
  {
   "cell_type": "code",
   "execution_count": null,
   "metadata": {
    "colab": {
     "base_uri": "https://localhost:8080/"
    },
    "id": "Zp_bRrqOlnbm",
    "outputId": "b2cfafa3-bc67-4983-d253-52fa87ddaeb7"
   },
   "outputs": [],
   "source": [
    "test_vector.shape"
   ]
  },
  {
   "cell_type": "code",
   "execution_count": null,
   "metadata": {
    "colab": {
     "base_uri": "https://localhost:8080/"
    },
    "id": "LacrNsyblsfq",
    "outputId": "a81f37b0-73b8-4afb-b3d7-e897e6889fe5"
   },
   "outputs": [],
   "source": [
    "tf.squeeze(test_vector).shape"
   ]
  },
  {
   "cell_type": "code",
   "execution_count": null,
   "metadata": {
    "colab": {
     "base_uri": "https://localhost:8080/"
    },
    "id": "lmMaS4Crkokb",
    "outputId": "15ccd2cd-df57-40f9-b457-a5828f2f5e9e"
   },
   "outputs": [],
   "source": [
    "compute_probabilities(tf.constant([1, 0, 0, 1], dtype=tf.float32))"
   ]
  },
  {
   "cell_type": "code",
   "execution_count": null,
   "metadata": {
    "colab": {
     "base_uri": "https://localhost:8080/"
    },
    "id": "dTnDDEUNkbg-",
    "outputId": "a2706368-ea03-42a4-d950-faad34fa70b2"
   },
   "outputs": [],
   "source": [
    "compute_probabilities(tf.constant([1, 0, 0, -1], dtype=tf.float32))"
   ]
  },
  {
   "cell_type": "code",
   "execution_count": null,
   "metadata": {
    "id": "ASCr3ie5SjJN"
   },
   "outputs": [],
   "source": [
    "# for i in range (tf.shape(X_train[:1])[0]):\n",
    "#   single_sequence = tf.gather(X_train, i, axis=0)\n",
    "#   print('single_sequence: ', single_sequence)\n",
    "#   final_state = apply_gate_sequence(single_sequence)\n",
    "#   print('final_state: ', final_state)\n",
    "#   probabilities = compute_probabilities(final_state)\n",
    "#   print('probabilities: ',probabilities )"
   ]
  },
  {
   "cell_type": "code",
   "execution_count": null,
   "metadata": {
    "colab": {
     "base_uri": "https://localhost:8080/"
    },
    "id": "bF4T9A-dOFuD",
    "outputId": "492d9a19-85de-4169-f308-73d24b015811"
   },
   "outputs": [],
   "source": [
    "len(X_train[0])"
   ]
  },
  {
   "cell_type": "code",
   "execution_count": null,
   "metadata": {
    "id": "7EpcfNO0PMaL"
   },
   "outputs": [],
   "source": [
    "debug = tf.convert_to_tensor([[1, 0, 0, 0], [0, tf.math.cos(0.5), 0, tf.math.sin(0.5)],\n",
    "                           [0, 0, 1, 0], [0, -tf.math.sin(0.5), 0, tf.math.cos(0.5)]], dtype=tf.float32)"
   ]
  },
  {
   "cell_type": "code",
   "execution_count": null,
   "metadata": {
    "colab": {
     "base_uri": "https://localhost:8080/"
    },
    "id": "DNKTrgdkRHhi",
    "outputId": "7f3f7c76-53de-476b-c10c-9999a25d3189"
   },
   "outputs": [],
   "source": [
    "debug"
   ]
  }
 ],
 "metadata": {
  "colab": {
   "provenance": []
  },
  "kernelspec": {
   "display_name": "Python 3 (ipykernel)",
   "language": "python",
   "name": "python3"
  },
  "language_info": {
   "codemirror_mode": {
    "name": "ipython",
    "version": 3
   },
   "file_extension": ".py",
   "mimetype": "text/x-python",
   "name": "python",
   "nbconvert_exporter": "python",
   "pygments_lexer": "ipython3",
   "version": "3.11.5"
  },
  "toc-autonumbering": true
 },
 "nbformat": 4,
 "nbformat_minor": 4
}
