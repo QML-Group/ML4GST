{
 "cells": [
  {
   "cell_type": "code",
   "execution_count": null,
   "metadata": {
    "colab": {
     "base_uri": "https://localhost:8080/"
    },
    "id": "Zd1H8cDcvaHr",
    "outputId": "f39b22da-e568-4310-c94a-93de13ab5e55"
   },
   "outputs": [
    {
     "name": "stdout",
     "output_type": "stream",
     "text": [
      "Mounted at /content/drive\n"
     ]
    }
   ],
   "source": [
    "# Google Colab specific code for mounting Google Drive\n",
    "from google.colab import drive\n",
    "drive.mount('/content/drive', force_remount=True)\n",
    "\n",
    "# # Define the directory path on your Google Drive\n",
    "# # Replace 'Your_directory' with the actual directory\n",
    "# directory = '/content/drive/My Drive/Colab Notebooks/ML4GST/'\n",
    "\n",
    "# # Now use this directory for reading and writing data\n",
    "# data_template_filename = directory + \"dataset.txt\"\n",
    "# gst_dir = directory + \"test_gst_dir\""
   ]
  },
  {
   "cell_type": "code",
   "execution_count": 1,
   "metadata": {
    "tags": []
   },
   "outputs": [],
   "source": [
    "import os"
   ]
  },
  {
   "cell_type": "code",
   "execution_count": 2,
   "metadata": {
    "colab": {
     "base_uri": "https://localhost:8080/"
    },
    "id": "0RJyTecyWOVa",
    "outputId": "852b7777-2a72-44cb-8d44-81a04f25f58d",
    "tags": []
   },
   "outputs": [
    {
     "name": "stdout",
     "output_type": "stream",
     "text": [
      "Current working directory: C:\\Users\\ULTIMATEWOWEE\\Documents\\ML4GST\n"
     ]
    }
   ],
   "source": [
    "# Change the working directory to the desired path\n",
    "os.chdir(r\"C:\\Users\\ULTIMATEWOWEE\\Documents\\ML4GST\")\n",
    "\n",
    "# Verify that the working directory has been changed\n",
    "print(\"Current working directory:\", os.getcwd())\n"
   ]
  },
  {
   "cell_type": "code",
   "execution_count": null,
   "metadata": {
    "colab": {
     "base_uri": "https://localhost:8080/"
    },
    "id": "vDzCiN2Ru6ky",
    "outputId": "b076112b-7037-4547-e000-9d17dd4d693a"
   },
   "outputs": [
    {
     "name": "stdout",
     "output_type": "stream",
     "text": [
      "Collecting pygsti\n",
      "  Downloading pyGSTi-0.9.11.2-cp310-cp310-manylinux_2_12_x86_64.manylinux2010_x86_64.whl (17.2 MB)\n",
      "\u001b[2K     \u001b[90m━━━━━━━━━━━━━━━━━━━━━━━━━━━━━━━━━━━━━━━━\u001b[0m \u001b[32m17.2/17.2 MB\u001b[0m \u001b[31m37.0 MB/s\u001b[0m eta \u001b[36m0:00:00\u001b[0m\n",
      "\u001b[?25hRequirement already satisfied: numpy>=1.15.0 in /usr/local/lib/python3.10/dist-packages (from pygsti) (1.23.5)\n",
      "Requirement already satisfied: scipy in /usr/local/lib/python3.10/dist-packages (from pygsti) (1.10.1)\n",
      "Requirement already satisfied: plotly in /usr/local/lib/python3.10/dist-packages (from pygsti) (5.15.0)\n",
      "Requirement already satisfied: pandas in /usr/local/lib/python3.10/dist-packages (from pygsti) (1.5.3)\n",
      "Requirement already satisfied: python-dateutil>=2.8.1 in /usr/local/lib/python3.10/dist-packages (from pandas->pygsti) (2.8.2)\n",
      "Requirement already satisfied: pytz>=2020.1 in /usr/local/lib/python3.10/dist-packages (from pandas->pygsti) (2023.3)\n",
      "Requirement already satisfied: tenacity>=6.2.0 in /usr/local/lib/python3.10/dist-packages (from plotly->pygsti) (8.2.2)\n",
      "Requirement already satisfied: packaging in /usr/local/lib/python3.10/dist-packages (from plotly->pygsti) (23.1)\n",
      "Requirement already satisfied: six>=1.5 in /usr/local/lib/python3.10/dist-packages (from python-dateutil>=2.8.1->pandas->pygsti) (1.16.0)\n",
      "Installing collected packages: pygsti\n",
      "Successfully installed pygsti-0.9.11.2\n"
     ]
    }
   ],
   "source": [
    "pip install pygsti"
   ]
  },
  {
   "cell_type": "code",
   "execution_count": null,
   "metadata": {
    "colab": {
     "base_uri": "https://localhost:8080/"
    },
    "id": "ZLOeLti-u9tg",
    "outputId": "47bc21b0-1ba7-43cf-cbf0-7c8900b75490"
   },
   "outputs": [
    {
     "name": "stdout",
     "output_type": "stream",
     "text": [
      "target_model: \n",
      " rho0 = FullState with dimension 4\n",
      " 0.71   0   0 0.71\n",
      "\n",
      "\n",
      "Mdefault = UnconstrainedPOVM with effect vectors:\n",
      "0: FullPOVMEffect with dimension 4\n",
      " 0.71   0   0 0.71\n",
      "\n",
      "1: FullPOVMEffect with dimension 4\n",
      " 0.71   0   0-0.71\n",
      "\n",
      "\n",
      "\n",
      "Gi = \n",
      "FullArbitraryOp with shape (4, 4)\n",
      " 1.00   0   0   0\n",
      "   0 1.00   0   0\n",
      "   0   0 1.00   0\n",
      "   0   0   0 1.00\n",
      "\n",
      "\n",
      "Gx = \n",
      "MyXPi2Operator with shape (4, 4)\n",
      " 1.00   0   0   0\n",
      "   0 1.00   0   0\n",
      "   0   0-0.63-0.77\n",
      "   0   0 0.77-0.63\n",
      "\n",
      "\n",
      "Gy = \n",
      "FullArbitraryOp with shape (4, 4)\n",
      " 1.00   0   0   0\n",
      "   0   0   0 1.00\n",
      "   0   0 1.00   0\n",
      "   0-1.00   0   0\n",
      "\n",
      "\n",
      "\n",
      "\n",
      "ideal_target_model: \n",
      " rho0 = FullState with dimension 4\n",
      " 0.71   0   0 0.71\n",
      "\n",
      "\n",
      "Mdefault = UnconstrainedPOVM with effect vectors:\n",
      "0: FullPOVMEffect with dimension 4\n",
      " 0.71   0   0 0.71\n",
      "\n",
      "1: FullPOVMEffect with dimension 4\n",
      " 0.71   0   0-0.71\n",
      "\n",
      "\n",
      "\n",
      "Gi = \n",
      "FullArbitraryOp with shape (4, 4)\n",
      " 1.00   0   0   0\n",
      "   0 1.00   0   0\n",
      "   0   0 1.00   0\n",
      "   0   0   0 1.00\n",
      "\n",
      "\n",
      "Gx = \n",
      "FullArbitraryOp with shape (4, 4)\n",
      " 1.00   0   0   0\n",
      "   0 1.00   0   0\n",
      "   0   0 0.71-0.71\n",
      "   0   0 0.71 0.71\n",
      "\n",
      "\n",
      "Gy = \n",
      "FullArbitraryOp with shape (4, 4)\n",
      " 1.00   0   0   0\n",
      "   0   0   0 1.00\n",
      "   0   0 1.00   0\n",
      "   0-1.00   0   0\n",
      "\n",
      "\n",
      "\n",
      "\n"
     ]
    }
   ],
   "source": [
    "import pygsti\n",
    "import pygsti.algorithms.fiducialselection as fidsel\n",
    "import pygsti.algorithms.germselection as germsel\n",
    "import numpy as np\n",
    "import pandas as pd\n",
    "\n",
    "# Define the Pauli Transfer Matrices for the gates\n",
    "# I = np.array([[1, 0, 0, 0], [0, 1, 0, 0], [0, 0, 1, 0], [0, 0, 0, 1]])\n",
    "# X_pi_4 = np.array([[1, 0, 0, 0], [0, 1, 0, 0], [0, 0, np.cos(np.pi/4), -np.sin(np.pi/4)], [0, 0, np.sin(np.pi/4), np.cos(np.pi/4)]])\n",
    "# Y_pi_2 = np.array([[1, 0, 0, 0], [0, np.cos(np.pi/2), 0, np.sin(np.pi/2)], [0, 0, 1, 0], [0, -np.sin(np.pi/2), 0, np.cos(np.pi/2)]])\n",
    "\n",
    "# Create the explicit model\n",
    "ideal_target_model = pygsti.models.create_explicit_model_from_expressions(\n",
    "    [('Q0',)], ['Gi', 'Gx', 'Gy'],\n",
    "    [\"I(Q0)\", \"X(pi/4,Q0)\", \"Y(pi/2,Q0)\"])\n",
    "\n",
    "class MyXPi2Operator(pygsti.modelmembers.operations.DenseOperator):\n",
    "    def __init__(self):\n",
    "        #initialize with no noise\n",
    "        super(MyXPi2Operator,self).__init__(np.identity(4,'d'), 'pp', \"densitymx\") # this is *super*-operator, so \"densitymx\"\n",
    "        self.from_vector([0.0, 0.1])\n",
    "\n",
    "    @property\n",
    "    def num_params(self):\n",
    "        return 2 # we have two parameters\n",
    "\n",
    "    def to_vector(self):\n",
    "        return np.array([self.depol_amt, self.over_rotation],'d') #our parameter vector\n",
    "\n",
    "    def from_vector(self, v, close=False, dirty_value=True):\n",
    "        #initialize from parameter vector v\n",
    "        self.depol_amt = v[0]\n",
    "        self.over_rotation = v[1]\n",
    "\n",
    "        # print(f'depol_amt: {self.depol_amt}, over_rotation: {self.over_rotation}')\n",
    "\n",
    "        theta = (np.pi/4 + self.over_rotation)/2\n",
    "        a = 1.0-self.depol_amt\n",
    "        b = a*2*np.cos(theta)*np.sin(theta)\n",
    "        c = a*(np.sin(theta)**2 - np.cos(theta)**2)\n",
    "\n",
    "        # print(f'a: {a}, b: {b}, c: {c}')\n",
    "\n",
    "        # ._ptr is a member of DenseOperator and is a numpy array that is\n",
    "        # the dense Pauli transfer matrix of this operator\n",
    "        # Technical note: use [:,:] instead of direct assignment so id of self._ptr doesn't change\n",
    "        self._ptr[:,:] = np.array([[1,   0,   0,   0],\n",
    "                                  [0,   a,   0,   0],\n",
    "                                  [0,   0,   c,  -b],\n",
    "                                  [0,   0,   b,   c]],'d')\n",
    "        self.dirty = dirty_value  # mark that parameter vector may have changed\n",
    "\n",
    "    def transform(self, S):\n",
    "        # Update self with inverse(S) * self * S (used in gauge optimization)\n",
    "        raise NotImplementedError(\"MyXPi2Operator cannot be transformed!\")\n",
    "\n",
    "import copy\n",
    "target_model = copy.deepcopy(ideal_target_model)\n",
    "target_model.operations[('Gx')] = MyXPi2Operator()\n",
    "print('target_model: \\n', target_model)\n",
    "print('ideal_target_model: \\n', ideal_target_model)\n",
    "\n"
   ]
  },
  {
   "cell_type": "code",
   "execution_count": null,
   "metadata": {
    "colab": {
     "base_uri": "https://localhost:8080/"
    },
    "id": "F4rvB8JHcipz",
    "outputId": "0c701123-b036-447b-af62-279e54d5acf6"
   },
   "outputs": [
    {
     "name": "stdout",
     "output_type": "stream",
     "text": [
      "Initial Length Available Fiducial List: 7\n",
      "Length Available Fiducial List Dropped Identities and Duplicates: 7\n",
      "Using GRASP algorithm.\n",
      "Preparation fiducials:\n",
      "['{}', 'Gy', 'GxGx', 'GyGy']\n",
      "Score: 32.0\n",
      "Measurement fiducials:\n",
      "['{}', 'Gy', 'GxGx']\n",
      "Score: 9.999999999999996\n",
      "Initial Length Available Germ List: 196\n",
      "Length Available Germ List After Deduping: 59\n",
      "Length Available Germ List After Dropping Random Fraction: 59\n",
      "Length Available Germ List After Adding Back In Forced Germs: 59\n",
      "Memory estimate of 0.0 GB for all-Jac mode.\n",
      "Memory estimate of 0.0 GB for single-Jac mode.\n",
      "Using greedy algorithm.\n",
      "Constructed germ set:\n",
      "['Gi', 'Gx', 'Gy', 'GxGxGy', 'GiGxGx', 'GiGyGx', 'GiGyGxGxGyGy', 'GiGyGyGyGxGx', 'GxGxGyGxGyGy', 'GiGxGyGyGyGx']\n",
      "Score: major=-34.0 minor=711.6500383006758, N: 34\n"
     ]
    }
   ],
   "source": [
    "# Automatic selection of fiducials and germs using \"laissez-faire\" method\n",
    "prepFiducials, measFiducials = fidsel.find_fiducials(ideal_target_model)\n",
    "germs = germsel.find_germs(ideal_target_model, seed = 1234)"
   ]
  },
  {
   "cell_type": "code",
   "execution_count": null,
   "metadata": {
    "colab": {
     "base_uri": "https://localhost:8080/"
    },
    "id": "Dtc8CpOEjL9R",
    "outputId": "8756bd8b-a691-4584-dc0b-cf94e1fa20a8"
   },
   "outputs": [
    {
     "name": "stdout",
     "output_type": "stream",
     "text": [
      "prepFiducials: [Circuit({}), Circuit(Gy), Circuit(GxGx), Circuit(GyGy)] \n",
      " measFiducials: [Circuit({}), Circuit(Gy), Circuit(GxGx)] \n",
      " germs: [Circuit(Gi), Circuit(Gx), Circuit(Gy), Circuit(GxGxGy), Circuit(GiGxGx), Circuit(GiGyGx), Circuit(GiGyGxGxGyGy), Circuit(GiGyGyGyGxGx), Circuit(GxGxGyGxGyGy), Circuit(GiGxGyGyGyGx)]\n"
     ]
    }
   ],
   "source": [
    "print(f'prepFiducials: {prepFiducials} \\n measFiducials: {measFiducials} \\n germs: {germs}')"
   ]
  },
  {
   "cell_type": "code",
   "execution_count": null,
   "metadata": {
    "id": "uI80q6AIip7Z"
   },
   "outputs": [],
   "source": [
    "# Generate a list of circuits using the long-sequence gate set tomography (LSGST) method\n",
    "maxLengths = [2**n for n in range(5)]\n",
    "\n",
    "listOfExperiments = pygsti.circuits.create_lsgst_circuits(\n",
    "    target_model, prepFiducials, measFiducials, germs, maxLengths)\n",
    "\n",
    "# Simulate the probability outcomes of these circuits\n",
    "ds = pygsti.data.simulate_data(target_model, listOfExperiments, num_samples=1000,\n",
    "                                            sample_error=\"binomial\", seed=1234)\n",
    "# print(ds)\n",
    "\n",
    "pygsti.io.write_dataset(\"Custom_1Q_XYI_dataset_abc.txt\", ds, outcome_label_order=['0','1'])\n",
    "\n",
    "# Convert the probabilities to a DataFrame and save to a CSV file"
   ]
  },
  {
   "cell_type": "code",
   "execution_count": 3,
   "metadata": {
    "id": "6XTVMibkMAOZ",
    "tags": []
   },
   "outputs": [],
   "source": [
    "import math\n",
    "import numpy as np\n",
    "import pandas as pd\n",
    "import tensorflow as tf\n",
    "from tensorflow.keras.models import Sequential\n",
    "from tensorflow.keras.layers import Dense, Lambda\n",
    "from tensorflow.keras.layers import Input\n",
    "from tensorflow.keras.layers import Concatenate\n",
    "from tensorflow.keras.models import Model\n",
    "from sklearn.model_selection import train_test_split\n",
    "from tensorflow.keras.losses import MeanSquaredError\n",
    "from tensorflow.keras.optimizers import Adam\n",
    "\n",
    "# Load the sorted data directly from the modified CSV\n",
    "df_sorted = pd.read_csv('Sorted_Encoded_Padded_Probabilities.csv')\n",
    "\n",
    "def prepare_data(df_part):\n",
    "    # Extracting features and labels\n",
    "    X = df_part['Padded'].apply(lambda x: [int(xi) for xi in x.strip('[]').split()]).to_list()\n",
    "    y = df_part[['Prob1', 'Prob2']].values\n",
    "\n",
    "    # Convert to numpy arrays\n",
    "    X = np.array(X)\n",
    "    y = np.array(y)\n",
    "\n",
    "    return X, y\n",
    "\n",
    "X, y = prepare_data(df_sorted)\n",
    "\n",
    "# Create new input data\n",
    "X_new = [X, y]\n",
    "\n",
    "# Split the original input (X[0]) and target labels (y) into training and test sets\n",
    "X_train_0, X_test_0, y_train, y_test = train_test_split(X_new[0], y, test_size=0.2, random_state=42)\n",
    "\n",
    "# Manually combine the split y labels into the X data\n",
    "X_train = [np.array(X_train_0), np.array(y_train)]\n",
    "X_test = [np.array(X_test_0), np.array(y_test)]\n",
    "\n",
    "# Convert y data to numpy arrays\n",
    "y_train = np.array(y_train)\n",
    "y_test = np.array(y_test)\n",
    "\n"
   ]
  },
  {
   "cell_type": "code",
   "execution_count": null,
   "metadata": {
    "colab": {
     "base_uri": "https://localhost:8080/"
    },
    "id": "ss1P_yEzuKGa",
    "outputId": "6199d20f-8891-4233-92f3-5354befe8b7c"
   },
   "outputs": [
    {
     "data": {
      "text/plain": [
       "array([[2, 2, 2, ..., 0, 0, 0],\n",
       "       [2, 1, 0, ..., 0, 0, 0],\n",
       "       [3, 2, 2, ..., 0, 0, 0],\n",
       "       ...,\n",
       "       [2, 3, 2, ..., 0, 0, 0],\n",
       "       [2, 2, 3, ..., 0, 0, 0],\n",
       "       [2, 1, 1, ..., 0, 0, 0]])"
      ]
     },
     "execution_count": 28,
     "metadata": {},
     "output_type": "execute_result"
    }
   ],
   "source": [
    "X_train[0]"
   ]
  },
  {
   "cell_type": "code",
   "execution_count": null,
   "metadata": {
    "colab": {
     "base_uri": "https://localhost:8080/"
    },
    "id": "nmZRwn4eppiP",
    "outputId": "1ed37778-bdb8-42e1-9430-64e1b630affc"
   },
   "outputs": [
    {
     "data": {
      "text/plain": [
       "array([2, 2, 2, 2, 2, 2, 2, 0, 0, 0, 0, 0, 0, 0, 0, 0, 0, 0, 0, 0])"
      ]
     },
     "execution_count": 27,
     "metadata": {},
     "output_type": "execute_result"
    }
   ],
   "source": [
    "X_train[0][0]"
   ]
  },
  {
   "cell_type": "code",
   "execution_count": null,
   "metadata": {
    "colab": {
     "base_uri": "https://localhost:8080/"
    },
    "id": "eHAjtNHVuG-R",
    "outputId": "6be485e2-ec20-4707-e0db-e20efb7eb40d"
   },
   "outputs": [
    {
     "data": {
      "text/plain": [
       "array([[0.49 , 0.51 ],\n",
       "       [0.492, 0.508],\n",
       "       [0.526, 0.474],\n",
       "       [0.227, 0.773],\n",
       "       [0.   , 1.   ],\n",
       "       [0.922, 0.078],\n",
       "       [0.513, 0.487],\n",
       "       [0.519, 0.481],\n",
       "       [0.501, 0.499],\n",
       "       [0.715, 0.285],\n",
       "       [0.474, 0.526],\n",
       "       [0.969, 0.031],\n",
       "       [0.41 , 0.59 ],\n",
       "       [0.508, 0.492],\n",
       "       [0.519, 0.481],\n",
       "       [0.586, 0.414],\n",
       "       [0.95 , 0.05 ],\n",
       "       [0.498, 0.502],\n",
       "       [0.491, 0.509],\n",
       "       [0.644, 0.356],\n",
       "       [0.475, 0.525],\n",
       "       [0.491, 0.509],\n",
       "       [0.594, 0.406],\n",
       "       [0.294, 0.706],\n",
       "       [0.668, 0.332],\n",
       "       [1.   , 0.   ],\n",
       "       [0.525, 0.475],\n",
       "       [0.5  , 0.5  ],\n",
       "       [0.403, 0.597],\n",
       "       [0.   , 1.   ],\n",
       "       [0.501, 0.499],\n",
       "       [0.418, 0.582],\n",
       "       [0.511, 0.489],\n",
       "       [0.323, 0.677],\n",
       "       [0.   , 1.   ],\n",
       "       [0.383, 0.617],\n",
       "       [0.037, 0.963],\n",
       "       [0.983, 0.017],\n",
       "       [0.821, 0.179],\n",
       "       [0.036, 0.964],\n",
       "       [1.   , 0.   ],\n",
       "       [0.052, 0.948],\n",
       "       [0.486, 0.514],\n",
       "       [0.173, 0.827],\n",
       "       [0.466, 0.534],\n",
       "       [0.509, 0.491],\n",
       "       [0.103, 0.897],\n",
       "       [0.287, 0.713],\n",
       "       [0.835, 0.165],\n",
       "       [0.   , 1.   ],\n",
       "       [0.494, 0.506],\n",
       "       [0.894, 0.106],\n",
       "       [0.   , 1.   ],\n",
       "       [0.01 , 0.99 ],\n",
       "       [0.525, 0.475],\n",
       "       [0.485, 0.515],\n",
       "       [0.489, 0.511],\n",
       "       [0.579, 0.421],\n",
       "       [0.429, 0.571],\n",
       "       [0.48 , 0.52 ],\n",
       "       [0.481, 0.519],\n",
       "       [0.554, 0.446],\n",
       "       [0.493, 0.507],\n",
       "       [0.593, 0.407],\n",
       "       [0.937, 0.063],\n",
       "       [0.492, 0.508],\n",
       "       [0.034, 0.966],\n",
       "       [0.931, 0.069],\n",
       "       [1.   , 0.   ],\n",
       "       [0.754, 0.246],\n",
       "       [0.38 , 0.62 ],\n",
       "       [0.516, 0.484],\n",
       "       [0.386, 0.614],\n",
       "       [0.384, 0.616],\n",
       "       [0.512, 0.488],\n",
       "       [0.893, 0.107],\n",
       "       [0.517, 0.483],\n",
       "       [0.116, 0.884],\n",
       "       [0.346, 0.654],\n",
       "       [0.521, 0.479],\n",
       "       [0.778, 0.222],\n",
       "       [0.402, 0.598],\n",
       "       [0.396, 0.604],\n",
       "       [0.388, 0.612],\n",
       "       [0.326, 0.674],\n",
       "       [0.017, 0.983],\n",
       "       [0.504, 0.496],\n",
       "       [0.972, 0.028],\n",
       "       [0.271, 0.729],\n",
       "       [0.497, 0.503],\n",
       "       [0.517, 0.483],\n",
       "       [0.476, 0.524],\n",
       "       [0.829, 0.171],\n",
       "       [0.785, 0.215],\n",
       "       [0.602, 0.398],\n",
       "       [0.486, 0.514],\n",
       "       [0.598, 0.402],\n",
       "       [0.818, 0.182],\n",
       "       [0.51 , 0.49 ],\n",
       "       [0.398, 0.602],\n",
       "       [0.87 , 0.13 ],\n",
       "       [0.667, 0.333],\n",
       "       [0.533, 0.467],\n",
       "       [0.406, 0.594],\n",
       "       [0.606, 0.394],\n",
       "       [0.684, 0.316],\n",
       "       [0.48 , 0.52 ],\n",
       "       [0.   , 1.   ],\n",
       "       [0.34 , 0.66 ],\n",
       "       [0.04 , 0.96 ],\n",
       "       [0.491, 0.509],\n",
       "       [1.   , 0.   ],\n",
       "       [0.2  , 0.8  ],\n",
       "       [0.406, 0.594],\n",
       "       [0.67 , 0.33 ],\n",
       "       [0.523, 0.477],\n",
       "       [0.   , 1.   ],\n",
       "       [0.421, 0.579],\n",
       "       [0.79 , 0.21 ],\n",
       "       [0.581, 0.419],\n",
       "       [1.   , 0.   ],\n",
       "       [0.593, 0.407],\n",
       "       [1.   , 0.   ],\n",
       "       [0.52 , 0.48 ],\n",
       "       [0.124, 0.876],\n",
       "       [0.481, 0.519],\n",
       "       [0.532, 0.468],\n",
       "       [0.67 , 0.33 ],\n",
       "       [0.409, 0.591],\n",
       "       [0.496, 0.504],\n",
       "       [0.   , 1.   ],\n",
       "       [0.967, 0.033],\n",
       "       [0.081, 0.919],\n",
       "       [0.427, 0.573],\n",
       "       [0.342, 0.658],\n",
       "       [0.189, 0.811],\n",
       "       [0.39 , 0.61 ],\n",
       "       [0.   , 1.   ],\n",
       "       [0.484, 0.516],\n",
       "       [0.   , 1.   ],\n",
       "       [1.   , 0.   ],\n",
       "       [0.512, 0.488],\n",
       "       [0.409, 0.591],\n",
       "       [0.529, 0.471],\n",
       "       [0.322, 0.678],\n",
       "       [0.483, 0.517],\n",
       "       [1.   , 0.   ],\n",
       "       [0.716, 0.284],\n",
       "       [0.49 , 0.51 ],\n",
       "       [0.08 , 0.92 ],\n",
       "       [0.321, 0.679],\n",
       "       [0.513, 0.487],\n",
       "       [1.   , 0.   ],\n",
       "       [0.184, 0.816],\n",
       "       [0.435, 0.565],\n",
       "       [0.338, 0.662],\n",
       "       [1.   , 0.   ],\n",
       "       [0.472, 0.528],\n",
       "       [0.875, 0.125],\n",
       "       [0.494, 0.506],\n",
       "       [1.   , 0.   ],\n",
       "       [0.485, 0.515],\n",
       "       [0.007, 0.993],\n",
       "       [0.412, 0.588],\n",
       "       [0.919, 0.081],\n",
       "       [0.506, 0.494],\n",
       "       [0.631, 0.369],\n",
       "       [0.398, 0.602],\n",
       "       [0.993, 0.007],\n",
       "       [0.036, 0.964],\n",
       "       [0.496, 0.504],\n",
       "       [0.49 , 0.51 ],\n",
       "       [0.03 , 0.97 ],\n",
       "       [0.47 , 0.53 ],\n",
       "       [0.042, 0.958],\n",
       "       [0.517, 0.483],\n",
       "       [0.509, 0.491],\n",
       "       [0.223, 0.777],\n",
       "       [0.8  , 0.2  ],\n",
       "       [0.   , 1.   ],\n",
       "       [0.484, 0.516],\n",
       "       [0.917, 0.083],\n",
       "       [0.   , 1.   ],\n",
       "       [0.983, 0.017],\n",
       "       [0.941, 0.059],\n",
       "       [0.   , 1.   ],\n",
       "       [0.   , 1.   ],\n",
       "       [0.04 , 0.96 ],\n",
       "       [0.877, 0.123],\n",
       "       [0.03 , 0.97 ],\n",
       "       [0.32 , 0.68 ],\n",
       "       [0.499, 0.501],\n",
       "       [0.039, 0.961],\n",
       "       [0.5  , 0.5  ],\n",
       "       [0.067, 0.933],\n",
       "       [0.405, 0.595],\n",
       "       [0.502, 0.498],\n",
       "       [0.815, 0.185],\n",
       "       [0.58 , 0.42 ],\n",
       "       [0.48 , 0.52 ],\n",
       "       [0.395, 0.605],\n",
       "       [1.   , 0.   ],\n",
       "       [0.483, 0.517],\n",
       "       [0.508, 0.492],\n",
       "       [0.431, 0.569],\n",
       "       [0.   , 1.   ],\n",
       "       [0.525, 0.475],\n",
       "       [0.263, 0.737],\n",
       "       [0.961, 0.039],\n",
       "       [0.489, 0.511],\n",
       "       [0.089, 0.911],\n",
       "       [0.782, 0.218],\n",
       "       [0.861, 0.139],\n",
       "       [0.172, 0.828],\n",
       "       [0.504, 0.496],\n",
       "       [0.49 , 0.51 ],\n",
       "       [0.486, 0.514],\n",
       "       [0.116, 0.884],\n",
       "       [0.49 , 0.51 ],\n",
       "       [0.516, 0.484],\n",
       "       [0.196, 0.804],\n",
       "       [0.504, 0.496],\n",
       "       [0.788, 0.212],\n",
       "       [0.   , 1.   ],\n",
       "       [0.813, 0.187],\n",
       "       [0.374, 0.626],\n",
       "       [0.   , 1.   ],\n",
       "       [0.511, 0.489],\n",
       "       [0.999, 0.001],\n",
       "       [0.   , 1.   ],\n",
       "       [0.523, 0.477],\n",
       "       [0.   , 1.   ],\n",
       "       [0.499, 0.501],\n",
       "       [0.   , 1.   ],\n",
       "       [0.028, 0.972],\n",
       "       [0.974, 0.026],\n",
       "       [0.567, 0.433],\n",
       "       [0.376, 0.624],\n",
       "       [0.495, 0.505],\n",
       "       [0.52 , 0.48 ],\n",
       "       [0.329, 0.671],\n",
       "       [0.7  , 0.3  ],\n",
       "       [0.713, 0.287],\n",
       "       [0.   , 1.   ],\n",
       "       [0.   , 1.   ],\n",
       "       [0.651, 0.349],\n",
       "       [0.54 , 0.46 ],\n",
       "       [0.017, 0.983],\n",
       "       [0.986, 0.014],\n",
       "       [0.398, 0.602],\n",
       "       [0.492, 0.508],\n",
       "       [0.476, 0.524],\n",
       "       [0.178, 0.822],\n",
       "       [0.675, 0.325],\n",
       "       [0.001, 0.999],\n",
       "       [0.123, 0.877],\n",
       "       [0.   , 1.   ],\n",
       "       [0.04 , 0.96 ],\n",
       "       [0.518, 0.482],\n",
       "       [0.872, 0.128],\n",
       "       [0.81 , 0.19 ],\n",
       "       [0.607, 0.393],\n",
       "       [0.5  , 0.5  ],\n",
       "       [0.499, 0.501],\n",
       "       [0.498, 0.502],\n",
       "       [0.043, 0.957],\n",
       "       [0.502, 0.498],\n",
       "       [0.375, 0.625],\n",
       "       [0.499, 0.501],\n",
       "       [0.39 , 0.61 ],\n",
       "       [1.   , 0.   ],\n",
       "       [0.217, 0.783]])"
      ]
     },
     "execution_count": 29,
     "metadata": {},
     "output_type": "execute_result"
    }
   ],
   "source": [
    "X_train[1]"
   ]
  },
  {
   "cell_type": "code",
   "execution_count": null,
   "metadata": {
    "colab": {
     "base_uri": "https://localhost:8080/"
    },
    "id": "xKV11cBruTr6",
    "outputId": "809134d7-9525-4f66-c81d-0184302a7118"
   },
   "outputs": [
    {
     "data": {
      "text/plain": [
       "array([0.49, 0.51])"
      ]
     },
     "execution_count": 30,
     "metadata": {},
     "output_type": "execute_result"
    }
   ],
   "source": [
    "X_train[1][0]"
   ]
  },
  {
   "cell_type": "code",
   "execution_count": 4,
   "metadata": {
    "id": "rSc7GUbxdydS",
    "tags": []
   },
   "outputs": [],
   "source": [
    "class CustomLearningRateScheduler(tf.keras.optimizers.schedules.LearningRateSchedule):\n",
    "    def __init__(self, initial_learning_rate, decay_steps, decay_rate):\n",
    "        super().__init__()\n",
    "        self.initial_learning_rate = initial_learning_rate\n",
    "        self.decay_steps = decay_steps\n",
    "        self.decay_rate = decay_rate\n",
    "\n",
    "    def __call__(self, step):\n",
    "        step = tf.cast(step, dtype=tf.float32)\n",
    "        return self.initial_learning_rate / (1 + self.decay_rate * step / self.decay_steps)\n",
    "\n",
    "    def get_config(self):\n",
    "        return {\n",
    "            \"initial_learning_rate\": self.initial_learning_rate,\n",
    "            \"decay_steps\": self.decay_steps,\n",
    "            \"decay_rate\": self.decay_rate\n",
    "        }\n",
    "\n",
    "\n",
    "# class CustomLearningRateScheduler(tf.keras.optimizers.schedules.LearningRateSchedule):\n",
    "\n",
    "#   def __init__(self, initial_learning_rate):\n",
    "#     self.initial_learning_rate = initial_learning_rate\n",
    "\n",
    "#   def __call__(self, step):\n",
    "#      return self.initial_learning_rate / (step + 1)\n",
    "\n",
    "# Define model\n",
    "# model = Sequential([\n",
    "#     Dense(20, activation='relu', input_shape=(len(X_train[0]),)),\n",
    "#     Dense(128, activation='relu'),\n",
    "#     Dense(64, activation='relu'),\n",
    "#     Dense(2, activation='sigmoid'),  # Sigmoid function outputs in the range [0, 1]\n",
    "# ])\n",
    "# model = Sequential([\n",
    "#     Dense(20, activation='relu', input_shape=(len(X_train[0]),)),\n",
    "#     Dense(128, activation='relu'),\n",
    "#     Dense(64, activation='relu'),\n",
    "#     Dense(2, activation='relu'),\n",
    "# ])\n",
    "\n",
    "# # Scale model output to range [0, 2pi]\n",
    "# scaling_layer = Lambda(lambda x: x * 2 * math.pi)\n",
    "# model.add(scaling_layer)\n",
    "\n",
    "# Define model architecture\n",
    "input_X = Input(shape=(len(X_train[0][0]),), name='input_X')\n",
    "input_y = Input(shape=(len(X_train[1][0]),), name='input_y')\n",
    "\n",
    "# Original branch\n",
    "x1 = Dense(20, activation='relu')(input_X)\n",
    "x1 = Dense(128, activation='relu')(x1)\n",
    "\n",
    "# New branch\n",
    "x2 = Dense(2, activation='relu')(input_y)\n",
    "x2 = Dense(64, activation='relu')(x2)\n",
    "\n",
    "# Concatenate branches\n",
    "merged = Concatenate()([x1, x2])\n",
    "merged = Dense(64, activation='relu')(merged)\n",
    "merged = Dense(2, activation='relu')(merged)\n",
    "\n",
    "# Create and compile model\n",
    "model = Model(inputs=[input_X, input_y], outputs=merged)\n",
    "\n",
    "# Compile model\n",
    "\n",
    "initial_learning_rate = 1e-5\n",
    "decay_steps = 1000\n",
    "decay_rate = 0.01\n",
    "lr_schedule = CustomLearningRateScheduler(initial_learning_rate, decay_steps, decay_rate)\n",
    "# lr_schedule = CustomLearningRateScheduler(initial_learning_rate)\n",
    "optimizer = Adam(learning_rate=lr_schedule)\n",
    "\n",
    "model.compile(optimizer=optimizer, loss='mean_squared_error')\n",
    "\n",
    "# Custom X gate\n",
    "def custom_X(depol_amt, over_rotation):\n",
    "\n",
    "  # print(f'depol_amt: {self.depol_amt}, over_rotation: {self.over_rotation}')\n",
    "\n",
    "  theta = (math.pi/4 + over_rotation)/2\n",
    "  a = 1.0-depol_amt\n",
    "  b = a*2*tf.math.cos(theta)*tf.math.sin(theta)\n",
    "  c = a*(tf.math.sin(theta)**2 - tf.math.cos(theta)**2)\n",
    "\n",
    "  # print(f'a: {a}, b: {b}, c: {c}')\n",
    "\n",
    "  # ._ptr is a member of DenseOperator and is a numpy array that is\n",
    "  # the dense Pauli transfer matrix of this operator\n",
    "  # Technical note: use [:,:] instead of direct assignment so id of self._ptr doesn't change\n",
    "  custom_X_arr = tf.convert_to_tensor([[1,   0,   0,   0],\n",
    "                            [0,   a,   0,   0],\n",
    "                            [0,   0,   c,  -b],\n",
    "                            [0,   0,   b,   c]], dtype=tf.float32)\n",
    "\n",
    "  return custom_X_arr\n",
    "\n",
    "\n",
    "# Define gate application function\n",
    "def apply_gate(state, depol_amt, over_rotation, label):\n",
    "    # Construct arrays using NumPy\n",
    "    # Define gates in PTM form\n",
    "    I_np = np.array([[1, 0, 0, 0],\n",
    "                    [0, 1, 0, 0],\n",
    "                    [0, 0, 1, 0],\n",
    "                    [0, 0, 0, 1]], dtype=np.float32)  #Gi\n",
    "\n",
    "    Y_pi_2_np = np.array([[1, 0, 0, 0],\n",
    "                          [0, np.cos(np.pi/2), 0, np.sin(np.pi/2)],\n",
    "                          [0, 0, 1, 0],\n",
    "                          [0, -np.sin(np.pi/2), 0, np.cos(np.pi/2)]], dtype=np.float32) #Gy\n",
    "\n",
    "    # Normalized State corresponding to |0⟩ in Pauli basis\n",
    "    # state_np = np.array([1/np.sqrt(2), 0, 0, 1/np.sqrt(2)], dtype=np.float32)\n",
    "\n",
    "    # Convert NumPy arrays to TensorFlow tensors\n",
    "    I = tf.convert_to_tensor(I_np)\n",
    "    Y_pi_2 = tf.convert_to_tensor(Y_pi_2_np)\n",
    "    # state = tf.convert_to_tensor(state_np)\n",
    "\n",
    "    # X_theta = tf.convert_to_tensor([[1, 0, 0, 0], [0, tf.math.cos(theta_value), 0, tf.math.sin(theta_value)],\n",
    "    #                        [0, 0, 1, 0], [0, -tf.math.sin(theta_value), 0, tf.math.cos(theta_value)]], dtype=tf.float32)  # Gx\n",
    "\n",
    "    X_theta = custom_X(depol_amt, over_rotation)\n",
    "    # print('current label: ', label)\n",
    "\n",
    "    if label == 1:\n",
    "        return tf.linalg.matmul(X_theta, tf.reshape(state, [-1, 1]))\n",
    "    elif label == 2:\n",
    "        return tf.linalg.matmul(Y_pi_2, tf.reshape(state, [-1, 1]))\n",
    "    elif label == 3:\n",
    "        return tf.linalg.matmul(I, tf.reshape(state, [-1, 1]))\n",
    "    else:\n",
    "        return state  # If label is 0, don't apply any gate\n",
    "\n",
    "\n",
    "# def apply_gate_sequence(single_gate_sequence):\n",
    "#     # Initialize state in Pauli basis\n",
    "#     state = tf.convert_to_tensor([1/np.sqrt(2), 0, 0, 1/np.sqrt(2)], dtype=tf.float32)\n",
    "\n",
    "#   # Apply each gate in the sequence\n",
    "#     # print('model(single_gate_sequence[tf.newaxis, :]) ->', model(single_gate_sequence[tf.newaxis, :]))\n",
    "#     depol_amt, over_rotation = tf.squeeze(model(single_gate_sequence[tf.newaxis, :])) # Predict depolar_error, over_rotation for the current gate sequence\n",
    "#     # print('theta_value: ', theta_value)\n",
    "#     # depol_amt = tf.clip_by_value(tf.squeeze(depol_amt), 0, 0.1)\n",
    "#     # over_rotation = tf.clip_by_value(tf.squeeze(over_rotation), 0, 0.1)\n",
    "#     # print(f\"depol_amt: {depol_amt}, over_rotation: {over_rotation}\")\n",
    "#     # print('squeezed theta_value: ', theta_value)\n",
    "#     for i in range(tf.shape(single_gate_sequence)[0]):\n",
    "#       if single_gate_sequence[i] == 0:\n",
    "#         break\n",
    "#       # print('tf.shape(single_gate_sequence): ', tf.shape(single_gate_sequence))\n",
    "#       # print('tf.shape(single_gate_sequence[0]): ', tf.shape(single_gate_sequence)[0])\n",
    "#       # print('single_gate_sequence[i]: ', single_gate_sequence[i])\n",
    "#       state = apply_gate(state, depol_amt, over_rotation, single_gate_sequence[i])\n",
    "#       # print('current state: ', state)\n",
    "\n",
    "#     return state\n",
    "\n",
    "def apply_gate_sequence(single_gate_sequence, single_y_label):\n",
    "    # Initialize state in Pauli basis\n",
    "    state = tf.convert_to_tensor([1/np.sqrt(2), 0, 0, 1/np.sqrt(2)], dtype=tf.float32)\n",
    "\n",
    "    # print(\"Shape of single_gate_sequence:\", tf.shape(single_gate_sequence))\n",
    "    # print(\"Shape of single_y_label:\", tf.shape(single_y_label))\n",
    "    # print(\"Shape of model input single_gate_sequence:\", tf.shape(single_gate_sequence[tf.newaxis, :]))\n",
    "    # print(\"Shape of model input single_gate_sequence:\", tf.shape(single_y_label[tf.newaxis, :]))\n",
    "\n",
    "\n",
    "    # Apply each gate in the sequence\n",
    "    depol_amt, over_rotation = tf.squeeze(model([single_gate_sequence[tf.newaxis, :], single_y_label[tf.newaxis, :]])) # Predict depolar_error, over_rotation for the current gate sequence\n",
    "\n",
    "    for i in range(tf.shape(single_gate_sequence)[0]):\n",
    "        if single_gate_sequence[i] == 0:\n",
    "            break\n",
    "        state = apply_gate(state, depol_amt, over_rotation, single_gate_sequence[i])\n",
    "\n",
    "    return state\n",
    "\n",
    "\n",
    "\n",
    "def compute_probabilities(ptm_vector):\n",
    "    # PTM representations for |0> and |1> states\n",
    "    ptm_0 = tf.constant([1, 0, 0, 1], dtype=tf.float32)\n",
    "    ptm_1 = tf.constant([1, 0, 0, -1], dtype=tf.float32)\n",
    "    # ptm_0 = tf.convert_to_tensor([1, 0, 0, 1], dtype=tf.float32)\n",
    "    # ptm_1 = tf.convert_to_tensor([1, 0, 0, -1], dtype=tf.float32)\n",
    "\n",
    "    # Normalize the vectors\n",
    "    ptm_vector = tf.squeeze(tf.linalg.l2_normalize(ptm_vector))\n",
    "    ptm_0 = tf.linalg.l2_normalize(ptm_0)\n",
    "    ptm_1 = tf.linalg.l2_normalize(ptm_1)\n",
    "\n",
    "    # Compute dot products\n",
    "    prob_0 = tf.tensordot(ptm_vector, ptm_0, axes=1)\n",
    "    prob_1 = tf.tensordot(ptm_vector, ptm_1, axes=1)\n",
    "\n",
    "    return tf.stack([prob_0, prob_1])\n",
    "\n",
    "\n",
    "# Define loss function\n",
    "loss_fn = MeanSquaredError()\n",
    "\n",
    "# Define training loop\n",
    "# def train_step(X, y):\n",
    "#     with tf.GradientTape() as tape:\n",
    "#       batched_final_states = []\n",
    "#       batched_probabilities = []\n",
    "\n",
    "#       # Process each sequence in the batch individually\n",
    "#       for i in range(tf.shape(X)[0]):\n",
    "#           single_sequence = tf.gather(X, i, axis=0)\n",
    "#           final_state = apply_gate_sequence(single_sequence)\n",
    "#           probabilities = compute_probabilities(final_state)\n",
    "#           batched_final_states.append(final_state)\n",
    "#           # print('batched_final_states: ', batched_final_states)\n",
    "#           batched_probabilities.append(probabilities)\n",
    "#           # print('batched_probabilities: ', batched_probabilities)\n",
    "\n",
    "#       batched_final_states = tf.stack(batched_final_states)\n",
    "#       # print('batched_final_states: ', batched_final_states)\n",
    "#       # print('batched_final_states.shape: ', batched_final_states.shape)\n",
    "#       batched_probabilities = tf.stack(batched_probabilities)\n",
    "#       # print('batched_probabilities: ', batched_probabilities)\n",
    "#       # print('batched_probabilities.shape: ', batched_probabilities.shape)\n",
    "\n",
    "\n",
    "#       loss = loss_fn(y, batched_probabilities)\n",
    "#       # print('loss: ', loss)\n",
    "\n",
    "#     grads = tape.gradient(loss, model.trainable_weights)\n",
    "#     optimizer.apply_gradients(zip(grads, model.trainable_weights))\n",
    "#     return loss\n",
    "\n",
    "def train_step(X, y):\n",
    "    with tf.GradientTape() as tape:\n",
    "        batched_final_states = []\n",
    "        batched_probabilities = []\n",
    "\n",
    "        # print(\"Shape of X[0]:\", tf.shape(X[0]))\n",
    "        # print(\"Shape of X[1]:\", tf.shape(X[1]))\n",
    "        # print(\"Shape of y:\", tf.shape(y))\n",
    "\n",
    "        # Process each sequence in the batch individually\n",
    "        # print('tf.shape(X[0])[0]:', tf.shape(X[0])[0])\n",
    "        for i in range(tf.shape(X[0])[0]):\n",
    "            single_sequence = tf.gather(X[0], i, axis=0)\n",
    "            single_y_label = tf.gather(X[1], i, axis=0)\n",
    "            final_state = apply_gate_sequence(single_sequence, single_y_label)\n",
    "            probabilities = compute_probabilities(final_state)\n",
    "            batched_final_states.append(final_state)\n",
    "            batched_probabilities.append(probabilities)\n",
    "\n",
    "        batched_final_states = tf.stack(batched_final_states)\n",
    "        batched_probabilities = tf.stack(batched_probabilities)\n",
    "\n",
    "        loss = loss_fn(y, batched_probabilities)\n",
    "\n",
    "    grads = tape.gradient(loss, model.trainable_weights)\n",
    "    optimizer.apply_gradients(zip(grads, model.trainable_weights))\n",
    "    return loss\n",
    "\n",
    "\n",
    "# Define validation loop (similar to training loop but without gradients)\n",
    "# def validate_step(X, y, print_results = False):\n",
    "#     batched_final_states = []\n",
    "#     batched_probabilities = []\n",
    "#     # batched_thetas = []\n",
    "#     batched_errors = []\n",
    "\n",
    "#     for i in range(tf.shape(X)[0]):\n",
    "#         single_sequence = tf.gather(X, i, axis=0)\n",
    "#         final_state = apply_gate_sequence(single_sequence)\n",
    "#         probabilities = compute_probabilities(final_state)\n",
    "#         batched_final_states.append(final_state)\n",
    "#         batched_probabilities.append(probabilities)\n",
    "#         if print_results == True:\n",
    "#             theta_value = tf.squeeze(model(single_sequence[tf.newaxis, :])) # Predict theta for the current gate\n",
    "#             depol_amt, over_rotation = tf.squeeze(model(single_sequence[tf.newaxis, :])) # Predict depolar_error, over_rotation for the current gate sequence\n",
    "#             # batched_thetas.append(theta_value)\n",
    "#             batched_errors.append(tf.stack([depol_amt, over_rotation]))\n",
    "\n",
    "\n",
    "#     batched_final_states = tf.stack(batched_final_states)\n",
    "#     batched_probabilities = tf.stack(batched_probabilities)\n",
    "#     loss = loss_fn(y, batched_probabilities)\n",
    "#     if print_results == True:\n",
    "#       # print('batched_thetas: ', batched_thetas)\n",
    "#       print('batched_errors: ', batched_errors)\n",
    "#     return loss\n",
    "\n",
    "def validate_step(X, y, print_results = False):\n",
    "    batched_final_states = []\n",
    "    batched_probabilities = []\n",
    "    batched_errors = []\n",
    "\n",
    "    for i in range(tf.shape(X[0])[0]):\n",
    "        single_sequence = tf.gather(X[0], i, axis=0)\n",
    "        single_y_label = tf.gather(X[1], i, axis=0)\n",
    "        final_state = apply_gate_sequence(single_sequence, single_y_label)\n",
    "        probabilities = compute_probabilities(final_state)\n",
    "        batched_final_states.append(final_state)\n",
    "        batched_probabilities.append(probabilities)\n",
    "        if print_results == True:\n",
    "            depol_amt, over_rotation = tf.squeeze(model([single_sequence[tf.newaxis, :], single_y_label[tf.newaxis, :]])) # Predict depolar_error, over_rotation for the current gate sequence\n",
    "            batched_errors.append(tf.stack([depol_amt, over_rotation]))\n",
    "\n",
    "    batched_final_states = tf.stack(batched_final_states)\n",
    "    batched_probabilities = tf.stack(batched_probabilities)\n",
    "    loss = loss_fn(y, batched_probabilities)\n",
    "    if print_results == True:\n",
    "        print('batched_errors: ', batched_errors)\n",
    "    return loss\n"
   ]
  },
  {
   "cell_type": "code",
   "execution_count": 5,
   "metadata": {
    "id": "mUZNtlhbiL7n",
    "tags": []
   },
   "outputs": [],
   "source": [
    "# Directory to save the model and weights\n",
    "model_save_dir = \"saved_models\"\n",
    "if not os.path.exists(model_save_dir):\n",
    "    os.makedirs(model_save_dir)"
   ]
  },
  {
   "cell_type": "code",
   "execution_count": 6,
   "metadata": {
    "colab": {
     "base_uri": "https://localhost:8080/"
    },
    "id": "w7buJL9YyU-b",
    "outputId": "0454bbd2-e940-40f6-cb11-08c353dd8401",
    "tags": []
   },
   "outputs": [
    {
     "name": "stdout",
     "output_type": "stream",
     "text": [
      "Part: 1/3, Epoch: 1/100, Total Epochs: 1, Train Loss: 0.006847244221717119, Validation Loss: 0.04055959731340408\n",
      "Part: 1/3, Epoch: 2/100, Total Epochs: 2, Train Loss: 0.0066878520883619785, Validation Loss: 0.04014233872294426\n",
      "Part: 1/3, Epoch: 3/100, Total Epochs: 3, Train Loss: 0.006532345898449421, Validation Loss: 0.03972002863883972\n",
      "Part: 1/3, Epoch: 4/100, Total Epochs: 4, Train Loss: 0.006378372199833393, Validation Loss: 0.039296954870224\n",
      "Part: 1/3, Epoch: 5/100, Total Epochs: 5, Train Loss: 0.006226875353604555, Validation Loss: 0.038875650614500046\n",
      "Part: 1/3, Epoch: 6/100, Total Epochs: 6, Train Loss: 0.0060785380192101, Validation Loss: 0.038455426692962646\n",
      "Part: 1/3, Epoch: 7/100, Total Epochs: 7, Train Loss: 0.00593337370082736, Validation Loss: 0.038037050515413284\n",
      "Part: 1/3, Epoch: 8/100, Total Epochs: 8, Train Loss: 0.0057915495708584785, Validation Loss: 0.03762226179242134\n",
      "Part: 1/3, Epoch: 9/100, Total Epochs: 9, Train Loss: 0.005653177388012409, Validation Loss: 0.0372113361954689\n",
      "Part: 1/3, Epoch: 10/100, Total Epochs: 10, Train Loss: 0.005518263205885887, Validation Loss: 0.03680441901087761\n",
      "Part: 1/3, Epoch: 11/100, Total Epochs: 11, Train Loss: 0.005387037061154842, Validation Loss: 0.036401938647031784\n",
      "Part: 1/3, Epoch: 12/100, Total Epochs: 12, Train Loss: 0.005259817931801081, Validation Loss: 0.03600388765335083\n",
      "Part: 1/3, Epoch: 13/100, Total Epochs: 13, Train Loss: 0.0051361629739403725, Validation Loss: 0.0356108620762825\n",
      "Part: 1/3, Epoch: 14/100, Total Epochs: 14, Train Loss: 0.005015915725380182, Validation Loss: 0.03522321581840515\n",
      "Part: 1/3, Epoch: 15/100, Total Epochs: 15, Train Loss: 0.0048990012146532536, Validation Loss: 0.03484064340591431\n",
      "Part: 1/3, Epoch: 16/100, Total Epochs: 16, Train Loss: 0.004785442259162664, Validation Loss: 0.03446332365274429\n",
      "Part: 1/3, Epoch: 17/100, Total Epochs: 17, Train Loss: 0.00467519648373127, Validation Loss: 0.03409142047166824\n",
      "Part: 1/3, Epoch: 18/100, Total Epochs: 18, Train Loss: 0.004568177275359631, Validation Loss: 0.03372523933649063\n",
      "Part: 1/3, Epoch: 19/100, Total Epochs: 19, Train Loss: 0.004464316181838512, Validation Loss: 0.03336479887366295\n",
      "Part: 1/3, Epoch: 20/100, Total Epochs: 20, Train Loss: 0.004363548941910267, Validation Loss: 0.033009469509124756\n",
      "INFO:tensorflow:Assets written to: saved_models\\model_epoch_20\\assets\n"
     ]
    },
    {
     "name": "stderr",
     "output_type": "stream",
     "text": [
      "INFO:tensorflow:Assets written to: saved_models\\model_epoch_20\\assets\n"
     ]
    },
    {
     "name": "stdout",
     "output_type": "stream",
     "text": [
      "Model and weights saved at epoch 20\n",
      "Part: 1/3, Epoch: 21/100, Total Epochs: 21, Train Loss: 0.00426583644002676, Validation Loss: 0.03265976905822754\n",
      "Part: 1/3, Epoch: 22/100, Total Epochs: 22, Train Loss: 0.00417111674323678, Validation Loss: 0.032315876334905624\n",
      "Part: 1/3, Epoch: 23/100, Total Epochs: 23, Train Loss: 0.004079383797943592, Validation Loss: 0.031977564096450806\n",
      "Part: 1/3, Epoch: 24/100, Total Epochs: 24, Train Loss: 0.003990435507148504, Validation Loss: 0.03164414316415787\n",
      "Part: 1/3, Epoch: 25/100, Total Epochs: 25, Train Loss: 0.003903804812580347, Validation Loss: 0.03131583705544472\n",
      "Part: 1/3, Epoch: 26/100, Total Epochs: 26, Train Loss: 0.0038198865950107574, Validation Loss: 0.03099317103624344\n",
      "Part: 1/3, Epoch: 27/100, Total Epochs: 27, Train Loss: 0.0037385886535048485, Validation Loss: 0.030676137655973434\n",
      "Part: 1/3, Epoch: 28/100, Total Epochs: 28, Train Loss: 0.003659907728433609, Validation Loss: 0.030364718288183212\n",
      "Part: 1/3, Epoch: 29/100, Total Epochs: 29, Train Loss: 0.00358367501758039, Validation Loss: 0.03005879372358322\n",
      "Part: 1/3, Epoch: 30/100, Total Epochs: 30, Train Loss: 0.0035097382497042418, Validation Loss: 0.029758330434560776\n",
      "Part: 1/3, Epoch: 31/100, Total Epochs: 31, Train Loss: 0.003438143525272608, Validation Loss: 0.02946332097053528\n",
      "Part: 1/3, Epoch: 32/100, Total Epochs: 32, Train Loss: 0.0033689052797853947, Validation Loss: 0.02917361631989479\n",
      "Part: 1/3, Epoch: 33/100, Total Epochs: 33, Train Loss: 0.003301633056253195, Validation Loss: 0.028888916596770287\n",
      "Part: 1/3, Epoch: 34/100, Total Epochs: 34, Train Loss: 0.00323642254807055, Validation Loss: 0.028609473258256912\n",
      "Part: 1/3, Epoch: 35/100, Total Epochs: 35, Train Loss: 0.003173302626237273, Validation Loss: 0.028334397822618484\n",
      "Part: 1/3, Epoch: 36/100, Total Epochs: 36, Train Loss: 0.0031109731644392014, Validation Loss: 0.028060518205165863\n",
      "Part: 1/3, Epoch: 37/100, Total Epochs: 37, Train Loss: 0.0030492316000163555, Validation Loss: 0.027790021151304245\n",
      "Part: 1/3, Epoch: 38/100, Total Epochs: 38, Train Loss: 0.0029890474397689104, Validation Loss: 0.027523163706064224\n",
      "Part: 1/3, Epoch: 39/100, Total Epochs: 39, Train Loss: 0.002930551301687956, Validation Loss: 0.0272601917386055\n",
      "Part: 1/3, Epoch: 40/100, Total Epochs: 40, Train Loss: 0.0028737387619912624, Validation Loss: 0.027001257985830307\n",
      "INFO:tensorflow:Assets written to: saved_models\\model_epoch_40\\assets\n"
     ]
    },
    {
     "name": "stderr",
     "output_type": "stream",
     "text": [
      "INFO:tensorflow:Assets written to: saved_models\\model_epoch_40\\assets\n"
     ]
    },
    {
     "name": "stdout",
     "output_type": "stream",
     "text": [
      "Model and weights saved at epoch 40\n",
      "Part: 1/3, Epoch: 41/100, Total Epochs: 41, Train Loss: 0.002818574896082282, Validation Loss: 0.026746509596705437\n",
      "Part: 1/3, Epoch: 42/100, Total Epochs: 42, Train Loss: 0.002765077166259289, Validation Loss: 0.02649606764316559\n",
      "Part: 1/3, Epoch: 43/100, Total Epochs: 43, Train Loss: 0.0027132395189255476, Validation Loss: 0.026250112801790237\n",
      "Part: 1/3, Epoch: 44/100, Total Epochs: 44, Train Loss: 0.0026630256325006485, Validation Loss: 0.026008596643805504\n",
      "Part: 1/3, Epoch: 45/100, Total Epochs: 45, Train Loss: 0.0026143959257751703, Validation Loss: 0.025771446526050568\n",
      "Part: 1/3, Epoch: 46/100, Total Epochs: 46, Train Loss: 0.0025673527270555496, Validation Loss: 0.025538643822073936\n",
      "Part: 1/3, Epoch: 47/100, Total Epochs: 47, Train Loss: 0.0025218194350600243, Validation Loss: 0.02531011961400509\n",
      "Part: 1/3, Epoch: 48/100, Total Epochs: 48, Train Loss: 0.0024777103681117296, Validation Loss: 0.025085803121328354\n",
      "Part: 1/3, Epoch: 49/100, Total Epochs: 49, Train Loss: 0.002435009926557541, Validation Loss: 0.02486572042107582\n",
      "Part: 1/3, Epoch: 50/100, Total Epochs: 50, Train Loss: 0.002393679693341255, Validation Loss: 0.024649830535054207\n",
      "Part: 1/3, Epoch: 51/100, Total Epochs: 51, Train Loss: 0.00235367682762444, Validation Loss: 0.02443796768784523\n",
      "Part: 1/3, Epoch: 52/100, Total Epochs: 52, Train Loss: 0.002314953599125147, Validation Loss: 0.024230413138866425\n",
      "Part: 1/3, Epoch: 53/100, Total Epochs: 53, Train Loss: 0.0022774729877710342, Validation Loss: 0.024026941508054733\n",
      "Part: 1/3, Epoch: 54/100, Total Epochs: 54, Train Loss: 0.002241160487756133, Validation Loss: 0.02382739633321762\n",
      "Part: 1/3, Epoch: 55/100, Total Epochs: 55, Train Loss: 0.0022060060873627663, Validation Loss: 0.023631751537322998\n",
      "Part: 1/3, Epoch: 56/100, Total Epochs: 56, Train Loss: 0.002171815373003483, Validation Loss: 0.023440329357981682\n",
      "Part: 1/3, Epoch: 57/100, Total Epochs: 57, Train Loss: 0.002138543641194701, Validation Loss: 0.02325320616364479\n",
      "Part: 1/3, Epoch: 58/100, Total Epochs: 58, Train Loss: 0.002106290776282549, Validation Loss: 0.02306975983083248\n",
      "Part: 1/3, Epoch: 59/100, Total Epochs: 59, Train Loss: 0.002074997639283538, Validation Loss: 0.022889986634254456\n",
      "Part: 1/3, Epoch: 60/100, Total Epochs: 60, Train Loss: 0.0020446034613996744, Validation Loss: 0.0227137953042984\n",
      "INFO:tensorflow:Assets written to: saved_models\\model_epoch_60\\assets\n"
     ]
    },
    {
     "name": "stderr",
     "output_type": "stream",
     "text": [
      "INFO:tensorflow:Assets written to: saved_models\\model_epoch_60\\assets\n"
     ]
    },
    {
     "name": "stdout",
     "output_type": "stream",
     "text": [
      "Model and weights saved at epoch 60\n",
      "Part: 1/3, Epoch: 61/100, Total Epochs: 61, Train Loss: 0.002014986937865615, Validation Loss: 0.022541113197803497\n",
      "Part: 1/3, Epoch: 62/100, Total Epochs: 62, Train Loss: 0.001986251911148429, Validation Loss: 0.022371884435415268\n",
      "Part: 1/3, Epoch: 63/100, Total Epochs: 63, Train Loss: 0.0019583827815949917, Validation Loss: 0.022206071764230728\n",
      "Part: 1/3, Epoch: 64/100, Total Epochs: 64, Train Loss: 0.001931371632963419, Validation Loss: 0.02204360067844391\n",
      "Part: 1/3, Epoch: 65/100, Total Epochs: 65, Train Loss: 0.0019051835406571627, Validation Loss: 0.021884404122829437\n",
      "Part: 1/3, Epoch: 66/100, Total Epochs: 66, Train Loss: 0.0018797963857650757, Validation Loss: 0.02172842063009739\n",
      "Part: 1/3, Epoch: 67/100, Total Epochs: 67, Train Loss: 0.0018551747780293226, Validation Loss: 0.021575607359409332\n",
      "Part: 1/3, Epoch: 68/100, Total Epochs: 68, Train Loss: 0.0018312374595552683, Validation Loss: 0.021425899118185043\n",
      "Part: 1/3, Epoch: 69/100, Total Epochs: 69, Train Loss: 0.0018080211011692882, Validation Loss: 0.021279044449329376\n",
      "Part: 1/3, Epoch: 70/100, Total Epochs: 70, Train Loss: 0.0017855000915005803, Validation Loss: 0.02113499864935875\n",
      "Part: 1/3, Epoch: 71/100, Total Epochs: 71, Train Loss: 0.001763654756359756, Validation Loss: 0.020993342623114586\n",
      "Part: 1/3, Epoch: 72/100, Total Epochs: 72, Train Loss: 0.0017424518009647727, Validation Loss: 0.020854484289884567\n",
      "Part: 1/3, Epoch: 73/100, Total Epochs: 73, Train Loss: 0.001721840351819992, Validation Loss: 0.020718440413475037\n",
      "Part: 1/3, Epoch: 74/100, Total Epochs: 74, Train Loss: 0.001701762550510466, Validation Loss: 0.020585138350725174\n",
      "Part: 1/3, Epoch: 75/100, Total Epochs: 75, Train Loss: 0.0016822479665279388, Validation Loss: 0.02045449987053871\n",
      "Part: 1/3, Epoch: 76/100, Total Epochs: 76, Train Loss: 0.0016633057966828346, Validation Loss: 0.020326558500528336\n",
      "Part: 1/3, Epoch: 77/100, Total Epochs: 77, Train Loss: 0.0016449517570436, Validation Loss: 0.020201245322823524\n",
      "Part: 1/3, Epoch: 78/100, Total Epochs: 78, Train Loss: 0.0016270085470750928, Validation Loss: 0.02007841132581234\n",
      "Part: 1/3, Epoch: 79/100, Total Epochs: 79, Train Loss: 0.0016095081809908152, Validation Loss: 0.019957955926656723\n",
      "Part: 1/3, Epoch: 80/100, Total Epochs: 80, Train Loss: 0.0015924604376778007, Validation Loss: 0.01983991637825966\n",
      "INFO:tensorflow:Assets written to: saved_models\\model_epoch_80\\assets\n"
     ]
    },
    {
     "name": "stderr",
     "output_type": "stream",
     "text": [
      "INFO:tensorflow:Assets written to: saved_models\\model_epoch_80\\assets\n"
     ]
    },
    {
     "name": "stdout",
     "output_type": "stream",
     "text": [
      "Model and weights saved at epoch 80\n",
      "Part: 1/3, Epoch: 81/100, Total Epochs: 81, Train Loss: 0.0015759286470711231, Validation Loss: 0.019724160432815552\n",
      "Part: 1/3, Epoch: 82/100, Total Epochs: 82, Train Loss: 0.001559909083880484, Validation Loss: 0.01961076259613037\n",
      "Part: 1/3, Epoch: 83/100, Total Epochs: 83, Train Loss: 0.0015442949952557683, Validation Loss: 0.019499588757753372\n",
      "Part: 1/3, Epoch: 84/100, Total Epochs: 84, Train Loss: 0.0015290742740035057, Validation Loss: 0.019390590488910675\n",
      "Part: 1/3, Epoch: 85/100, Total Epochs: 85, Train Loss: 0.00151416368316859, Validation Loss: 0.019283730536699295\n",
      "Part: 1/3, Epoch: 86/100, Total Epochs: 86, Train Loss: 0.0014995685778558254, Validation Loss: 0.019178949296474457\n",
      "Part: 1/3, Epoch: 87/100, Total Epochs: 87, Train Loss: 0.0014853390166535974, Validation Loss: 0.019076213240623474\n",
      "Part: 1/3, Epoch: 88/100, Total Epochs: 88, Train Loss: 0.0014714428689330816, Validation Loss: 0.01897546835243702\n",
      "Part: 1/3, Epoch: 89/100, Total Epochs: 89, Train Loss: 0.0014578524278476834, Validation Loss: 0.018876496702432632\n",
      "Part: 1/3, Epoch: 90/100, Total Epochs: 90, Train Loss: 0.0014445832930505276, Validation Loss: 0.0187793280929327\n",
      "Part: 1/3, Epoch: 91/100, Total Epochs: 91, Train Loss: 0.0014316309243440628, Validation Loss: 0.01868404448032379\n",
      "Part: 1/3, Epoch: 92/100, Total Epochs: 92, Train Loss: 0.0014189613284543157, Validation Loss: 0.01859060674905777\n",
      "Part: 1/3, Epoch: 93/100, Total Epochs: 93, Train Loss: 0.001406551105901599, Validation Loss: 0.018498975783586502\n",
      "Part: 1/3, Epoch: 94/100, Total Epochs: 94, Train Loss: 0.0013943668454885483, Validation Loss: 0.01840921863913536\n",
      "Part: 1/3, Epoch: 95/100, Total Epochs: 95, Train Loss: 0.0013824880588799715, Validation Loss: 0.018321163952350616\n",
      "Part: 1/3, Epoch: 96/100, Total Epochs: 96, Train Loss: 0.001370848622173071, Validation Loss: 0.0182344987988472\n",
      "Part: 1/3, Epoch: 97/100, Total Epochs: 97, Train Loss: 0.0013594604097306728, Validation Loss: 0.018149401992559433\n",
      "Part: 1/3, Epoch: 98/100, Total Epochs: 98, Train Loss: 0.0013482921058312058, Validation Loss: 0.01806587725877762\n",
      "Part: 1/3, Epoch: 99/100, Total Epochs: 99, Train Loss: 0.0013373303227126598, Validation Loss: 0.017983827739953995\n",
      "Part: 1/3, Epoch: 100/100, Total Epochs: 100, Train Loss: 0.0013265903107821941, Validation Loss: 0.01790320873260498\n",
      "INFO:tensorflow:Assets written to: saved_models\\model_epoch_100\\assets\n"
     ]
    },
    {
     "name": "stderr",
     "output_type": "stream",
     "text": [
      "INFO:tensorflow:Assets written to: saved_models\\model_epoch_100\\assets\n"
     ]
    },
    {
     "name": "stdout",
     "output_type": "stream",
     "text": [
      "Model and weights saved at epoch 100\n",
      "Part: 2/3, Epoch: 1/100, Total Epochs: 101, Train Loss: 0.013353763148188591, Validation Loss: 0.01772676222026348\n",
      "Part: 2/3, Epoch: 2/100, Total Epochs: 102, Train Loss: 0.012671323493123055, Validation Loss: 0.01713068038225174\n",
      "Part: 2/3, Epoch: 3/100, Total Epochs: 103, Train Loss: 0.011828400194644928, Validation Loss: 0.016367066651582718\n",
      "Part: 2/3, Epoch: 4/100, Total Epochs: 104, Train Loss: 0.010962890461087227, Validation Loss: 0.015578964725136757\n",
      "Part: 2/3, Epoch: 5/100, Total Epochs: 105, Train Loss: 0.010139279067516327, Validation Loss: 0.014824514277279377\n",
      "Part: 2/3, Epoch: 6/100, Total Epochs: 106, Train Loss: 0.009388547390699387, Validation Loss: 0.01413235068321228\n",
      "Part: 2/3, Epoch: 7/100, Total Epochs: 107, Train Loss: 0.008715122938156128, Validation Loss: 0.013504101894795895\n",
      "Part: 2/3, Epoch: 8/100, Total Epochs: 108, Train Loss: 0.008112610317766666, Validation Loss: 0.012942327186465263\n",
      "Part: 2/3, Epoch: 9/100, Total Epochs: 109, Train Loss: 0.007582920603454113, Validation Loss: 0.012447074055671692\n",
      "Part: 2/3, Epoch: 10/100, Total Epochs: 110, Train Loss: 0.0071191079914569855, Validation Loss: 0.012012487277388573\n",
      "Part: 2/3, Epoch: 11/100, Total Epochs: 111, Train Loss: 0.006712253671139479, Validation Loss: 0.011631358414888382\n",
      "Part: 2/3, Epoch: 12/100, Total Epochs: 112, Train Loss: 0.0063543482683598995, Validation Loss: 0.011296150274574757\n",
      "Part: 2/3, Epoch: 13/100, Total Epochs: 113, Train Loss: 0.006038198713213205, Validation Loss: 0.011000331491231918\n",
      "Part: 2/3, Epoch: 14/100, Total Epochs: 114, Train Loss: 0.005758602172136307, Validation Loss: 0.010738961398601532\n",
      "Part: 2/3, Epoch: 15/100, Total Epochs: 115, Train Loss: 0.005509854294359684, Validation Loss: 0.01050640270113945\n",
      "Part: 2/3, Epoch: 16/100, Total Epochs: 116, Train Loss: 0.0052869077771902084, Validation Loss: 0.010297429747879505\n",
      "Part: 2/3, Epoch: 17/100, Total Epochs: 117, Train Loss: 0.0050857351161539555, Validation Loss: 0.01010874193161726\n",
      "Part: 2/3, Epoch: 18/100, Total Epochs: 118, Train Loss: 0.004902347922325134, Validation Loss: 0.009937173686921597\n",
      "Part: 2/3, Epoch: 19/100, Total Epochs: 119, Train Loss: 0.004734273999929428, Validation Loss: 0.009779899381101131\n",
      "Part: 2/3, Epoch: 20/100, Total Epochs: 120, Train Loss: 0.004579363390803337, Validation Loss: 0.009634891524910927\n",
      "INFO:tensorflow:Assets written to: saved_models\\model_epoch_120\\assets\n"
     ]
    },
    {
     "name": "stderr",
     "output_type": "stream",
     "text": [
      "INFO:tensorflow:Assets written to: saved_models\\model_epoch_120\\assets\n"
     ]
    },
    {
     "name": "stdout",
     "output_type": "stream",
     "text": [
      "Model and weights saved at epoch 120\n",
      "Part: 2/3, Epoch: 21/100, Total Epochs: 121, Train Loss: 0.004435677081346512, Validation Loss: 0.009500372223556042\n",
      "Part: 2/3, Epoch: 22/100, Total Epochs: 122, Train Loss: 0.0043023452162742615, Validation Loss: 0.0093732550740242\n",
      "Part: 2/3, Epoch: 23/100, Total Epochs: 123, Train Loss: 0.004177817143499851, Validation Loss: 0.009251769632101059\n",
      "Part: 2/3, Epoch: 24/100, Total Epochs: 124, Train Loss: 0.004061070270836353, Validation Loss: 0.009137388318777084\n",
      "Part: 2/3, Epoch: 25/100, Total Epochs: 125, Train Loss: 0.003951219376176596, Validation Loss: 0.009029427543282509\n",
      "Part: 2/3, Epoch: 26/100, Total Epochs: 126, Train Loss: 0.003847045823931694, Validation Loss: 0.008927256800234318\n",
      "Part: 2/3, Epoch: 27/100, Total Epochs: 127, Train Loss: 0.0037454436533153057, Validation Loss: 0.008828433230519295\n",
      "Part: 2/3, Epoch: 28/100, Total Epochs: 128, Train Loss: 0.003648304846137762, Validation Loss: 0.008733288384974003\n",
      "Part: 2/3, Epoch: 29/100, Total Epochs: 129, Train Loss: 0.0035555206704884768, Validation Loss: 0.00864176731556654\n",
      "Part: 2/3, Epoch: 30/100, Total Epochs: 130, Train Loss: 0.003466920694336295, Validation Loss: 0.008553748019039631\n",
      "Part: 2/3, Epoch: 31/100, Total Epochs: 131, Train Loss: 0.0033822907134890556, Validation Loss: 0.008469006977975368\n",
      "Part: 2/3, Epoch: 32/100, Total Epochs: 132, Train Loss: 0.003301190212368965, Validation Loss: 0.008387299254536629\n",
      "Part: 2/3, Epoch: 33/100, Total Epochs: 133, Train Loss: 0.003223652485758066, Validation Loss: 0.00830867700278759\n",
      "Part: 2/3, Epoch: 34/100, Total Epochs: 134, Train Loss: 0.003149450523778796, Validation Loss: 0.008232749998569489\n",
      "Part: 2/3, Epoch: 35/100, Total Epochs: 135, Train Loss: 0.003078248118981719, Validation Loss: 0.008159434422850609\n",
      "Part: 2/3, Epoch: 36/100, Total Epochs: 136, Train Loss: 0.003009780542925, Validation Loss: 0.0080879433080554\n",
      "Part: 2/3, Epoch: 37/100, Total Epochs: 137, Train Loss: 0.0029433988966047764, Validation Loss: 0.008016526699066162\n",
      "Part: 2/3, Epoch: 38/100, Total Epochs: 138, Train Loss: 0.0028791455551981926, Validation Loss: 0.007946698926389217\n",
      "Part: 2/3, Epoch: 39/100, Total Epochs: 139, Train Loss: 0.002816994907334447, Validation Loss: 0.007877525873482227\n",
      "Part: 2/3, Epoch: 40/100, Total Epochs: 140, Train Loss: 0.0027568412479013205, Validation Loss: 0.007809611968696117\n",
      "INFO:tensorflow:Assets written to: saved_models\\model_epoch_140\\assets\n"
     ]
    },
    {
     "name": "stderr",
     "output_type": "stream",
     "text": [
      "INFO:tensorflow:Assets written to: saved_models\\model_epoch_140\\assets\n"
     ]
    },
    {
     "name": "stdout",
     "output_type": "stream",
     "text": [
      "Model and weights saved at epoch 140\n",
      "Part: 2/3, Epoch: 41/100, Total Epochs: 141, Train Loss: 0.0026987972669303417, Validation Loss: 0.007743221707642078\n",
      "Part: 2/3, Epoch: 42/100, Total Epochs: 142, Train Loss: 0.0026429002173244953, Validation Loss: 0.00767858000472188\n",
      "Part: 2/3, Epoch: 43/100, Total Epochs: 143, Train Loss: 0.0025891007389873266, Validation Loss: 0.007615744136273861\n",
      "Part: 2/3, Epoch: 44/100, Total Epochs: 144, Train Loss: 0.0025376693811267614, Validation Loss: 0.007554503623396158\n",
      "Part: 2/3, Epoch: 45/100, Total Epochs: 145, Train Loss: 0.0024880114942789078, Validation Loss: 0.0074945781379938126\n",
      "Part: 2/3, Epoch: 46/100, Total Epochs: 146, Train Loss: 0.002440025331452489, Validation Loss: 0.007435700856149197\n",
      "Part: 2/3, Epoch: 47/100, Total Epochs: 147, Train Loss: 0.0023938165977597237, Validation Loss: 0.007378425449132919\n",
      "Part: 2/3, Epoch: 48/100, Total Epochs: 148, Train Loss: 0.002349426969885826, Validation Loss: 0.007323226425796747\n",
      "Part: 2/3, Epoch: 49/100, Total Epochs: 149, Train Loss: 0.002305423840880394, Validation Loss: 0.007268809713423252\n",
      "Part: 2/3, Epoch: 50/100, Total Epochs: 150, Train Loss: 0.0022622100077569485, Validation Loss: 0.007215061224997044\n",
      "Part: 2/3, Epoch: 51/100, Total Epochs: 151, Train Loss: 0.0022201435640454292, Validation Loss: 0.00716282706707716\n",
      "Part: 2/3, Epoch: 52/100, Total Epochs: 152, Train Loss: 0.0021789390593767166, Validation Loss: 0.0071116224862635136\n",
      "Part: 2/3, Epoch: 53/100, Total Epochs: 153, Train Loss: 0.002138867974281311, Validation Loss: 0.007061381358653307\n",
      "Part: 2/3, Epoch: 54/100, Total Epochs: 154, Train Loss: 0.002100112847983837, Validation Loss: 0.007012244313955307\n",
      "Part: 2/3, Epoch: 55/100, Total Epochs: 155, Train Loss: 0.002062773797661066, Validation Loss: 0.006964290514588356\n",
      "Part: 2/3, Epoch: 56/100, Total Epochs: 156, Train Loss: 0.0020272256806492805, Validation Loss: 0.006917138583958149\n",
      "Part: 2/3, Epoch: 57/100, Total Epochs: 157, Train Loss: 0.001993352547287941, Validation Loss: 0.006870729383081198\n",
      "Part: 2/3, Epoch: 58/100, Total Epochs: 158, Train Loss: 0.0019608289003372192, Validation Loss: 0.006825214251875877\n",
      "Part: 2/3, Epoch: 59/100, Total Epochs: 159, Train Loss: 0.0019296412356197834, Validation Loss: 0.006780725903809071\n",
      "Part: 2/3, Epoch: 60/100, Total Epochs: 160, Train Loss: 0.0018995137652382255, Validation Loss: 0.00673735560849309\n",
      "INFO:tensorflow:Assets written to: saved_models\\model_epoch_160\\assets\n"
     ]
    },
    {
     "name": "stderr",
     "output_type": "stream",
     "text": [
      "INFO:tensorflow:Assets written to: saved_models\\model_epoch_160\\assets\n"
     ]
    },
    {
     "name": "stdout",
     "output_type": "stream",
     "text": [
      "Model and weights saved at epoch 160\n",
      "Part: 2/3, Epoch: 61/100, Total Epochs: 161, Train Loss: 0.0018705802503973246, Validation Loss: 0.006694989278912544\n",
      "Part: 2/3, Epoch: 62/100, Total Epochs: 162, Train Loss: 0.0018426491878926754, Validation Loss: 0.006653585471212864\n",
      "Part: 2/3, Epoch: 63/100, Total Epochs: 163, Train Loss: 0.0018157256999984384, Validation Loss: 0.006612027995288372\n",
      "Part: 2/3, Epoch: 64/100, Total Epochs: 164, Train Loss: 0.0017892179312184453, Validation Loss: 0.006570285186171532\n",
      "Part: 2/3, Epoch: 65/100, Total Epochs: 165, Train Loss: 0.0017633078387007117, Validation Loss: 0.006529497914016247\n",
      "Part: 2/3, Epoch: 66/100, Total Epochs: 166, Train Loss: 0.0017381059005856514, Validation Loss: 0.006489869672805071\n",
      "Part: 2/3, Epoch: 67/100, Total Epochs: 167, Train Loss: 0.0017136596143245697, Validation Loss: 0.006451298948377371\n",
      "Part: 2/3, Epoch: 68/100, Total Epochs: 168, Train Loss: 0.0016898097237572074, Validation Loss: 0.006413803901523352\n",
      "Part: 2/3, Epoch: 69/100, Total Epochs: 169, Train Loss: 0.001665420364588499, Validation Loss: 0.006376669742166996\n",
      "Part: 2/3, Epoch: 70/100, Total Epochs: 170, Train Loss: 0.0016408134251832962, Validation Loss: 0.006340425461530685\n",
      "Part: 2/3, Epoch: 71/100, Total Epochs: 171, Train Loss: 0.0016164693515747786, Validation Loss: 0.0063050673343241215\n",
      "Part: 2/3, Epoch: 72/100, Total Epochs: 172, Train Loss: 0.0015926273772493005, Validation Loss: 0.006270607467740774\n",
      "Part: 2/3, Epoch: 73/100, Total Epochs: 173, Train Loss: 0.00156941800378263, Validation Loss: 0.006237040739506483\n",
      "Part: 2/3, Epoch: 74/100, Total Epochs: 174, Train Loss: 0.0015469137579202652, Validation Loss: 0.006204324308782816\n",
      "Part: 2/3, Epoch: 75/100, Total Epochs: 175, Train Loss: 0.0015251713339239359, Validation Loss: 0.006172447465360165\n",
      "Part: 2/3, Epoch: 76/100, Total Epochs: 176, Train Loss: 0.0015041881706565619, Validation Loss: 0.006141623016446829\n",
      "Part: 2/3, Epoch: 77/100, Total Epochs: 177, Train Loss: 0.0014838599599897861, Validation Loss: 0.006112195551395416\n",
      "Part: 2/3, Epoch: 78/100, Total Epochs: 178, Train Loss: 0.0014647507341578603, Validation Loss: 0.006084599997848272\n",
      "Part: 2/3, Epoch: 79/100, Total Epochs: 179, Train Loss: 0.0014463129919022322, Validation Loss: 0.006057261489331722\n",
      "Part: 2/3, Epoch: 80/100, Total Epochs: 180, Train Loss: 0.001428529853001237, Validation Loss: 0.0060297343879938126\n",
      "INFO:tensorflow:Assets written to: saved_models\\model_epoch_180\\assets\n"
     ]
    },
    {
     "name": "stderr",
     "output_type": "stream",
     "text": [
      "INFO:tensorflow:Assets written to: saved_models\\model_epoch_180\\assets\n"
     ]
    },
    {
     "name": "stdout",
     "output_type": "stream",
     "text": [
      "Model and weights saved at epoch 180\n",
      "Part: 2/3, Epoch: 81/100, Total Epochs: 181, Train Loss: 0.0014113974757492542, Validation Loss: 0.006002307403832674\n",
      "Part: 2/3, Epoch: 82/100, Total Epochs: 182, Train Loss: 0.001395010040141642, Validation Loss: 0.00597531720995903\n",
      "Part: 2/3, Epoch: 83/100, Total Epochs: 183, Train Loss: 0.0013791159726679325, Validation Loss: 0.005948605015873909\n",
      "Part: 2/3, Epoch: 84/100, Total Epochs: 184, Train Loss: 0.0013636737130582333, Validation Loss: 0.005922479555010796\n",
      "Part: 2/3, Epoch: 85/100, Total Epochs: 185, Train Loss: 0.0013485746458172798, Validation Loss: 0.005896946880966425\n",
      "Part: 2/3, Epoch: 86/100, Total Epochs: 186, Train Loss: 0.0013336159754544497, Validation Loss: 0.005872057750821114\n",
      "Part: 2/3, Epoch: 87/100, Total Epochs: 187, Train Loss: 0.0013190301833674312, Validation Loss: 0.005847787484526634\n",
      "Part: 2/3, Epoch: 88/100, Total Epochs: 188, Train Loss: 0.001304907607845962, Validation Loss: 0.005824119783937931\n",
      "Part: 2/3, Epoch: 89/100, Total Epochs: 189, Train Loss: 0.001291259890422225, Validation Loss: 0.005801044870167971\n",
      "Part: 2/3, Epoch: 90/100, Total Epochs: 190, Train Loss: 0.001278189942240715, Validation Loss: 0.005778477527201176\n",
      "Part: 2/3, Epoch: 91/100, Total Epochs: 191, Train Loss: 0.0012655226746574044, Validation Loss: 0.005756409838795662\n",
      "Part: 2/3, Epoch: 92/100, Total Epochs: 192, Train Loss: 0.0012531173415482044, Validation Loss: 0.005734850186854601\n",
      "Part: 2/3, Epoch: 93/100, Total Epochs: 193, Train Loss: 0.001241062069311738, Validation Loss: 0.0057138195261359215\n",
      "Part: 2/3, Epoch: 94/100, Total Epochs: 194, Train Loss: 0.0012293492909520864, Validation Loss: 0.005693297367542982\n",
      "Part: 2/3, Epoch: 95/100, Total Epochs: 195, Train Loss: 0.0012179738841950893, Validation Loss: 0.005673287436366081\n",
      "Part: 2/3, Epoch: 96/100, Total Epochs: 196, Train Loss: 0.0012070294469594955, Validation Loss: 0.005654043983668089\n",
      "Part: 2/3, Epoch: 97/100, Total Epochs: 197, Train Loss: 0.0011964128352701664, Validation Loss: 0.005635899491608143\n",
      "Part: 2/3, Epoch: 98/100, Total Epochs: 198, Train Loss: 0.0011861895909532905, Validation Loss: 0.005618513096123934\n",
      "Part: 2/3, Epoch: 99/100, Total Epochs: 199, Train Loss: 0.0011762750800698996, Validation Loss: 0.005601467564702034\n",
      "Part: 2/3, Epoch: 100/100, Total Epochs: 200, Train Loss: 0.001166636124253273, Validation Loss: 0.0055847978219389915\n",
      "INFO:tensorflow:Assets written to: saved_models\\model_epoch_200\\assets\n"
     ]
    },
    {
     "name": "stderr",
     "output_type": "stream",
     "text": [
      "INFO:tensorflow:Assets written to: saved_models\\model_epoch_200\\assets\n"
     ]
    },
    {
     "name": "stdout",
     "output_type": "stream",
     "text": [
      "Model and weights saved at epoch 200\n",
      "Part: 3/3, Epoch: 1/100, Total Epochs: 201, Train Loss: 0.03591203689575195, Validation Loss: 0.005513753276318312\n",
      "Part: 3/3, Epoch: 2/100, Total Epochs: 202, Train Loss: 0.03461267799139023, Validation Loss: 0.0052139549516141415\n",
      "Part: 3/3, Epoch: 3/100, Total Epochs: 203, Train Loss: 0.033220842480659485, Validation Loss: 0.004848943091928959\n",
      "Part: 3/3, Epoch: 4/100, Total Epochs: 204, Train Loss: 0.03184672072529793, Validation Loss: 0.004480934701859951\n",
      "Part: 3/3, Epoch: 5/100, Total Epochs: 205, Train Loss: 0.0306354071944952, Validation Loss: 0.004136129282414913\n",
      "Part: 3/3, Epoch: 6/100, Total Epochs: 206, Train Loss: 0.029540836811065674, Validation Loss: 0.0038129205349832773\n",
      "Part: 3/3, Epoch: 7/100, Total Epochs: 207, Train Loss: 0.028579765930771828, Validation Loss: 0.003503674641251564\n",
      "Part: 3/3, Epoch: 8/100, Total Epochs: 208, Train Loss: 0.027707785367965698, Validation Loss: 0.00322196283377707\n",
      "Part: 3/3, Epoch: 9/100, Total Epochs: 209, Train Loss: 0.02687239646911621, Validation Loss: 0.002969451481476426\n",
      "Part: 3/3, Epoch: 10/100, Total Epochs: 210, Train Loss: 0.026082484051585197, Validation Loss: 0.0027452828362584114\n",
      "Part: 3/3, Epoch: 11/100, Total Epochs: 211, Train Loss: 0.0252530574798584, Validation Loss: 0.0025428005028516054\n",
      "Part: 3/3, Epoch: 12/100, Total Epochs: 212, Train Loss: 0.024390973150730133, Validation Loss: 0.0023576414678245783\n",
      "Part: 3/3, Epoch: 13/100, Total Epochs: 213, Train Loss: 0.023516183719038963, Validation Loss: 0.0021870851051062346\n",
      "Part: 3/3, Epoch: 14/100, Total Epochs: 214, Train Loss: 0.022642850875854492, Validation Loss: 0.0020370197016745806\n",
      "Part: 3/3, Epoch: 15/100, Total Epochs: 215, Train Loss: 0.0218332652002573, Validation Loss: 0.0019113663583993912\n",
      "Part: 3/3, Epoch: 16/100, Total Epochs: 216, Train Loss: 0.021072208881378174, Validation Loss: 0.0018033920787274837\n",
      "Part: 3/3, Epoch: 17/100, Total Epochs: 217, Train Loss: 0.02039431594312191, Validation Loss: 0.0017125518061220646\n",
      "Part: 3/3, Epoch: 18/100, Total Epochs: 218, Train Loss: 0.019817940890789032, Validation Loss: 0.0016344391042366624\n",
      "Part: 3/3, Epoch: 19/100, Total Epochs: 219, Train Loss: 0.01931171491742134, Validation Loss: 0.0015664222883060575\n",
      "Part: 3/3, Epoch: 20/100, Total Epochs: 220, Train Loss: 0.018875475972890854, Validation Loss: 0.0015052437083795667\n",
      "INFO:tensorflow:Assets written to: saved_models\\model_epoch_220\\assets\n"
     ]
    },
    {
     "name": "stderr",
     "output_type": "stream",
     "text": [
      "INFO:tensorflow:Assets written to: saved_models\\model_epoch_220\\assets\n"
     ]
    },
    {
     "name": "stdout",
     "output_type": "stream",
     "text": [
      "Model and weights saved at epoch 220\n",
      "Part: 3/3, Epoch: 21/100, Total Epochs: 221, Train Loss: 0.018486224114894867, Validation Loss: 0.0014475317439064384\n",
      "Part: 3/3, Epoch: 22/100, Total Epochs: 222, Train Loss: 0.018128113821148872, Validation Loss: 0.0013943748781457543\n",
      "Part: 3/3, Epoch: 23/100, Total Epochs: 223, Train Loss: 0.017791839316487312, Validation Loss: 0.0013447798555716872\n",
      "Part: 3/3, Epoch: 24/100, Total Epochs: 224, Train Loss: 0.017448360100388527, Validation Loss: 0.0012989732204005122\n",
      "Part: 3/3, Epoch: 25/100, Total Epochs: 225, Train Loss: 0.01710383966565132, Validation Loss: 0.001257368945516646\n",
      "Part: 3/3, Epoch: 26/100, Total Epochs: 226, Train Loss: 0.016751592978835106, Validation Loss: 0.001218971679918468\n",
      "Part: 3/3, Epoch: 27/100, Total Epochs: 227, Train Loss: 0.016385601833462715, Validation Loss: 0.0011870089219883084\n",
      "Part: 3/3, Epoch: 28/100, Total Epochs: 228, Train Loss: 0.016005009412765503, Validation Loss: 0.0011633274843916297\n",
      "Part: 3/3, Epoch: 29/100, Total Epochs: 229, Train Loss: 0.01562979444861412, Validation Loss: 0.0011464867275208235\n",
      "Part: 3/3, Epoch: 30/100, Total Epochs: 230, Train Loss: 0.015243958681821823, Validation Loss: 0.0011347078252583742\n",
      "Part: 3/3, Epoch: 31/100, Total Epochs: 231, Train Loss: 0.014868306927382946, Validation Loss: 0.001126779243350029\n",
      "Part: 3/3, Epoch: 32/100, Total Epochs: 232, Train Loss: 0.014507723040878773, Validation Loss: 0.0011200851295143366\n",
      "Part: 3/3, Epoch: 33/100, Total Epochs: 233, Train Loss: 0.01414875965565443, Validation Loss: 0.001113489386625588\n",
      "Part: 3/3, Epoch: 34/100, Total Epochs: 234, Train Loss: 0.013815839774906635, Validation Loss: 0.0011050741886720061\n",
      "Part: 3/3, Epoch: 35/100, Total Epochs: 235, Train Loss: 0.013474316336214542, Validation Loss: 0.0010944497771561146\n",
      "Part: 3/3, Epoch: 36/100, Total Epochs: 236, Train Loss: 0.013174459338188171, Validation Loss: 0.001081807422451675\n",
      "Part: 3/3, Epoch: 37/100, Total Epochs: 237, Train Loss: 0.012874125503003597, Validation Loss: 0.0010670229094102979\n",
      "Part: 3/3, Epoch: 38/100, Total Epochs: 238, Train Loss: 0.012584651820361614, Validation Loss: 0.001050440245307982\n",
      "Part: 3/3, Epoch: 39/100, Total Epochs: 239, Train Loss: 0.012322665192186832, Validation Loss: 0.0010332923848181963\n",
      "Part: 3/3, Epoch: 40/100, Total Epochs: 240, Train Loss: 0.012065171264111996, Validation Loss: 0.0010160946985706687\n",
      "INFO:tensorflow:Assets written to: saved_models\\model_epoch_240\\assets\n"
     ]
    },
    {
     "name": "stderr",
     "output_type": "stream",
     "text": [
      "INFO:tensorflow:Assets written to: saved_models\\model_epoch_240\\assets\n"
     ]
    },
    {
     "name": "stdout",
     "output_type": "stream",
     "text": [
      "Model and weights saved at epoch 240\n",
      "Part: 3/3, Epoch: 41/100, Total Epochs: 241, Train Loss: 0.011832788586616516, Validation Loss: 0.0009988200617954135\n",
      "Part: 3/3, Epoch: 42/100, Total Epochs: 242, Train Loss: 0.011609233915805817, Validation Loss: 0.0009817380923777819\n",
      "Part: 3/3, Epoch: 43/100, Total Epochs: 243, Train Loss: 0.011390562169253826, Validation Loss: 0.0009627703693695366\n",
      "Part: 3/3, Epoch: 44/100, Total Epochs: 244, Train Loss: 0.01119121816009283, Validation Loss: 0.0009435890824533999\n",
      "Part: 3/3, Epoch: 45/100, Total Epochs: 245, Train Loss: 0.01099205482751131, Validation Loss: 0.0009254871401935816\n",
      "Part: 3/3, Epoch: 46/100, Total Epochs: 246, Train Loss: 0.010803836397826672, Validation Loss: 0.0009074627305381\n",
      "Part: 3/3, Epoch: 47/100, Total Epochs: 247, Train Loss: 0.01062180008739233, Validation Loss: 0.0008898593951016665\n",
      "Part: 3/3, Epoch: 48/100, Total Epochs: 248, Train Loss: 0.010447925888001919, Validation Loss: 0.0008725368534214795\n",
      "Part: 3/3, Epoch: 49/100, Total Epochs: 249, Train Loss: 0.010273999534547329, Validation Loss: 0.0008554481901228428\n",
      "Part: 3/3, Epoch: 50/100, Total Epochs: 250, Train Loss: 0.010113400407135487, Validation Loss: 0.0008389937574975193\n",
      "Part: 3/3, Epoch: 51/100, Total Epochs: 251, Train Loss: 0.009946589358150959, Validation Loss: 0.0008230365347117186\n",
      "Part: 3/3, Epoch: 52/100, Total Epochs: 252, Train Loss: 0.009780732914805412, Validation Loss: 0.0008072262280620635\n",
      "Part: 3/3, Epoch: 53/100, Total Epochs: 253, Train Loss: 0.00962489377707243, Validation Loss: 0.0007913068984635174\n",
      "Part: 3/3, Epoch: 54/100, Total Epochs: 254, Train Loss: 0.009445512667298317, Validation Loss: 0.0007751998491585255\n",
      "Part: 3/3, Epoch: 55/100, Total Epochs: 255, Train Loss: 0.009266982786357403, Validation Loss: 0.0007590235327370465\n",
      "Part: 3/3, Epoch: 56/100, Total Epochs: 256, Train Loss: 0.009081444703042507, Validation Loss: 0.0007432635757140815\n",
      "Part: 3/3, Epoch: 57/100, Total Epochs: 257, Train Loss: 0.008896893821656704, Validation Loss: 0.0007279151468537748\n",
      "Part: 3/3, Epoch: 58/100, Total Epochs: 258, Train Loss: 0.008712951093912125, Validation Loss: 0.0007130324374884367\n",
      "Part: 3/3, Epoch: 59/100, Total Epochs: 259, Train Loss: 0.008519885130226612, Validation Loss: 0.0006992388516664505\n",
      "Part: 3/3, Epoch: 60/100, Total Epochs: 260, Train Loss: 0.008327195420861244, Validation Loss: 0.0006867442862130702\n",
      "INFO:tensorflow:Assets written to: saved_models\\model_epoch_260\\assets\n"
     ]
    },
    {
     "name": "stderr",
     "output_type": "stream",
     "text": [
      "INFO:tensorflow:Assets written to: saved_models\\model_epoch_260\\assets\n"
     ]
    },
    {
     "name": "stdout",
     "output_type": "stream",
     "text": [
      "Model and weights saved at epoch 260\n",
      "Part: 3/3, Epoch: 61/100, Total Epochs: 261, Train Loss: 0.00813241209834814, Validation Loss: 0.0006752110202796757\n",
      "Part: 3/3, Epoch: 62/100, Total Epochs: 262, Train Loss: 0.007933969609439373, Validation Loss: 0.0006644767126999795\n",
      "Part: 3/3, Epoch: 63/100, Total Epochs: 263, Train Loss: 0.00773830758407712, Validation Loss: 0.0006548271630890667\n",
      "Part: 3/3, Epoch: 64/100, Total Epochs: 264, Train Loss: 0.007544511463493109, Validation Loss: 0.0006465289043262601\n",
      "Part: 3/3, Epoch: 65/100, Total Epochs: 265, Train Loss: 0.007347773760557175, Validation Loss: 0.0006396076059900224\n",
      "Part: 3/3, Epoch: 66/100, Total Epochs: 266, Train Loss: 0.007152825128287077, Validation Loss: 0.0006335482466965914\n",
      "Part: 3/3, Epoch: 67/100, Total Epochs: 267, Train Loss: 0.006958877667784691, Validation Loss: 0.0006281621172092855\n",
      "Part: 3/3, Epoch: 68/100, Total Epochs: 268, Train Loss: 0.006773448083549738, Validation Loss: 0.0006234869360923767\n",
      "Part: 3/3, Epoch: 69/100, Total Epochs: 269, Train Loss: 0.0065932669676840305, Validation Loss: 0.0006195557652972639\n",
      "Part: 3/3, Epoch: 70/100, Total Epochs: 270, Train Loss: 0.006415667477995157, Validation Loss: 0.0006165571394376457\n",
      "Part: 3/3, Epoch: 71/100, Total Epochs: 271, Train Loss: 0.006250400096178055, Validation Loss: 0.0006144806975498796\n",
      "Part: 3/3, Epoch: 72/100, Total Epochs: 272, Train Loss: 0.006103869061917067, Validation Loss: 0.0006127162487246096\n",
      "Part: 3/3, Epoch: 73/100, Total Epochs: 273, Train Loss: 0.005967376288026571, Validation Loss: 0.0006113094859756529\n",
      "Part: 3/3, Epoch: 74/100, Total Epochs: 274, Train Loss: 0.005847841966897249, Validation Loss: 0.0006098836311139166\n",
      "Part: 3/3, Epoch: 75/100, Total Epochs: 275, Train Loss: 0.005738594103604555, Validation Loss: 0.0006082970066927373\n",
      "Part: 3/3, Epoch: 76/100, Total Epochs: 276, Train Loss: 0.0056393821723759174, Validation Loss: 0.0006065827910788357\n",
      "Part: 3/3, Epoch: 77/100, Total Epochs: 277, Train Loss: 0.005547559354454279, Validation Loss: 0.0006046476191841066\n",
      "Part: 3/3, Epoch: 78/100, Total Epochs: 278, Train Loss: 0.005458671133965254, Validation Loss: 0.0006026224000379443\n",
      "Part: 3/3, Epoch: 79/100, Total Epochs: 279, Train Loss: 0.005370518192648888, Validation Loss: 0.0006010085926391184\n",
      "Part: 3/3, Epoch: 80/100, Total Epochs: 280, Train Loss: 0.005288174841552973, Validation Loss: 0.0005994658567942679\n",
      "INFO:tensorflow:Assets written to: saved_models\\model_epoch_280\\assets\n"
     ]
    },
    {
     "name": "stderr",
     "output_type": "stream",
     "text": [
      "INFO:tensorflow:Assets written to: saved_models\\model_epoch_280\\assets\n"
     ]
    },
    {
     "name": "stdout",
     "output_type": "stream",
     "text": [
      "Model and weights saved at epoch 280\n",
      "Part: 3/3, Epoch: 81/100, Total Epochs: 281, Train Loss: 0.0052096787840127945, Validation Loss: 0.0005982047296129167\n",
      "Part: 3/3, Epoch: 82/100, Total Epochs: 282, Train Loss: 0.005137139465659857, Validation Loss: 0.0005969933117739856\n",
      "Part: 3/3, Epoch: 83/100, Total Epochs: 283, Train Loss: 0.005066392477601767, Validation Loss: 0.0005957113462500274\n",
      "Part: 3/3, Epoch: 84/100, Total Epochs: 284, Train Loss: 0.004999719560146332, Validation Loss: 0.0005943572032265365\n",
      "Part: 3/3, Epoch: 85/100, Total Epochs: 285, Train Loss: 0.004934166092425585, Validation Loss: 0.0005929343751631677\n",
      "Part: 3/3, Epoch: 86/100, Total Epochs: 286, Train Loss: 0.004868768155574799, Validation Loss: 0.0005914921057410538\n",
      "Part: 3/3, Epoch: 87/100, Total Epochs: 287, Train Loss: 0.004806416109204292, Validation Loss: 0.0005901168333366513\n",
      "Part: 3/3, Epoch: 88/100, Total Epochs: 288, Train Loss: 0.004741871263831854, Validation Loss: 0.0005889813764952123\n",
      "Part: 3/3, Epoch: 89/100, Total Epochs: 289, Train Loss: 0.00468149408698082, Validation Loss: 0.0005878245574422181\n",
      "Part: 3/3, Epoch: 90/100, Total Epochs: 290, Train Loss: 0.004621259868144989, Validation Loss: 0.0005866910214535892\n",
      "Part: 3/3, Epoch: 91/100, Total Epochs: 291, Train Loss: 0.0045631518587470055, Validation Loss: 0.0005855316412635148\n",
      "Part: 3/3, Epoch: 92/100, Total Epochs: 292, Train Loss: 0.0045075565576553345, Validation Loss: 0.0005843644612468779\n",
      "Part: 3/3, Epoch: 93/100, Total Epochs: 293, Train Loss: 0.004450343083590269, Validation Loss: 0.0005833885516040027\n",
      "Part: 3/3, Epoch: 94/100, Total Epochs: 294, Train Loss: 0.004396175965666771, Validation Loss: 0.0005823936662636697\n",
      "Part: 3/3, Epoch: 95/100, Total Epochs: 295, Train Loss: 0.0043419343419373035, Validation Loss: 0.0005813752650283277\n",
      "Part: 3/3, Epoch: 96/100, Total Epochs: 296, Train Loss: 0.004288815427571535, Validation Loss: 0.0005803119856864214\n",
      "Part: 3/3, Epoch: 97/100, Total Epochs: 297, Train Loss: 0.004236206877976656, Validation Loss: 0.0005792300216853619\n",
      "Part: 3/3, Epoch: 98/100, Total Epochs: 298, Train Loss: 0.004193140659481287, Validation Loss: 0.0005783519591204822\n",
      "Part: 3/3, Epoch: 99/100, Total Epochs: 299, Train Loss: 0.004152728710323572, Validation Loss: 0.0005768462433479726\n",
      "Part: 3/3, Epoch: 100/100, Total Epochs: 300, Train Loss: 0.004112511873245239, Validation Loss: 0.0005746372044086456\n",
      "INFO:tensorflow:Assets written to: saved_models\\model_epoch_300\\assets\n"
     ]
    },
    {
     "name": "stderr",
     "output_type": "stream",
     "text": [
      "INFO:tensorflow:Assets written to: saved_models\\model_epoch_300\\assets\n"
     ]
    },
    {
     "name": "stdout",
     "output_type": "stream",
     "text": [
      "Model and weights saved at epoch 300\n"
     ]
    }
   ],
   "source": [
    "# Training loop\n",
    "EPOCHS = 100\n",
    "BATCH_SIZE = 64\n",
    "num_parts = 3\n",
    "part_size = len(df_sorted) // num_parts\n",
    "\n",
    "total_epochs_elapsed = 0  # Counter for total number of epochs elapsed\n",
    "\n",
    "# Lists to store the mean train and validation losses for each epoch across all parts\n",
    "all_train_losses = []\n",
    "all_val_losses = []\n",
    "\n",
    "for part in range(num_parts):\n",
    "    # Determine the dataset subset for the current part\n",
    "    end_idx = (part + 1) * part_size\n",
    "    X_subset, y_subset = prepare_data(df_sorted.iloc[:end_idx])\n",
    "\n",
    "    # Convert X_subset and y_subset to a single numpy array\n",
    "    X_subset = np.array(X_subset)\n",
    "    X_subset = [X_subset, y_subset]\n",
    "    y_subset = np.array(y_subset)\n",
    "\n",
    "\n",
    "    for epoch in range(EPOCHS):\n",
    "        train_losses_per_epoch = []\n",
    "        val_losses_per_epoch = []\n",
    "\n",
    "        for i in range(0, len(X_subset[0]), BATCH_SIZE):\n",
    "            # print('len of X_subset[0][i:i+BATCH_SIZE]: ', len(X_subset[0][i:i+BATCH_SIZE]))\n",
    "            X_batch = [X_subset[0][i:i+BATCH_SIZE], X_subset[1][i:i+BATCH_SIZE]]\n",
    "            y_batch = y_subset[i:i+BATCH_SIZE]\n",
    "\n",
    "            # Training and validation steps remain unchanged\n",
    "            train_loss = train_step(X_batch, y_batch)\n",
    "            val_loss = validate_step(X_test, y_test)\n",
    "            train_losses_per_epoch.append(train_loss)\n",
    "            val_losses_per_epoch.append(val_loss)\n",
    "\n",
    "        mean_train_loss = np.mean(train_losses_per_epoch)\n",
    "        mean_val_loss = np.mean(val_losses_per_epoch)\n",
    "\n",
    "        # Store the mean losses for this epoch\n",
    "        all_train_losses.append(mean_train_loss)\n",
    "        all_val_losses.append(mean_val_loss)\n",
    "\n",
    "        total_epochs_elapsed += 1\n",
    "        print(f\"Part: {part+1}/{num_parts}, Epoch: {epoch+1}/{EPOCHS}, Total Epochs: {total_epochs_elapsed}, Train Loss: {mean_train_loss}, Validation Loss: {mean_val_loss}\")\n",
    "\n",
    "        if total_epochs_elapsed % 20 == 0:\n",
    "          model_path = os.path.join(model_save_dir, f\"model_epoch_{total_epochs_elapsed}\")\n",
    "          weights_path = os.path.join(model_save_dir, f\"weights_epoch_{total_epochs_elapsed}\")\n",
    "          tf.saved_model.save(model, model_path)\n",
    "          model.save_weights(weights_path)\n",
    "          \n",
    "          print(f\"Model and weights saved at epoch {total_epochs_elapsed}\")\n",
    "            \n",
    "          # Convert the recorded losses into a DataFrame\n",
    "          loss_df = pd.DataFrame({\n",
    "          'Epoch': list(range(1, len(all_train_losses) + 1)),\n",
    "          'Training_Loss': all_train_losses,\n",
    "          'Validation_Loss': all_val_losses\n",
    "           })\n",
    "\n",
    "          # Save the DataFrame to a CSV file\n",
    "          loss_df.to_csv(f'losses_{total_epochs_elapsed}.csv', index=False)  \n",
    "          \n",
    "          print(f\"Losses saved at epoch {total_epochs_elapsed}\")\n",
    "\n",
    "\n",
    "\n",
    "        if mean_train_loss <= 1e-6 or mean_val_loss <= 1e-6:\n",
    "            print(f\"Train Loss: {mean_train_loss} <= 1e-6, skipping to next stage of training\")\n",
    "            break\n"
   ]
  },
  {
   "cell_type": "code",
   "execution_count": null,
   "metadata": {
    "colab": {
     "base_uri": "https://localhost:8080/",
     "height": 175
    },
    "id": "pcaEGqWGvJVE",
    "outputId": "cbda9378-502b-4ba6-d2c4-15ea13b6d7e3"
   },
   "outputs": [
    {
     "ename": "NameError",
     "evalue": "ignored",
     "output_type": "error",
     "traceback": [
      "\u001b[0;31m---------------------------------------------------------------------------\u001b[0m",
      "\u001b[0;31mNameError\u001b[0m                                 Traceback (most recent call last)",
      "\u001b[0;32m<ipython-input-1-c1987622b305>\u001b[0m in \u001b[0;36m<cell line: 1>\u001b[0;34m()\u001b[0m\n\u001b[0;32m----> 1\u001b[0;31m \u001b[0mmodel\u001b[0m\u001b[0;34m.\u001b[0m\u001b[0msave_weights\u001b[0m\u001b[0;34m(\u001b[0m\u001b[0;34m'./checkpoints/my_checkpoint'\u001b[0m\u001b[0;34m)\u001b[0m\u001b[0;34m\u001b[0m\u001b[0;34m\u001b[0m\u001b[0m\n\u001b[0m",
      "\u001b[0;31mNameError\u001b[0m: name 'model' is not defined"
     ]
    }
   ],
   "source": [
    "# model.save_weights('./checkpoints/my_checkpoint')"
   ]
  },
  {
   "cell_type": "code",
   "execution_count": null,
   "metadata": {
    "id": "ozjhzlLFJc9j"
   },
   "outputs": [],
   "source": [
    "# model.save('./saved_model')"
   ]
  },
  {
   "cell_type": "code",
   "execution_count": null,
   "metadata": {
    "id": "VtLX_vklvPwH"
   },
   "outputs": [],
   "source": [
    "# model.load_weights('./saved_models/weights_epoch_200.h5')"
   ]
  },
  {
   "cell_type": "code",
   "execution_count": 14,
   "metadata": {
    "colab": {
     "base_uri": "https://localhost:8080/",
     "height": 598
    },
    "id": "RZbr3DldMg5L",
    "outputId": "deb8cbea-ee7d-4834-cc73-8de9138f0996",
    "tags": []
   },
   "outputs": [],
   "source": [
    "model = tf.saved_model.load(r\"C:\\Users\\ULTIMATEWOWEE\\Documents\\ML4GST\\saved_models\\model_epoch_160\")"
   ]
  },
  {
   "cell_type": "code",
   "execution_count": 7,
   "metadata": {
    "colab": {
     "base_uri": "https://localhost:8080/",
     "height": 262
    },
    "id": "aL6iMAOhH2nj",
    "outputId": "31d27df0-8b1e-4084-cd8b-c30e48a9a5e6",
    "tags": []
   },
   "outputs": [
    {
     "data": {
      "image/png": "[encoded data removed]",
      "text/plain": [
       "<Figure size 1200x600 with 1 Axes>"
      ]
     },
     "metadata": {},
     "output_type": "display_data"
    }
   ],
   "source": [
    "# Plotting training and validation losses\n",
    "import matplotlib.pyplot as plt\n",
    "\n",
    "plt.figure(figsize=(12, 6))\n",
    "plt.plot(all_train_losses, label='Training Loss')\n",
    "plt.plot(all_val_losses, label='Validation Loss')\n",
    "plt.xlabel('Epochs')\n",
    "plt.ylabel('Loss')\n",
    "plt.legend()\n",
    "plt.title('Training and Validation Losses')\n",
    "plt.show()"
   ]
  },
  {
   "cell_type": "code",
   "execution_count": null,
   "metadata": {
    "id": "f0vf6jwkNtYD"
   },
   "outputs": [],
   "source": [
    "# Convert the recorded losses into a DataFrame\n",
    "loss_df = pd.DataFrame({\n",
    "    'Epoch': list(range(1, len(all_train_losses) + 1)),\n",
    "    'Training_Loss': all_train_losses,\n",
    "    'Validation_Loss': all_val_losses\n",
    "})\n",
    "\n",
    "# Save the DataFrame to a CSV file\n",
    "loss_df.to_csv('losses.csv', index=False)\n"
   ]
  },
  {
   "cell_type": "code",
   "execution_count": 8,
   "metadata": {
    "id": "Vd-mE6MJH48G",
    "tags": []
   },
   "outputs": [],
   "source": [
    "# Function to sample part of the training data and evaluate model's performance\n",
    "def sample_and_evaluate(num_samples=20):\n",
    "    indices = np.random.choice(len(X_train[0]), size=num_samples, replace=False)\n",
    "    # indices = [i for i in range(10)]\n",
    "    sampled_X = [tf.cast(X_train[0][indices], dtype=tf.float32), tf.cast(X_train[1][indices], dtype=tf.float32)]\n",
    "    sampled_y = tf.cast(y_train[indices], dtype=tf.float32)\n",
    "    loss = validate_step(sampled_X, sampled_y, print_results = True)\n",
    "    print(f\"Loss on sampled data: {loss.numpy()}\")\n",
    "    return loss.numpy()"
   ]
  },
  {
   "cell_type": "code",
   "execution_count": 9,
   "metadata": {
    "colab": {
     "base_uri": "https://localhost:8080/"
    },
    "id": "wUOTaXO3Mhvq",
    "outputId": "541c2f4a-8e69-48e8-bfc9-a83471375282",
    "tags": []
   },
   "outputs": [
    {
     "data": {
      "text/plain": [
       "array([2, 2, 2, 2, 2, 2, 2, 0, 0, 0, 0, 0, 0, 0, 0, 0, 0, 0, 0, 0])"
      ]
     },
     "execution_count": 9,
     "metadata": {},
     "output_type": "execute_result"
    }
   ],
   "source": [
    "X_train[0][0]"
   ]
  },
  {
   "cell_type": "code",
   "execution_count": 10,
   "metadata": {
    "colab": {
     "base_uri": "https://localhost:8080/"
    },
    "id": "aurMt4AwNa40",
    "outputId": "550fcb81-85ed-40a6-fd52-de67b6154c83",
    "tags": []
   },
   "outputs": [
    {
     "name": "stdout",
     "output_type": "stream",
     "text": [
      "batched_errors:  [<tf.Tensor: shape=(2,), dtype=float32, numpy=array([0.        , 0.05686548], dtype=float32)>, <tf.Tensor: shape=(2,), dtype=float32, numpy=array([0.        , 0.07216448], dtype=float32)>, <tf.Tensor: shape=(2,), dtype=float32, numpy=array([0.       , 0.2193803], dtype=float32)>, <tf.Tensor: shape=(2,), dtype=float32, numpy=array([0.        , 0.16778213], dtype=float32)>, <tf.Tensor: shape=(2,), dtype=float32, numpy=array([0.        , 0.23472401], dtype=float32)>, <tf.Tensor: shape=(2,), dtype=float32, numpy=array([0.        , 0.10291527], dtype=float32)>, <tf.Tensor: shape=(2,), dtype=float32, numpy=array([0.        , 0.13007769], dtype=float32)>, <tf.Tensor: shape=(2,), dtype=float32, numpy=array([0.      , 0.013388], dtype=float32)>, <tf.Tensor: shape=(2,), dtype=float32, numpy=array([0.        , 0.07944658], dtype=float32)>, <tf.Tensor: shape=(2,), dtype=float32, numpy=array([0.        , 0.10619263], dtype=float32)>, <tf.Tensor: shape=(2,), dtype=float32, numpy=array([0.       , 0.0976921], dtype=float32)>, <tf.Tensor: shape=(2,), dtype=float32, numpy=array([0.       , 0.0861585], dtype=float32)>, <tf.Tensor: shape=(2,), dtype=float32, numpy=array([0.        , 0.11786254], dtype=float32)>, <tf.Tensor: shape=(2,), dtype=float32, numpy=array([0.        , 0.15170997], dtype=float32)>, <tf.Tensor: shape=(2,), dtype=float32, numpy=array([0.        , 0.15934655], dtype=float32)>, <tf.Tensor: shape=(2,), dtype=float32, numpy=array([0.        , 0.03017879], dtype=float32)>, <tf.Tensor: shape=(2,), dtype=float32, numpy=array([0.        , 0.12843944], dtype=float32)>, <tf.Tensor: shape=(2,), dtype=float32, numpy=array([0.        , 0.09629727], dtype=float32)>, <tf.Tensor: shape=(2,), dtype=float32, numpy=array([0.        , 0.18419944], dtype=float32)>, <tf.Tensor: shape=(2,), dtype=float32, numpy=array([0.        , 0.17649446], dtype=float32)>]\n",
      "Loss on sampled data: 0.005803531501442194\n"
     ]
    },
    {
     "data": {
      "text/plain": [
       "0.0058035315"
      ]
     },
     "execution_count": 10,
     "metadata": {},
     "output_type": "execute_result"
    }
   ],
   "source": [
    "sample_and_evaluate()"
   ]
  },
  {
   "cell_type": "code",
   "execution_count": null,
   "metadata": {
    "colab": {
     "base_uri": "https://localhost:8080/"
    },
    "id": "fCP-Ov4QcTyl",
    "outputId": "82feba0f-61ce-4c1e-a2ab-e6ca7c2d3d37"
   },
   "outputs": [
    {
     "data": {
      "text/plain": [
       "<tf.Tensor: shape=(), dtype=int32, numpy=272>"
      ]
     },
     "execution_count": 7,
     "metadata": {},
     "output_type": "execute_result"
    }
   ],
   "source": [
    "tf.shape(X_train)[0]"
   ]
  },
  {
   "cell_type": "code",
   "execution_count": null,
   "metadata": {
    "colab": {
     "base_uri": "https://localhost:8080/"
    },
    "id": "ntIlL0UZeYVi",
    "outputId": "8623848e-72c1-4ce1-dd79-7db74a79d2bc"
   },
   "outputs": [
    {
     "name": "stdout",
     "output_type": "stream",
     "text": [
      "current label:  0\n"
     ]
    },
    {
     "data": {
      "text/plain": [
       "array([0.70710677, 0.        , 0.        , 0.70710677], dtype=float32)"
      ]
     },
     "execution_count": 35,
     "metadata": {},
     "output_type": "execute_result"
    }
   ],
   "source": [
    "apply_gate(np.array([1/np.sqrt(2), 0, 0, 1/np.sqrt(2)], dtype=np.float32), 0.5, 0)"
   ]
  },
  {
   "cell_type": "code",
   "execution_count": null,
   "metadata": {
    "id": "Jw0N66NJk3IN"
   },
   "outputs": [],
   "source": [
    "test_vector = np.array(\n",
    "    [[ 0.70710677],\n",
    "     [-0.7064972 ],\n",
    "     [ 0.        ],\n",
    "     [-0.02935636]], dtype=np.float32)"
   ]
  },
  {
   "cell_type": "code",
   "execution_count": null,
   "metadata": {
    "colab": {
     "base_uri": "https://localhost:8080/"
    },
    "id": "Zp_bRrqOlnbm",
    "outputId": "b2cfafa3-bc67-4983-d253-52fa87ddaeb7"
   },
   "outputs": [
    {
     "data": {
      "text/plain": [
       "(4, 1)"
      ]
     },
     "execution_count": 53,
     "metadata": {},
     "output_type": "execute_result"
    }
   ],
   "source": [
    "test_vector.shape"
   ]
  },
  {
   "cell_type": "code",
   "execution_count": null,
   "metadata": {
    "colab": {
     "base_uri": "https://localhost:8080/"
    },
    "id": "LacrNsyblsfq",
    "outputId": "a81f37b0-73b8-4afb-b3d7-e897e6889fe5"
   },
   "outputs": [
    {
     "data": {
      "text/plain": [
       "TensorShape([4])"
      ]
     },
     "execution_count": 56,
     "metadata": {},
     "output_type": "execute_result"
    }
   ],
   "source": [
    "tf.squeeze(test_vector).shape"
   ]
  },
  {
   "cell_type": "code",
   "execution_count": null,
   "metadata": {
    "colab": {
     "base_uri": "https://localhost:8080/"
    },
    "id": "lmMaS4Crkokb",
    "outputId": "15ccd2cd-df57-40f9-b457-a5828f2f5e9e"
   },
   "outputs": [
    {
     "data": {
      "text/plain": [
       "(<tf.Tensor: shape=(), dtype=float32, numpy=0.99999994>,\n",
       " <tf.Tensor: shape=(), dtype=float32, numpy=0.0>)"
      ]
     },
     "execution_count": 44,
     "metadata": {},
     "output_type": "execute_result"
    }
   ],
   "source": [
    "compute_probabilities(tf.constant([1, 0, 0, 1], dtype=tf.float32))"
   ]
  },
  {
   "cell_type": "code",
   "execution_count": null,
   "metadata": {
    "colab": {
     "base_uri": "https://localhost:8080/"
    },
    "id": "dTnDDEUNkbg-",
    "outputId": "a2706368-ea03-42a4-d950-faad34fa70b2"
   },
   "outputs": [
    {
     "data": {
      "text/plain": [
       "(<tf.Tensor: shape=(), dtype=float32, numpy=0.0>,\n",
       " <tf.Tensor: shape=(), dtype=float32, numpy=0.99999994>)"
      ]
     },
     "execution_count": 43,
     "metadata": {},
     "output_type": "execute_result"
    }
   ],
   "source": [
    "compute_probabilities(tf.constant([1, 0, 0, -1], dtype=tf.float32))"
   ]
  },
  {
   "cell_type": "code",
   "execution_count": null,
   "metadata": {
    "id": "ASCr3ie5SjJN"
   },
   "outputs": [],
   "source": [
    "# for i in range (tf.shape(X_train[:1])[0]):\n",
    "#   single_sequence = tf.gather(X_train, i, axis=0)\n",
    "#   print('single_sequence: ', single_sequence)\n",
    "#   final_state = apply_gate_sequence(single_sequence)\n",
    "#   print('final_state: ', final_state)\n",
    "#   probabilities = compute_probabilities(final_state)\n",
    "#   print('probabilities: ',probabilities )"
   ]
  },
  {
   "cell_type": "code",
   "execution_count": null,
   "metadata": {
    "colab": {
     "base_uri": "https://localhost:8080/"
    },
    "id": "bF4T9A-dOFuD",
    "outputId": "492d9a19-85de-4169-f308-73d24b015811"
   },
   "outputs": [
    {
     "data": {
      "text/plain": [
       "20"
      ]
     },
     "execution_count": 57,
     "metadata": {},
     "output_type": "execute_result"
    }
   ],
   "source": [
    "len(X_train[0])"
   ]
  },
  {
   "cell_type": "code",
   "execution_count": null,
   "metadata": {
    "id": "7EpcfNO0PMaL"
   },
   "outputs": [],
   "source": [
    "debug = tf.convert_to_tensor([[1, 0, 0, 0], [0, tf.math.cos(0.5), 0, tf.math.sin(0.5)],\n",
    "                           [0, 0, 1, 0], [0, -tf.math.sin(0.5), 0, tf.math.cos(0.5)]], dtype=tf.float32)"
   ]
  },
  {
   "cell_type": "code",
   "execution_count": null,
   "metadata": {
    "colab": {
     "base_uri": "https://localhost:8080/"
    },
    "id": "DNKTrgdkRHhi",
    "outputId": "7f3f7c76-53de-476b-c10c-9999a25d3189"
   },
   "outputs": [
    {
     "data": {
      "text/plain": [
       "<tf.Tensor: shape=(4, 4), dtype=float32, numpy=\n",
       "array([[ 1.        ,  0.        ,  0.        ,  0.        ],\n",
       "       [ 0.        ,  0.87758255,  0.        ,  0.47942555],\n",
       "       [ 0.        ,  0.        ,  1.        ,  0.        ],\n",
       "       [ 0.        , -0.47942555,  0.        ,  0.87758255]],\n",
       "      dtype=float32)>"
      ]
     },
     "execution_count": 69,
     "metadata": {},
     "output_type": "execute_result"
    }
   ],
   "source": [
    "debug"
   ]
  }
 ],
 "metadata": {
  "colab": {
   "provenance": []
  },
  "kernelspec": {
   "display_name": "Python 3 (ipykernel)",
   "language": "python",
   "name": "python3"
  },
  "language_info": {
   "codemirror_mode": {
    "name": "ipython",
    "version": 3
   },
   "file_extension": ".py",
   "mimetype": "text/x-python",
   "name": "python",
   "nbconvert_exporter": "python",
   "pygments_lexer": "ipython3",
   "version": "3.10.12"
  }
 },
 "nbformat": 4,
 "nbformat_minor": 4
}
